{
 "cells": [
  {
   "cell_type": "code",
   "execution_count": 8,
   "id": "ruled-catch",
   "metadata": {
    "scrolled": true,
    "tags": []
   },
   "outputs": [
    {
     "output_type": "stream",
     "name": "stdout",
     "text": "importing Jupyter notebook from RepeatFinder.ipynb\n"
    },
    {
     "output_type": "execute_result",
     "data": {
      "text/plain": "<module 'RepeatFinder' from 'RepeatFinder.ipynb'>"
     },
     "metadata": {},
     "execution_count": 8
    }
   ],
   "source": [
    "import re\n",
    "import sys\n",
    "import time\n",
    "import copy\n",
    "import timeit\n",
    "import random\n",
    "import statistics\n",
    "import numpy as np \n",
    "import pandas as pd \n",
    "import networkx as nx\n",
    "import matplotlib.pyplot as plt\n",
    "\n",
    "from Bio import SeqIO, pairwise2\n",
    "from Bio.Seq import Seq\n",
    "from Bio.SeqIO.FastaIO import FastaIterator\n",
    "from Bio.pairwise2 import format_alignment\n",
    "from collections import Counter, OrderedDict, namedtuple\n",
    "from itertools import islice, groupby, permutations\n",
    "from prettytable import PrettyTable\n",
    "\n",
    "\n",
    "import import_ipynb\n",
    "from Util import seqInfo, parseFasta, parseSeq, parseSeqByCutter, unifragmentList, fragmentLenPlot\n",
    "from RepeatFinder import findRepeatSeqs, commonRepeatTable, commonRepeatSeqsPosition, commonPositionListToDic, printCommonPositionDic, topRepeatSeqCounter, printTopSeqPercentageTable, integrateRepeatInfo, getSeqPermutation, evaluateRepeat, generateIRSOutputFile, checkTandemRepeatExist, longestCommonLength, integrateTandemRepeatInfo, generateTROutputFile\n",
    "from DataInfo import currDataset, datasetPath, matchPattern, cutter, cutterLen, fragmentN, commonCount\n",
    "from DataStructure import SeqRepeatInfo, PositionInfo, RepeatEvaInfo, TandemRepeatInfo\n",
    "\n",
    "import importlib\n",
    "importlib.reload(sys.modules['RepeatFinder'])\n"
   ]
  },
  {
   "cell_type": "code",
   "execution_count": 3,
   "metadata": {
    "tags": []
   },
   "outputs": [
    {
     "output_type": "stream",
     "name": "stdout",
     "text": "...start parsing extractedDanioRerio.fasta fasta file ...\n...cost4.698576211929321 sec to parse fasta file ...\nextractedDanioRerio.fasta dataset\n number of sequence:5\n total length:332441491\n\n"
    }
   ],
   "source": [
    "parseFastaSeqs = parseFasta(currDataset, datasetPath, matchPattern, matchMode = False)\n",
    "seqInfo(currDataset, parseFastaSeqs)"
   ]
  },
  {
   "cell_type": "code",
   "execution_count": 7,
   "id": "happy-evening",
   "metadata": {
    "scrolled": true,
    "tags": []
   },
   "outputs": [
    {
     "output_type": "stream",
     "name": "stdout",
     "text": "...start parse seq by cutter: GATC\n...cost 3.732182741165161 sec to cut sequence\n"
    }
   ],
   "source": [
    "fragmentsLenList, fragmentsSeqList = parseSeqByCutter(parseFastaSeqs)"
   ]
  },
  {
   "cell_type": "code",
   "execution_count": 5,
   "id": "latin-audio",
   "metadata": {
    "scrolled": true,
    "tags": []
   },
   "outputs": [
    {
     "output_type": "stream",
     "name": "stdout",
     "text": "... start finding repeat seq ...\n...cost2.747093677520752 sec to finding repeat seq  ...\n"
    }
   ],
   "source": [
    "allRepeatSeqCount, commonRepeatSeq, repeatCount, positionDic = findRepeatSeqs(fragmentsLenList, cutter , fragmentN, commonCount, allRepeatSeqType=1)"
   ]
  },
  {
   "cell_type": "code",
   "execution_count": 6,
   "metadata": {
    "tags": []
   },
   "outputs": [],
   "source": [
    "# tandem Repeat in N fragment\n",
    "tandemRepeatList = list(filter(checkTandemRepeatExist, allRepeatSeqCount))\n",
    "tandemRepeatInfoList = integrateTandemRepeatInfo(fragmentsSeqList, fragmentsLenList, tandemRepeatList, positionDic) # integrateTandemRepeatInfo -> only difference is return seq format\n",
    "generateTROutputFile(tandemRepeatInfoList)"
   ]
  },
  {
   "cell_type": "code",
   "execution_count": 114,
   "metadata": {},
   "outputs": [],
   "source": [
    "# interspersed repetitive sequences\n",
    "repeatInfoList = integrateRepeatInfo(fragmentsSeqList, fragmentsLenList, allRepeatSeqCount, positionDic)\n",
    "seqPermutation = getSeqPermutation(repeatInfoList)\n",
    "generateIRSOutputFile(seqPermutation)"
   ]
  },
  {
   "cell_type": "code",
   "execution_count": null,
   "metadata": {},
   "outputs": [],
   "source": []
  },
  {
   "cell_type": "code",
   "execution_count": null,
   "metadata": {},
   "outputs": [],
   "source": []
  },
  {
   "cell_type": "code",
   "execution_count": null,
   "metadata": {},
   "outputs": [],
   "source": []
  },
  {
   "cell_type": "code",
   "execution_count": null,
   "metadata": {},
   "outputs": [],
   "source": [
    "# find repeat seq length list with tolerance\n",
    "topRepeatSeqKey = commonRepeatInfo[0][0]\n",
    "topKeySum = sum(list(topRepeatSeqKey))\n",
    "tolerance = topKeySum *0.05\n",
    "topRepeatSeqKey\n",
    "\n",
    "positionKeys = list(positionDic.keys())\n",
    "\n",
    "matchKeys = []\n",
    "for i in range(len(positionKeys)):\n",
    "    temKey = positionKeys[i]\n",
    "    for j in range(fragmentN):\n",
    "        flag = 1\n",
    "        if abs(topRepeatSeqKey[j]- temKey[j]) >= tolerance:\n",
    "            flag = -1\n",
    "            break\n",
    "    if flag == 1:\n",
    "        matchKeys.append(temKey)\n",
    "        \n",
    "matchLenList = []\n",
    "for i in range(len(matchKeys)):\n",
    "    matchLenList.append(positionDic[matchKeys[i]])"
   ]
  },
  {
   "cell_type": "code",
   "execution_count": null,
   "metadata": {
    "tags": []
   },
   "outputs": [],
   "source": [
    "flattenMatchSeq = [ j for subset in matchLenList for j in subset ]\n",
    "candidatePoiDic = dict()\n",
    "[ candidatePoiDic [t[0]].append(t[1]) if t [0] in list(candidatePoiDic.keys()) else candidatePoiDic.update({t [0]: [t [1]]}) for t in flattenMatchSeq ]\n",
    "sortedCandidatePoiDic = OrderedDict(sorted(candidatePoiDic.items()))"
   ]
  },
  {
   "cell_type": "code",
   "execution_count": null,
   "metadata": {
    "tags": []
   },
   "outputs": [],
   "source": [
    "matchSeqDic = dict()\n",
    "for i in sortedCandidatePoiDic:\n",
    "    chrIndex = i\n",
    "    matchList = []\n",
    "    for j in range(len(sortedCandidatePoiDic[chrIndex])):\n",
    "        startIndex = sortedCandidatePoiDic[chrIndex][j]\n",
    "        combinedSeq = Seq('').join(fragmentsSeqList[chrIndex][startIndex:startIndex+fragmentN])\n",
    "        matchList.append(combinedSeq)\n",
    "    matchSeqDic[chrIndex] = matchList"
   ]
  },
  {
   "cell_type": "code",
   "execution_count": null,
   "metadata": {},
   "outputs": [],
   "source": []
  },
  {
   "cell_type": "code",
   "execution_count": null,
   "metadata": {
    "tags": []
   },
   "outputs": [],
   "source": []
  },
  {
   "cell_type": "code",
   "execution_count": null,
   "metadata": {},
   "outputs": [],
   "source": [
    "# # commonCount repeat sequences\n",
    "# commonPositionList = commonRepeatSeqsPosition(fragmentsLenList, commonRepeatInfo, positionDic, commonCount)\n",
    "# commonPositionDic = commonPositionListToDic(commonPositionList)\n",
    "\n",
    "# # the top common repeat sequence\n",
    "# singleRepeatSeqCount, comRepeatSeqCount = topRepeatSeqCounter(fragmentsSeqList, commonRepeatInfo, positionDic, fragmentN)printTopSeqPercentageTable(comRepeatSeqCount, showPartialSeq=True)"
   ]
  }
 ],
 "metadata": {
  "kernelspec": {
   "display_name": "Python 3",
   "language": "python",
   "name": "python3"
  },
  "language_info": {
   "codemirror_mode": {
    "name": "ipython",
    "version": 3
   },
   "file_extension": ".py",
   "mimetype": "text/x-python",
   "name": "python",
   "nbconvert_exporter": "python",
   "pygments_lexer": "ipython3",
   "version": "3.7.4-final"
  }
 },
 "nbformat": 4,
 "nbformat_minor": 5
}