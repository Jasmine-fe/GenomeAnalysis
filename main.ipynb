{
 "cells": [
  {
   "cell_type": "code",
   "execution_count": 196,
   "id": "ruled-catch",
   "metadata": {
    "scrolled": true,
    "tags": []
   },
   "outputs": [
    {
     "output_type": "stream",
     "name": "stdout",
     "text": "importing Jupyter notebook from RepeatFinder.ipynb\n"
    }
   ],
   "source": [
    "import re\n",
    "import sys\n",
    "import time\n",
    "import copy\n",
    "import timeit\n",
    "import random\n",
    "import statistics\n",
    "import numpy as np \n",
    "import pandas as pd \n",
    "import networkx as nx\n",
    "import matplotlib.pyplot as plt\n",
    "\n",
    "from Bio import SeqIO, pairwise2\n",
    "from Bio.Seq import Seq\n",
    "from Bio.SeqIO.FastaIO import FastaIterator\n",
    "from Bio.pairwise2 import format_alignment\n",
    "from collections import Counter, OrderedDict, namedtuple\n",
    "from itertools import islice, groupby, permutations\n",
    "from prettytable import PrettyTable\n",
    "\n",
    "import importlib\n",
    "importlib.reload(sys.modules['RepeatFinder'])\n",
    "\n",
    "import import_ipynb\n",
    "from Util import seqInfo, parseFasta, parseSeq, parseSeqByCutter, unifragmentList, fragmentLenPlot\n",
    "from RepeatFinder import findRepeatSeqs, commonRepeatTable, commonRepeatSeqsPosition, commonPositionListToDic, printCommonPositionDic, topRepeatSeqCounter, printTopSeqPercentageTable, integrateRepeatInfo, getSeqPermutation, evaluateRepeat, generateOutputFile, longestCommonLength\n",
    "from DataInfo import currDataset, datasetPath, matchPattern, cutter, cutterLen, fragmentN, commonCount\n",
    "from DataStructure import SeqRepeatInfo, PositionInfo, RepeatEvaInfo, TandemRepeatInfo\n",
    "from SuffixTree import STree\n",
    "\n"
   ]
  },
  {
   "cell_type": "code",
   "execution_count": 197,
   "metadata": {
    "tags": []
   },
   "outputs": [
    {
     "output_type": "stream",
     "name": "stdout",
     "text": "...start parsing DanioRerio.fasta fasta file ...\n...cost21.833519220352173 sec to parse fasta file ...\nDanioRerio.fasta dataset\n number of sequence:1922\n total length:1679186873\n\n"
    }
   ],
   "source": [
    "parseFastaSeqs = parseFasta(currDataset, datasetPath, matchPattern, False)\n",
    "seqInfo(currDataset, parseFastaSeqs)"
   ]
  },
  {
   "cell_type": "code",
   "execution_count": 143,
   "id": "happy-evening",
   "metadata": {
    "scrolled": true,
    "tags": []
   },
   "outputs": [
    {
     "output_type": "stream",
     "name": "stdout",
     "text": "...start parse seq by cutter: GATC\n...cost 20.99932289123535 sec to cut sequence\n"
    }
   ],
   "source": [
    "fragmentsLenList, fragmentsSeqList = parseSeqByCutter(parseFastaSeqs)"
   ]
  },
  {
   "cell_type": "code",
   "execution_count": 144,
   "id": "latin-audio",
   "metadata": {
    "scrolled": true,
    "tags": []
   },
   "outputs": [
    {
     "output_type": "stream",
     "name": "stdout",
     "text": "... start finding repeat seq ...\n...cost12.267969131469727 sec to finding repeat seq  ...\n"
    }
   ],
   "source": [
    "allRepeatSeqCount, commonRepeatSeq, repeatCount, positionDic = findRepeatSeqs(fragmentsLenList, cutter , fragmentN, commonCount, allRepeatSeqType=1)"
   ]
  },
  {
   "cell_type": "code",
   "execution_count": null,
   "metadata": {},
   "outputs": [],
   "source": [
    "# repeatCount = len(allRepeatSeqCount)\n",
    "repeatInfoList = integrateRepeatInfo(fragmentsSeqList, fragmentsLenList, allRepeatSeqCount[:10], positionDic)\n",
    "seqPermutation = getSeqPermutation(repeatInfoList)"
   ]
  },
  {
   "cell_type": "code",
   "execution_count": 7,
   "metadata": {
    "tags": []
   },
   "outputs": [],
   "source": [
    "generateOutputFile(seqPermutation)"
   ]
  },
  {
   "cell_type": "code",
   "execution_count": null,
   "metadata": {},
   "outputs": [],
   "source": []
  },
  {
   "cell_type": "code",
   "execution_count": null,
   "metadata": {},
   "outputs": [],
   "source": []
  },
  {
   "cell_type": "code",
   "execution_count": null,
   "metadata": {},
   "outputs": [],
   "source": [
    "tandemRepeatList = list(filter(checkTandemRepeatExist, allRepeatSeqCount[:30]))"
   ]
  },
  {
   "cell_type": "code",
   "execution_count": 22,
   "metadata": {},
   "outputs": [
    {
     "output_type": "execute_result",
     "data": {
      "text/plain": "[((2, 8, 32, 8, 2), 2),\n ((5, 25, 5, 25, 5), 2),\n ((25, 5, 25, 5, 34), 2),\n ((5, 25, 5, 34, 25), 2),\n ((52, 80, 217, 52, 80), 2),\n ((28, 60, 28, 28, 28), 4),\n ((60, 28, 28, 28, 28), 4),\n ((28, 28, 28, 28, 28), 54)]"
     },
     "metadata": {},
     "execution_count": 22
    }
   ],
   "source": [
    "tandemRepeatList"
   ]
  },
  {
   "cell_type": "code",
   "execution_count": 188,
   "metadata": {},
   "outputs": [
    {
     "output_type": "error",
     "ename": "NameError",
     "evalue": "name 'tandemRepeatList' is not defined",
     "traceback": [
      "\u001b[0;31m---------------------------------------------------------------------------\u001b[0m",
      "\u001b[0;31mNameError\u001b[0m                                 Traceback (most recent call last)",
      "\u001b[0;32m<ipython-input-188-b49f4859b9bc>\u001b[0m in \u001b[0;36m<module>\u001b[0;34m\u001b[0m\n\u001b[0;32m----> 1\u001b[0;31m \u001b[0mtandemRepeatInfoList\u001b[0m \u001b[0;34m=\u001b[0m \u001b[0mintegrateRepeatInfo\u001b[0m\u001b[0;34m(\u001b[0m\u001b[0mfragmentsSeqList\u001b[0m\u001b[0;34m,\u001b[0m \u001b[0mfragmentsLenList\u001b[0m\u001b[0;34m,\u001b[0m \u001b[0mtandemRepeatList\u001b[0m\u001b[0;34m,\u001b[0m \u001b[0mpositionDic\u001b[0m\u001b[0;34m)\u001b[0m\u001b[0;34m\u001b[0m\u001b[0;34m\u001b[0m\u001b[0m\n\u001b[0m\u001b[1;32m      2\u001b[0m \u001b[0mtandemRepeatInfoList\u001b[0m\u001b[0;34m\u001b[0m\u001b[0;34m\u001b[0m\u001b[0m\n",
      "\u001b[0;31mNameError\u001b[0m: name 'tandemRepeatList' is not defined"
     ]
    }
   ],
   "source": [
    "tandemRepeatInfoList = integrateRepeatInfo(fragmentsSeqList, fragmentsLenList, tandemRepeatList, positionDic)\n",
    "tandemRepeatInfoList"
   ]
  },
  {
   "cell_type": "code",
   "execution_count": 193,
   "metadata": {},
   "outputs": [],
   "source": [
    "fragmentsLenList = [38, 82, 28, 38, 82, 99, 73, 82, 22, 33, 46, 43, 54, 38, 82, 38, 82, 100 ]\n",
    "matchLen, matchPosition = longestCommonLength(fragmentsLenList)"
   ]
  },
  {
   "cell_type": "code",
   "execution_count": null,
   "metadata": {},
   "outputs": [],
   "source": []
  },
  {
   "cell_type": "code",
   "execution_count": null,
   "metadata": {},
   "outputs": [],
   "source": []
  },
  {
   "cell_type": "code",
   "execution_count": null,
   "metadata": {},
   "outputs": [],
   "source": []
  },
  {
   "cell_type": "code",
   "execution_count": null,
   "metadata": {},
   "outputs": [],
   "source": []
  },
  {
   "cell_type": "code",
   "execution_count": null,
   "metadata": {},
   "outputs": [],
   "source": [
    "# find repeat seq length list with tolerance\n",
    "topRepeatSeqKey = commonRepeatInfo[0][0]\n",
    "topKeySum = sum(list(topRepeatSeqKey))\n",
    "tolerance = topKeySum *0.05\n",
    "topRepeatSeqKey\n",
    "\n",
    "positionKeys = list(positionDic.keys())\n",
    "\n",
    "matchKeys = []\n",
    "for i in range(len(positionKeys)):\n",
    "    temKey = positionKeys[i]\n",
    "    for j in range(fragmentN):\n",
    "        flag = 1\n",
    "        if abs(topRepeatSeqKey[j]- temKey[j]) >= tolerance:\n",
    "            flag = -1\n",
    "            break\n",
    "    if flag == 1:\n",
    "        matchKeys.append(temKey)\n",
    "        \n",
    "matchLenList = []\n",
    "for i in range(len(matchKeys)):\n",
    "    matchLenList.append(positionDic[matchKeys[i]])"
   ]
  },
  {
   "cell_type": "code",
   "execution_count": 12,
   "metadata": {
    "tags": []
   },
   "outputs": [],
   "source": [
    "flattenMatchSeq = [ j for subset in matchLenList for j in subset ]\n",
    "candidatePoiDic = dict()\n",
    "[ candidatePoiDic [t[0]].append(t[1]) if t [0] in list(candidatePoiDic.keys()) else candidatePoiDic.update({t [0]: [t [1]]}) for t in flattenMatchSeq ]\n",
    "sortedCandidatePoiDic = OrderedDict(sorted(candidatePoiDic.items()))"
   ]
  },
  {
   "cell_type": "code",
   "execution_count": 13,
   "metadata": {
    "tags": []
   },
   "outputs": [],
   "source": [
    "matchSeqDic = dict()\n",
    "for i in sortedCandidatePoiDic:\n",
    "    chrIndex = i\n",
    "    matchList = []\n",
    "    for j in range(len(sortedCandidatePoiDic[chrIndex])):\n",
    "        startIndex = sortedCandidatePoiDic[chrIndex][j]\n",
    "        combinedSeq = Seq('').join(fragmentsSeqList[chrIndex][startIndex:startIndex+fragmentN])\n",
    "        matchList.append(combinedSeq)\n",
    "    matchSeqDic[chrIndex] = matchList"
   ]
  },
  {
   "cell_type": "code",
   "execution_count": null,
   "metadata": {},
   "outputs": [],
   "source": [
    "# commonCount repeat sequences\n",
    "commonPositionList = commonRepeatSeqsPosition(fragmentsLenList, commonRepeatInfo, positionDic, commonCount)\n",
    "commonPositionDic = commonPositionListToDic(commonPositionList)\n",
    "# printCommonPositionDic(commonPositionDic)\n",
    "\n",
    "# the top common repeat sequence\n",
    "singleRepeatSeqCount, comRepeatSeqCount = topRepeatSeqCounter(fragmentsSeqList, commonRepeatInfo, positionDic, fragmentN)printTopSeqPercentageTable(comRepeatSeqCount, showPartialSeq=True)"
   ]
  },
  {
   "cell_type": "code",
   "execution_count": null,
   "metadata": {},
   "outputs": [],
   "source": []
  },
  {
   "cell_type": "code",
   "execution_count": 184,
   "metadata": {
    "tags": []
   },
   "outputs": [],
   "source": []
  },
  {
   "cell_type": "code",
   "execution_count": null,
   "metadata": {},
   "outputs": [],
   "source": []
  }
 ],
 "metadata": {
  "kernelspec": {
   "display_name": "Python 3",
   "language": "python",
   "name": "python3"
  },
  "language_info": {
   "codemirror_mode": {
    "name": "ipython",
    "version": 3
   },
   "file_extension": ".py",
   "mimetype": "text/x-python",
   "name": "python",
   "nbconvert_exporter": "python",
   "pygments_lexer": "ipython3",
   "version": "3.7.4-final"
  }
 },
 "nbformat": 4,
 "nbformat_minor": 5
}