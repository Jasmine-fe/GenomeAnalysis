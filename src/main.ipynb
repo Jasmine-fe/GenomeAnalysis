{
 "cells": [
  {
   "cell_type": "code",
   "execution_count": 22,
   "source": [
    "import re\n",
    "import os\n",
    "import sys\n",
    "import csv\n",
    "import numpy as np \n",
    "import pandas as pd\n",
    "import seaborn as sns\n",
    "from matplotlib_venn import venn2\n",
    "from prettytable import PrettyTable\n",
    "from matplotlib import pyplot as plt\n",
    "from Bio import SeqIO, pairwise2, AlignIO\n",
    "from collections import Counter, namedtuple\n",
    "from Bio.Align import AlignInfo, MultipleSeqAlignment\n",
    "import importlib\n",
    "importlib.reload(sys.modules['MultipleCutter'])\n",
    "from Sequence import Sequence\n",
    "from Util.SeqUtil import seqInfo, parseFasta\n",
    "from Evaluation.DfamEvaluation import DfamEvaluation\n",
    "from DataStructure import PositionInfo, refSeqSimilarityInfo\n",
    "from SharedInfo import currDatasetName, cutterA, cutterB, colorA, colorB\n",
    "from Util.AnalysisUtil import listToSortedCounter, getStatisticData, mostCommonTable\n",
    "from Util.PlotUtil import basicPlot, twoLabelBasicPlot, lengthScatterDistributionPlot\n",
    "from MultipleCutter import MultipleCutter"
   ],
   "outputs": [],
   "metadata": {
    "scrolled": true,
    "tags": []
   }
  },
  {
   "cell_type": "markdown",
   "source": [],
   "metadata": {}
  },
  {
   "cell_type": "code",
   "execution_count": 23,
   "source": [
    "seqA = Sequence(cutterA)\n",
    "parseFastaA = seqA.parseFasta()\n",
    "fragmentLenListA, fragmentSeqListA = seqA.parseSeqByCutter()\n",
    "repeatInfoListA = seqA.findRepeatSeqs(lengthLimit=False)\n",
    "filterRepeatInfoA = seqA.filterRepeatInfo()\n",
    "repeatPositionListA = seqA.getRepeatPositionList(filter=True)\n",
    "seqAState = seqA.seqStateGenerator()"
   ],
   "outputs": [
    {
     "output_type": "stream",
     "name": "stdout",
     "text": [
      "...start parsing dm6/chrX_sequence.fasta fasta file ...\n",
      "...cost0.1289820671081543 sec to parse fasta file ...\n",
      "...start parse seq by cutter: GATC\n",
      "...cost 1.5966300964355469 sec to cut sequence\n",
      "... start finding repeat seq ...\n",
      "...cost0.0640408992767334 sec to finding repeat seq  ...\n"
     ]
    }
   ],
   "metadata": {}
  },
  {
   "cell_type": "code",
   "execution_count": 24,
   "source": [
    "seqB = Sequence(cutterB)\n",
    "parseFastaB = seqB.parseFasta()\n",
    "fragmentLenListB, fragmentSeqListB = seqB.parseSeqByCutter()\n",
    "repeatInfoListB = seqB.findRepeatSeqs(lengthLimit=False)\n",
    "filterRepeatInfoB = seqB.filterRepeatInfo()\n",
    "repeatPositionListB = seqB.getRepeatPositionList(filter=True)\n",
    "seqBState = seqB.seqStateGenerator()"
   ],
   "outputs": [
    {
     "output_type": "stream",
     "name": "stdout",
     "text": [
      "...start parsing dm6/chrX_sequence.fasta fasta file ...\n",
      "...cost0.13148808479309082 sec to parse fasta file ...\n",
      "...start parse seq by cutter: AAGCT\n",
      "...cost 1.0213308334350586 sec to cut sequence\n",
      "... start finding repeat seq ...\n",
      "...cost0.025482177734375 sec to finding repeat seq  ...\n"
     ]
    }
   ],
   "metadata": {}
  },
  {
   "cell_type": "code",
   "execution_count": 25,
   "source": [
    "seqInfo(currDatasetName, parseFastaA)"
   ],
   "outputs": [
    {
     "output_type": "stream",
     "name": "stdout",
     "text": [
      "dm6/chrX_sequence dataset\n",
      " number of sequence:1\n",
      " total length:23542271\n",
      "\n"
     ]
    }
   ],
   "metadata": {
    "tags": []
   }
  },
  {
   "cell_type": "code",
   "execution_count": 26,
   "source": [
    "# repeatPositionList = repeatPositionListA + repeatPositionListB"
   ],
   "outputs": [],
   "metadata": {}
  },
  {
   "cell_type": "code",
   "execution_count": 27,
   "source": [
    "# print(f'Check cutter A, B: \\n {len(repeatPositionList)} = {len(repeatPositionListA)} + {len(repeatPositionListB)}')"
   ],
   "outputs": [],
   "metadata": {}
  },
  {
   "cell_type": "code",
   "execution_count": 28,
   "source": [
    "# repeatPositionList[0]"
   ],
   "outputs": [],
   "metadata": {}
  },
  {
   "cell_type": "code",
   "execution_count": 29,
   "source": [
    "# df = pd.DataFrame(columns=['startIdx', 'endIdx', 'length'])\n",
    "# for i in repeatPositionList:\n",
    "#     df = df.append({'startIdx': i.startIdx, 'endIdx': i.endIdx, 'length': i.endIdx-i.startIdx}, ignore_index=True)\n",
    "# df.to_csv(f'../outputFile/PartialSeqInfo/NonFilter_Position.csv')"
   ],
   "outputs": [],
   "metadata": {}
  },
  {
   "cell_type": "code",
   "execution_count": 48,
   "source": [
    "# repeat position\n",
    "multipleCutter = MultipleCutter(chrLength=len(parseFastaA[0]), seqStateList = [seqAState, seqBState])\n",
    "seqStateSum = multipleCutter.getSeqStateSum()\n",
    "unMatchState, unionState, intersectionState = multipleCutter.getSeqStateInfo()\n",
    "stateName=\"union\"\n",
    "matchStateIdxList = multipleCutter.getSpecificStateIdxList(stateName)\n",
    "matchStatePositionList = multipleCutter.getSpecificStatePositionList()"
   ],
   "outputs": [
    {
     "output_type": "stream",
     "name": "stdout",
     "text": [
      "chr: 23542271\n",
      "unMatch: 22594230, union:948041, intersection:344811\n"
     ]
    }
   ],
   "metadata": {}
  },
  {
   "cell_type": "code",
   "execution_count": null,
   "source": [
    "multipleCutter.generateSeqStateSumFile(filePath = '../outputFile/SeqState/seqStateSum.txt')"
   ],
   "outputs": [],
   "metadata": {}
  },
  {
   "cell_type": "code",
   "execution_count": null,
   "source": [],
   "outputs": [],
   "metadata": {}
  },
  {
   "cell_type": "code",
   "execution_count": null,
   "source": [],
   "outputs": [],
   "metadata": {}
  },
  {
   "cell_type": "code",
   "execution_count": null,
   "source": [],
   "outputs": [],
   "metadata": {}
  },
  {
   "cell_type": "code",
   "execution_count": 31,
   "source": [
    "len(matchStatePositionList)"
   ],
   "outputs": [
    {
     "output_type": "execute_result",
     "data": {
      "text/plain": [
       "4130"
      ]
     },
     "metadata": {},
     "execution_count": 31
    }
   ],
   "metadata": {}
  },
  {
   "cell_type": "code",
   "execution_count": 32,
   "source": [
    "# intersection , union\n",
    "# unionMatchStateIdxList = multipleCutter.getSpecificStateIdxList(\"union\")\n",
    "# len(matchStatePositionList), len(unionMatchStateIdxList)"
   ],
   "outputs": [],
   "metadata": {}
  },
  {
   "cell_type": "code",
   "execution_count": 33,
   "source": [
    "# df = pd.DataFrame(columns=['startIdx', 'endIdx', 'length'])\n",
    "# for i in matchStatePositionList:\n",
    "#     df = df.append({'startIdx': i.startIdx, 'endIdx': i.endIdx, 'length': i.endIdx-i.startIdx}, ignore_index=True)\n",
    "# df.to_csv(f'../outputFile/PartialSeqInfo/{stateName}.csv')"
   ],
   "outputs": [],
   "metadata": {}
  },
  {
   "cell_type": "code",
   "execution_count": 34,
   "source": [
    "# df = pd.DataFrame(columns=['startIdx', 'endIdx', 'length'])\n",
    "# for i in matchStatePositionList:\n",
    "#     df = df.append({'startIdx': i.startIdx, 'endIdx': i.endIdx, 'length': i.endIdx-i.startIdx}, ignore_index=True)\n",
    "# df['length'] = df['length'].astype('int32')\n",
    "# df['length'].describe()\n",
    "# df.to_csv(f'../outputFile/txtFile/{stateName}AndNonFilter_Position.csv')"
   ],
   "outputs": [],
   "metadata": {}
  },
  {
   "cell_type": "code",
   "execution_count": 35,
   "source": [
    "# repeatPositionList = matchStatePositionList"
   ],
   "outputs": [],
   "metadata": {}
  },
  {
   "cell_type": "code",
   "execution_count": 36,
   "source": [
    "# [ Mltiplecutter, Intersection or Union ]\n",
    "dfam = DfamEvaluation(matchStatePositionList, hitFileName='chrX_LTR_dm6_dfam.nrph.hits')\n",
    "repeatPositionLookupDic = dfam.positionBucketClassifier()\n",
    "dfamPositionList = dfam.getDfamPositionList()\n",
    "\n",
    "# from Dfam , check repeat\n",
    "DRrepeatMatchList, DRmatchedFamilyAccList, DRmatchedFamilyNameList = dfam.checkDfamMatchWithRepeat()\n",
    "\n",
    "# from repeat , check Dfam\n",
    "# RDrepeatMatchList, RDmatchedFamilyAccList, RDmatchedFamilyNameList = dfam.checkRepeatMatchWithDfam()\n",
    "\n",
    "# dfam.familyMatchRatio(DRmatchedFamilyAccList)\n",
    "dfam.matchRatio(DRrepeatMatchList)\n",
    "# unMatchDf = dfam.getUnmatchInfo(DRrepeatMatchList)"
   ],
   "outputs": [
    {
     "output_type": "stream",
     "name": "stdout",
     "text": [
      "matchCount:141\tdfamCount:602\tRatio:0.23421926910299004\n"
     ]
    },
    {
     "output_type": "execute_result",
     "data": {
      "text/plain": [
       "0.23421926910299004"
      ]
     },
     "metadata": {},
     "execution_count": 36
    }
   ],
   "metadata": {}
  },
  {
   "cell_type": "code",
   "execution_count": 37,
   "source": [
    "# def getSequenceLengthAnalsis(inputLengthList, num=10):\n",
    "#     \"\"\"\n",
    "#     1. count of common length \n",
    "#     2. statistic info\n",
    "#     3. distribution plot\n",
    "#     \"\"\"\n",
    "#     mostCommonTable(Counter(inputLengthList).most_common(num), num)\n",
    "#     getStatisticData(inputLengthList)\n",
    "#     sortedCounterList = listToSortedCounter(inputLengthList)\n",
    "#     basicPlot(sortedCounterList)"
   ],
   "outputs": [],
   "metadata": {}
  },
  {
   "cell_type": "code",
   "execution_count": 38,
   "source": [
    "# totalDfam = DfamEvaluation(repeatPositionList, hitFileName=\"chrX_dm6_dfam.nrph.hits\")\n",
    "# totalRepeatPositionLookupDic = totalDfam.positionBucketClassifier()\n",
    "# totalDfamPositionList = totalDfam.getDfamPositionList()\n",
    "# unionAndFilter_Position = pd.read_csv('../outputFile/txtFile/unionAndFilter_Position.csv')\n",
    "# intersectionAndFilter_Position = pd.read_csv('../outputFile/txtFile/intersectionAndFilter_Position.csv')\n",
    "# Filter_Position = pd.read_csv('../outputFile/txtFile/Filter_Position.csv')\n",
    "# NonFilter_Position = pd.read_csv('../outputFile/txtFile/NonFilter_Position.csv')\n",
    "\n",
    "# unionAndFilter_Counter = listToSortedCounter((unionAndFilter_Position['length']))\n",
    "# intersectionAndFilter_Counter = listToSortedCounter((intersectionAndFilter_Position['length']))"
   ],
   "outputs": [],
   "metadata": {}
  },
  {
   "cell_type": "code",
   "execution_count": 39,
   "source": [
    "# df = pd.DataFrame(columns=[\"x\", \"y\", \"type\"], dtype=float)\n",
    "# for row in unionAndFilter_Counter:\n",
    "#     df = df.append({\"x\": row[0], \"y\": row[1], \"type\": \"unionAndFilter\"}, ignore_index=True)\n",
    "# for row in intersectionAndFilter_Counter:\n",
    "#     df = df.append({\"x\": row[0], \"y\": row[1], \"type\": \"intersectionAndFilter\"}, ignore_index=True)\n",
    "\n",
    "# df.fillna(np.nan, inplace=True)\n",
    "# fig, ax = plt.subplots(figsize=(10, 6), dpi=300)\n",
    "# sns.set_style(\"whitegrid\")\n",
    "# sns.lineplot(data=df, x=\"x\", y=\"y\", hue=\"type\", palette=\"Set1\")\n",
    "# ax.set_xlabel(\"Length\", size=15)\n",
    "# ax.set_ylabel(\"Count\", size=15)\n",
    "# ax.set_xlim(0, 1500)"
   ],
   "outputs": [],
   "metadata": {}
  },
  {
   "cell_type": "code",
   "execution_count": 40,
   "source": [
    "# Dfam ref sequence \n",
    "# dfamSeqLenList = [ i.endIdx - i.startIdx for i in dfamPositionList ]\n",
    "# getSequenceLengthAnalsis(dfamSeqLenList)"
   ],
   "outputs": [],
   "metadata": {}
  },
  {
   "cell_type": "code",
   "execution_count": 41,
   "source": [
    "# Repeat sequence\n",
    "# repeatFragmentLenList = [ i.endIdx - i.startIdx for i in repeatPositionList ]\n",
    "# getSequenceLengthAnalsis(repeatFragmentLenList)"
   ],
   "outputs": [],
   "metadata": {}
  },
  {
   "cell_type": "code",
   "execution_count": 42,
   "source": [
    "# def consensusSeqSimilarity(consensusSeq, seqDf):\n",
    "#     print(\"hihi\", len(seqDf))\n",
    "#     seqSimilarityList = []\n",
    "#     for targetSeq in seqDf:\n",
    "#         alignments = pairwise2.align.globalxx(targetSeq, consensusSeq)\n",
    "#         targetLength = len(targetSeq)\n",
    "#         similarityPercentage = round(alignments[0].score / targetLength, 2)\n",
    "#         seqSimilarityList.append(similarityPercentage)\n",
    "#     return seqSimilarityList\n",
    "\n",
    "# repeatMatchIdxList = []\n",
    "# for idx, value in enumerate(RDrepeatMatchList):\n",
    "#     if value == True:\n",
    "#         repeatMatchIdxList.append(idx)\n",
    "# repeatBasePositionList = [repeatPositionList[i] for i in repeatMatchIdxList]\n",
    "# repeatSeqDf = pd.DataFrame(columns=['startIdx','endIdx', 'length', 'seq'])\n",
    "# for i in repeatBasePositionList:\n",
    "#     repeatSeqDf = repeatSeqDf.append({'startIdx':i.startIdx ,'endIdx': i.endIdx, 'length': (i.endIdx- i.startIdx), 'seq': str(parseFastaA[0][i.startIdx:i.endIdx])}, ignore_index=True)\n",
    "# conParseFasta = parseFasta(\n",
    "#     \"DF0001696_ROO_LTR\",\n",
    "#     \"./Evaluation/Source/DF0001696_ROO_LTR.fa\",\n",
    "#     \"*\",\n",
    "#     matchMode=False,\n",
    "# )\n",
    "# consensusSeq = conParseFasta[0].upper()\n",
    "# repeatDf = pd.read_csv('./Evaluation/Source/chrX_ROO_LTR_repeatSeq.csv')\n",
    "# seqDf = repeatDf[\"seq\"]\n",
    "# seqSimilarityList = consensusSeqSimilarity(consensusSeq, seqDf)\n",
    "# pd.Series(seqSimilarityList).describe()"
   ],
   "outputs": [],
   "metadata": {}
  },
  {
   "cell_type": "code",
   "execution_count": 43,
   "source": [
    "# # Test cutter A\n",
    "# repeatPositionListA = seqA.getRepeatPositionList()\n",
    "# dfamA = DfamEvaluation(repeatPositionListA)\n",
    "# repeatPositionLookupDicA = dfamA.positionBucketClassifier()\n",
    "# dfamPositionListA = dfamA.getDfamPositionList()\n",
    "# dfamPositionLookupDicA = dfamA.positionBucketClassifier()\n",
    "# DRrepeatMatchListA, DRmatchedFamilyAccListA, DRmatchedFamilyNameListA = dfamA.checkDfamMatchWithRepeat()"
   ],
   "outputs": [],
   "metadata": {}
  },
  {
   "cell_type": "code",
   "execution_count": 44,
   "source": [
    "# totalLen = len(DRrepeatMatchListA)\n",
    "# matchLenA = len(list(filter(lambda x: x, DRrepeatMatchListA)))\n",
    "# ratio = matchLenA / totalLen\n",
    "# print(f\"matchCount:{matchLenA}\\tdfamCount:{totalLen}\\tRatio:{ratio}\")"
   ],
   "outputs": [],
   "metadata": {}
  },
  {
   "cell_type": "code",
   "execution_count": 45,
   "source": [
    "# # Test cutter B\n",
    "# repeatPositionListB = seqB.getRepeatPositionList()\n",
    "# dfamB = DfamEvaluation(repeatPositionListB)\n",
    "# repeatPositionLookupDicB = dfamB.positionBucketClassifier()\n",
    "# dfamPositionListB = dfamB.getDfamPositionList()\n",
    "# dfamPositionLookupDicB = dfamB.positionBucketClassifier()\n",
    "# DRrepeatMatchListB, DRmatchedFamilyAccListB, DRmatchedFamilyNameListB = dfamB.checkDfamMatchWithRepeat()"
   ],
   "outputs": [],
   "metadata": {}
  },
  {
   "cell_type": "code",
   "execution_count": 46,
   "source": [
    "# totalLen = len(DRrepeatMatchListB)\n",
    "# matchLenB = len(list(filter(lambda x: x, DRrepeatMatchListB)))\n",
    "# ratio = matchLenB / totalLen\n",
    "# print(f\"matchCount:{matchLenB}\\tdfamCount:{totalLen}\\tRatio:{ratio}\")"
   ],
   "outputs": [],
   "metadata": {}
  },
  {
   "cell_type": "code",
   "execution_count": 47,
   "source": [
    "# total = 597\n",
    "# middle = matchLenA+matchLenB - total\n",
    "# plt.figure(linewidth=10, facecolor=\"white\", dpi=1200)\n",
    "# # plt.figure(linewidth=10, facecolor=\"white\")\n",
    "# v = venn2(subsets = (matchLenA-middle, matchLenB-middle, middle), set_labels = (f'CutterA - {cutterA} ', f'CutterB - {cutterB}'), set_colors=(colorA, colorB))\n",
    "# plt.show()\n"
   ],
   "outputs": [],
   "metadata": {}
  },
  {
   "cell_type": "code",
   "execution_count": null,
   "source": [],
   "outputs": [],
   "metadata": {}
  }
 ],
 "metadata": {
  "interpreter": {
   "hash": "dca0ade3e726a953b501b15e8e990130d2b7799f14cfd9f4271676035ebe5511"
  },
  "kernelspec": {
   "name": "python3",
   "display_name": "Python 3.7.11 64-bit ('base': conda)"
  },
  "language_info": {
   "codemirror_mode": {
    "name": "ipython",
    "version": 3
   },
   "file_extension": ".py",
   "mimetype": "text/x-python",
   "name": "python",
   "nbconvert_exporter": "python",
   "pygments_lexer": "ipython3",
   "version": "3.7.11"
  }
 },
 "nbformat": 4,
 "nbformat_minor": 5
}