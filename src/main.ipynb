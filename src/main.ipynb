{
 "cells": [
  {
   "cell_type": "code",
   "execution_count": 1,
   "id": "ruled-catch",
   "metadata": {
    "scrolled": true,
    "tags": []
   },
   "outputs": [],
   "source": [
    "import re\n",
    "import os\n",
    "import sys\n",
    "import copy\n",
    "import random\n",
    "import numpy as np \n",
    "import pandas as pd \n",
    "import \n",
    "from Bio.Seq import Seq\n",
    "from collections import Counter, OrderedDict\n",
    "import importlib\n",
    "# importlib.reload(sys.modules['Evaluation.RepearEvaluation'])\n",
    "\n",
    "from Util.FragmentUtil import fragmentLenPlot\n",
    "from Evaluation.RepearEvaluation import getHitFamilyACIds, getDfamConSeqData\n",
    "from Util.SeqUtil import seqInfo, parseFasta, parseSeq, parseSeqByCutter\n",
    "from DataInfo import currDataset, datasetPath, matchPattern, cutter, cutterLen, fragmentN, commonCount\n",
    "from RepeatFinder import findRepeatSeqs, integrateRepeatInfo, getIRComb, evaluateRepeat, generateIROutputFile, checkTandemRepeatExist, generateTROutputFile, generateFragmentOutputFile\n"
   ]
  },
  {
   "cell_type": "code",
   "execution_count": 2,
   "metadata": {
    "tags": []
   },
   "outputs": [
    {
     "output_type": "stream",
     "name": "stdout",
     "text": "...start parsing chr1.fa fasta file ...\n...cost9.580286264419556 sec to parse fasta file ...\nchr1.fa dataset\n number of sequence:1\n total length:248956422\n\n"
    }
   ],
   "source": [
    "parseFastaSeqs = parseFasta(currDataset, datasetPath, matchPattern, matchMode = False)\n",
    "seqInfo(currDataset, parseFastaSeqs)"
   ]
  },
  {
   "cell_type": "code",
   "execution_count": 3,
   "id": "happy-evening",
   "metadata": {
    "scrolled": true,
    "tags": []
   },
   "outputs": [
    {
     "output_type": "stream",
     "name": "stdout",
     "text": "...start parse seq by cutter: GATC\n...cost 3.420619010925293 sec to cut sequence\n"
    }
   ],
   "source": [
    "fragmentsLenList, fragmentsSeqList = parseSeqByCutter(parseFastaSeqs)"
   ]
  },
  {
   "cell_type": "code",
   "execution_count": 4,
   "id": "latin-audio",
   "metadata": {
    "scrolled": true,
    "tags": []
   },
   "outputs": [
    {
     "output_type": "stream",
     "name": "stdout",
     "text": "... start finding repeat seq ...\n...cost0.8382689952850342 sec to finding repeat seq  ...\n"
    }
   ],
   "source": [
    "repeatFragNLenList, repeatFragNPositionDict = findRepeatSeqs(fragmentsLenList)"
   ]
  },
  {
   "cell_type": "code",
   "execution_count": 5,
   "metadata": {
    "tags": []
   },
   "outputs": [],
   "source": [
    "# tandem Repeat in N fragment\n",
    "tandemRepeatList = list(filter(checkTandemRepeatExist, repeatFragNLenList))\n",
    "tandemRepeatInfoList = integrateRepeatInfo(fragmentsSeqList, fragmentsLenList, tandemRepeatList, repeatFragNPositionDict, repeatType=1)\n",
    "generateTROutputFile(tandemRepeatInfoList, matchRatioOfSum=0.4)"
   ]
  },
  {
   "cell_type": "code",
   "execution_count": 6,
   "metadata": {},
   "outputs": [
    {
     "output_type": "execute_result",
     "data": {
      "text/plain": "[RepeatFragNInfo(fragmentLenList=(1495, 394, 49, 55, 49), count=2, position=[IRSPositionInfo(chrIdx=0, fragmentIdx=261, baseIdx=365287, seqList=[Seq('TCGCTTGGCCCCCACCTGATTCCCGACATACAGCAGAGGAACCTTAGGCTCAGG...TCA'), Seq('CCACGCCTGAGCCTCCGCCTCTCCGTGCAGTCCCGGAGATGGCACACAGCCTTC...TCG'), Seq('ATATACACATTTGTGCACACGTGTTCATATTCACACTCCTACACACCCA'), Seq('ATACACACATACACACACTTGTGCATACACATTCATGCTCACTCCCACACACCCA'), Seq('ATATACACACTCGTGCACACATGCTCACATTCACAATCACTCATACCCA')]), IRSPositionInfo(chrIdx=0, fragmentIdx=425, baseIdx=594351, seqList=[Seq('TCGCTTGGCCCCCACCTGATTCCTGACATACAGCAGAGGAAGCTTAGGCTCAGG...TCA'), Seq('CCACGTCTGAGCCTCCGCCTTTCCGTGCAGTCCCGGAGATGGCACACAGCCTTC...TCG'), Seq('ATATACACATTTGTGCACACGTGTTCATATTCACACTCCTACACACCCA'), Seq('ATACACACATACACACACTTGTGCATACACATTCATGCTCACTCCCACACACCCA'), Seq('ATATACACACTCGTGCACACATGCTCACATTCACAATCACTCATACCCA')])]),\n RepeatFragNInfo(fragmentLenList=(394, 49, 55, 49, 45), count=2, position=[IRSPositionInfo(chrIdx=0, fragmentIdx=262, baseIdx=366786, seqList=[Seq('CCACGCCTGAGCCTCCGCCTCTCCGTGCAGTCCCGGAGATGGCACACAGCCTTC...TCG'), Seq('ATATACACATTTGTGCACACGTGTTCATATTCACACTCCTACACACCCA'), Seq('ATACACACATACACACACTTGTGCATACACATTCATGCTCACTCCCACACACCCA'), Seq('ATATACACACTCGTGCACACATGCTCACATTCACAATCACTCATACCCA'), Seq('ATACACACACTTATGCACACATTCACACTCACTCATACATACACA')]), IRSPositionInfo(chrIdx=0, fragmentIdx=426, baseIdx=595850, seqList=[Seq('CCACGTCTGAGCCTCCGCCTTTCCGTGCAGTCCCGGAGATGGCACACAGCCTTC...TCG'), Seq('ATATACACATTTGTGCACACGTGTTCATATTCACACTCCTACACACCCA'), Seq('ATACACACATACACACACTTGTGCATACACATTCATGCTCACTCCCACACACCCA'), Seq('ATATACACACTCGTGCACACATGCTCACATTCACAATCACTCATACCCA'), Seq('ATACACACACTTATGCACACATTCACACTCACTCATACATACACA')])])]"
     },
     "metadata": {},
     "execution_count": 6
    }
   ],
   "source": [
    "tandemRepeatInfoList[:2]"
   ]
  },
  {
   "cell_type": "code",
   "execution_count": 8,
   "metadata": {},
   "outputs": [],
   "source": [
    "# interspersed repetitive sequences\n",
    "repeatInfoList = integrateRepeatInfo(fragmentsSeqList, fragmentsLenList, repeatFragNLenList, repeatFragNPositionDict, repeatType=2)\n",
    "seqPermutation = getIRComb(repeatInfoList)\n",
    "generateIROutputFile(seqPermutation, matchRatioOfSum=0.4)"
   ]
  },
  {
   "cell_type": "code",
   "execution_count": 10,
   "metadata": {},
   "outputs": [
    {
     "output_type": "execute_result",
     "data": {
      "text/plain": "[SeqRepeatInfo(fragmentLenList=(46, 221, 139, 482, 101), count=2, position=[IRSPositionInfo(chrIdx=0, fragmentIdx=1, baseIdx=12414, seq=Seq('AGGCAGGCCATCGCTGCCACAGAACCCAGTGGATTGGCCTAGGTGGTCTGAGCT...CGA')), IRSPositionInfo(chrIdx=0, fragmentIdx=176, baseIdx=182933, seq=Seq('AGGCAGGCCATCGCTGCCACAGAACCCAGTGGATTGGCCTAGGTGGTCTGAGCT...CGA'))]),\n SeqRepeatInfo(fragmentLenList=(221, 139, 482, 101, 142), count=2, position=[IRSPositionInfo(chrIdx=0, fragmentIdx=2, baseIdx=12464, seq=Seq('TCTGAGCTCAACAAGCCCTCTCTGGGTGGTAGGTGCAGAGACGGGAGGGGCAGA...AGG')), IRSPositionInfo(chrIdx=0, fragmentIdx=177, baseIdx=182983, seq=Seq('TCTGAGCTCAACAAGCCCTCTCTGGGTGGTAGGTGCAGAGACGGGAGGGGCAGA...AGG'))])]"
     },
     "metadata": {},
     "execution_count": 10
    }
   ],
   "source": [
    "repeatInfoList[:2]"
   ]
  },
  {
   "cell_type": "code",
   "execution_count": null,
   "metadata": {},
   "outputs": [],
   "source": [
    "generateFragmentOutputFile(tandemRepeatInfoList, matchRatioOfSum=0.4)"
   ]
  },
  {
   "cell_type": "code",
   "execution_count": 64,
   "metadata": {},
   "outputs": [],
   "source": [
    "# rf, repeat Fragments\n"
   ]
  },
  {
   "cell_type": "code",
   "execution_count": null,
   "metadata": {},
   "outputs": [],
   "source": []
  },
  {
   "cell_type": "code",
   "execution_count": null,
   "metadata": {},
   "outputs": [],
   "source": [
    "# find repeat seq length list with tolerance\n",
    "topRepeatSeqKey = commonRepeatInfo[0][0]\n",
    "topKeySum = sum(list(topRepeatSeqKey))\n",
    "tolerance = topKeySum *0.05\n",
    "topRepeatSeqKey\n",
    "\n",
    "positionKeys = list(repeatFragNPositionDict.keys())\n",
    "\n",
    "matchKeys = []\n",
    "for i in range(len(positionKeys)):\n",
    "    temKey = positionKeys[i]\n",
    "    for j in range(fragmentN):\n",
    "        flag = 1\n",
    "        if abs(topRepeatSeqKey[j]- temKey[j]) >= tolerance:\n",
    "            flag = -1\n",
    "            break\n",
    "    if flag == 1:\n",
    "        matchKeys.append(temKey)\n",
    "        \n",
    "matchLenList = []\n",
    "for i in range(len(matchKeys)):\n",
    "    matchLenList.append(repeatFragNPositionDict[matchKeys[i]])"
   ]
  },
  {
   "cell_type": "code",
   "execution_count": null,
   "metadata": {
    "tags": []
   },
   "outputs": [],
   "source": [
    "flattenMatchSeq = [ j for subset in matchLenList for j in subset ]\n",
    "candidatePoiDic = dict()\n",
    "[ candidatePoiDic [t[0]].append(t[1]) if t [0] in list(candidatePoiDic.keys()) else candidatePoiDic.update({t [0]: [t [1]]}) for t in flattenMatchSeq ]\n",
    "sortedCandidatePoiDic = OrderedDict(sorted(candidatePoiDic.items()))"
   ]
  },
  {
   "cell_type": "code",
   "execution_count": null,
   "metadata": {
    "tags": []
   },
   "outputs": [],
   "source": [
    "matchSeqDic = dict()\n",
    "for i in sortedCandidatePoiDic:\n",
    "    chrIndex = i\n",
    "    matchList = []\n",
    "    for j in range(len(sortedCandidatePoiDic[chrIndex])):\n",
    "        startIndex = sortedCandidatePoiDic[chrIndex][j]\n",
    "        combinedSeq = Seq('').join(fragmentsSeqList[chrIndex][startIndex:startIndex+fragmentN])\n",
    "        matchList.append(combinedSeq)\n",
    "    matchSeqDic[chrIndex] = matchList"
   ]
  }
 ],
 "metadata": {
  "kernelspec": {
   "display_name": "Python 3",
   "language": "python",
   "name": "python3"
  },
  "language_info": {
   "codemirror_mode": {
    "name": "ipython",
    "version": 3
   },
   "file_extension": ".py",
   "mimetype": "text/x-python",
   "name": "python",
   "nbconvert_exporter": "python",
   "pygments_lexer": "ipython3",
   "version": "3.7.4-final"
  }
 },
 "nbformat": 4,
 "nbformat_minor": 5
}