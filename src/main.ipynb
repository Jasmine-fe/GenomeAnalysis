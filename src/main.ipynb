{
 "cells": [
  {
   "cell_type": "code",
   "execution_count": 26,
   "metadata": {
    "scrolled": true,
    "tags": []
   },
   "outputs": [],
   "source": [
    "import re\n",
    "import os\n",
    "import sys\n",
    "import csv\n",
    "import numpy as np \n",
    "import pandas as pd\n",
    "import seaborn as sns\n",
    "from prettytable import PrettyTable\n",
    "from matplotlib import pyplot as plt\n",
    "from Bio import SeqIO, pairwise2, AlignIO\n",
    "from collections import Counter, namedtuple\n",
    "from Bio.Align import AlignInfo, MultipleSeqAlignment\n",
    "import importlib\n",
    "importlib.reload(sys.modules['MultipleCutter'])\n",
    "from Sequence import Sequence\n",
    "from MultipleCutter import MultipleCutter\n",
    "from Util.SeqUtil import seqInfo, parseFasta, parseSeqByCutter\n",
    "from DataStructure import refSeqSimilarityInfo\n",
    "from Evaluation.DfamEvaluation import DfamEvaluation\n",
    "from SharedInfo import currDatasetName, cutterA, cutterB, colorA, colorB\n",
    "from Util.AnalysisUtil import listToSortedCounter, getStatisticData, mostCommonTable\n",
    "from Util.PlotUtil import basicPlot, twoLabelBasicPlot, lengthScatterDistributionPlot\n"
   ]
  },
  {
   "cell_type": "code",
   "execution_count": 2,
   "metadata": {},
   "outputs": [],
   "source": [
    "outputFolder = \"../outputFile\""
   ]
  },
  {
   "cell_type": "markdown",
   "metadata": {},
   "source": []
  },
  {
   "cell_type": "code",
   "execution_count": 3,
   "metadata": {},
   "outputs": [
    {
     "name": "stdout",
     "output_type": "stream",
     "text": [
      "...start parsing dm6/chrX_sequence.fasta fasta file ...\n",
      "...cost0.13225388526916504 sec to parse fasta file ...\n",
      "...start parse seq by cutter: GATC\n",
      "...cost 0.7786622047424316 sec to cut sequence\n",
      "... start finding repeat seq ...\n",
      "...cost0.06371116638183594 sec to finding repeat seq  ...\n"
     ]
    }
   ],
   "source": [
    "seqA = Sequence(cutterA)\n",
    "parseFastaA = seqA.parseFasta()\n",
    "fragmentLenListA, fragmentSeqListA = seqA.parseSeqByCutter()\n",
    "repeatInfoListA = seqA.findRepeatSeqs(lengthLimit=False)\n",
    "filterRepeatInfoA = seqA.filterRepeatInfo() \n",
    "repeatPositionListA = seqA.getRepeatPositionList(filter=True)  # filter out identical\n",
    "seqAState = seqA.seqStateGenerator()\n",
    "seqA.generateRepeatFragentFile(filePath=f'{outputFolder}/seqRepeatPosition/seq_{cutterA}.txt')\n",
    "# seqA.calculateConsistencyRatio(seqA.repeatPositionTable).sum() , seqA.calculateConsistencyRatio(seqA.repeatPositionTable).mean()"
   ]
  },
  {
   "cell_type": "code",
   "execution_count": 4,
   "metadata": {},
   "outputs": [
    {
     "name": "stdout",
     "output_type": "stream",
     "text": [
      "...start parsing dm6/chrX_sequence.fasta fasta file ...\n",
      "...cost0.11923623085021973 sec to parse fasta file ...\n",
      "...start parse seq by cutter: AAGCTT\n",
      "...cost 0.6895277500152588 sec to cut sequence\n",
      "... start finding repeat seq ...\n",
      "...cost0.005896091461181641 sec to finding repeat seq  ...\n"
     ]
    }
   ],
   "source": [
    "seqB = Sequence(cutterB)\n",
    "parseFastaB = seqB.parseFasta()\n",
    "fragmentLenListB, fragmentSeqListB = seqB.parseSeqByCutter()\n",
    "repeatInfoListB = seqB.findRepeatSeqs(lengthLimit=False)\n",
    "filterRepeatInfoB = seqB.filterRepeatInfo()\n",
    "repeatPositionListB = seqB.getRepeatPositionList(filter=True)\n",
    "seqBState = seqB.seqStateGenerator()\n",
    "seqB.generateRepeatFragentFile(filePath=f'{outputFolder}/seqRepeatPosition/seq_{cutterB}')"
   ]
  },
  {
   "cell_type": "code",
   "execution_count": 5,
   "metadata": {},
   "outputs": [
    {
     "name": "stdout",
     "output_type": "stream",
     "text": [
      "SeqState A Output Percentage: 0.037840232150925454\n"
     ]
    }
   ],
   "source": [
    "matchStateLen = len(list(filter(lambda x: x == 1, seqAState)))\n",
    "print(f'SeqState A Output Percentage: {matchStateLen / len(parseFastaA[0])}')"
   ]
  },
  {
   "cell_type": "code",
   "execution_count": 6,
   "metadata": {},
   "outputs": [
    {
     "name": "stdout",
     "output_type": "stream",
     "text": [
      "SeqState B Output Percentage: 0.006023165734520684\n"
     ]
    }
   ],
   "source": [
    "matchStateLen = len(list(filter(lambda x: x == 1, seqBState)))\n",
    "print(f'SeqState B Output Percentage: {matchStateLen / len(parseFastaA[0])}')"
   ]
  },
  {
   "cell_type": "code",
   "execution_count": 7,
   "metadata": {},
   "outputs": [
    {
     "name": "stdout",
     "output_type": "stream",
     "text": [
      "dm6/chrX_sequence dataset\n",
      " number of sequence:1\n",
      " total length:23542271\n",
      "\n"
     ]
    }
   ],
   "source": [
    "seqInfo(currDatasetName, parseFastaA)"
   ]
  },
  {
   "cell_type": "code",
   "execution_count": 8,
   "metadata": {},
   "outputs": [
    {
     "data": {
      "text/plain": [
       "length              381.856549\n",
       "consistencyRatio      0.665008\n",
       "dtype: float64"
      ]
     },
     "execution_count": 8,
     "metadata": {},
     "output_type": "execute_result"
    }
   ],
   "source": [
    "seqA.calculateConsistencyRatio(seqA.repeatPositionTable).mean()"
   ]
  },
  {
   "cell_type": "code",
   "execution_count": 9,
   "metadata": {},
   "outputs": [
    {
     "data": {
      "text/plain": [
       "length              959.271186\n",
       "consistencyRatio      0.899881\n",
       "dtype: float64"
      ]
     },
     "execution_count": 9,
     "metadata": {},
     "output_type": "execute_result"
    }
   ],
   "source": [
    "seqB.calculateConsistencyRatio(seqB.repeatPositionTable).mean()"
   ]
  },
  {
   "cell_type": "markdown",
   "metadata": {},
   "source": [
    "## Multiple cutters"
   ]
  },
  {
   "cell_type": "code",
   "execution_count": 27,
   "metadata": {},
   "outputs": [
    {
     "name": "stdout",
     "output_type": "stream",
     "text": [
      "chr: 23542271\n",
      "unMatch: 22630817, union:911454, intersection:121190\n"
     ]
    }
   ],
   "source": [
    "multipleCutter = MultipleCutter(sequence=parseFastaA[0], seqStateList = [seqAState, seqBState])\n",
    "mergeState = multipleCutter.getSeqStateSum()\n",
    "unMatchState, unionState, intersectionState = multipleCutter.getSeqStateInfo()\n",
    "stateName=\"intersection\"\n",
    "matchStateIdxList = multipleCutter.getSpecificStateIdxList(stateName)\n",
    "matchStateRepeatInfoList = multipleCutter.getSpecificStatePositionList()"
   ]
  },
  {
   "cell_type": "code",
   "execution_count": 28,
   "metadata": {},
   "outputs": [
    {
     "name": "stdout",
     "output_type": "stream",
     "text": [
      "SeqState Output Percentage: 0.005147761658167982\n"
     ]
    }
   ],
   "source": [
    "matchStateLen = len(list(filter(lambda x: x == 2, mergeState)))\n",
    "print(f'SeqState Output Percentage: {matchStateLen / len(parseFastaA[0])}')"
   ]
  },
  {
   "cell_type": "markdown",
   "metadata": {},
   "source": [
    "## Repeat Seq -> Repeat Fragment"
   ]
  },
  {
   "cell_type": "code",
   "execution_count": 29,
   "metadata": {},
   "outputs": [
    {
     "name": "stdout",
     "output_type": "stream",
     "text": [
      "...start parse seq by cutter: AAGCTT\n",
      "...cost 0.0005171298980712891 sec to cut sequence\n",
      "...start parse seq by cutter: GATC\n",
      "...cost 0.0001800060272216797 sec to cut sequence\n",
      "...start parse seq by cutter: AAGCTT\n",
      "...cost 8.559226989746094e-05 sec to cut sequence\n",
      "...start parse seq by cutter: GATC\n",
      "...cost 0.00035691261291503906 sec to cut sequence\n",
      "...start parse seq by cutter: AAGCTT\n",
      "...cost 8.821487426757812e-05 sec to cut sequence\n",
      "...start parse seq by cutter: GATC\n",
      "...cost 0.0001971721649169922 sec to cut sequence\n",
      "...start parse seq by cutter: AAGCTT\n",
      "...cost 2.7894973754882812e-05 sec to cut sequence\n",
      "...start parse seq by cutter: GATC\n",
      "...cost 0.00031280517578125 sec to cut sequence\n",
      "...start parse seq by cutter: GATC\n",
      "...cost 4.887580871582031e-05 sec to cut sequence\n",
      "...start parse seq by cutter: AAGCTT\n",
      "...cost 0.00026917457580566406 sec to cut sequence\n",
      "...start parse seq by cutter: GATC\n",
      "...cost 4.076957702636719e-05 sec to cut sequence\n",
      "...start parse seq by cutter: AAGCTT\n",
      "...cost 0.00025391578674316406 sec to cut sequence\n",
      "...start parse seq by cutter: AAGCTT\n",
      "...cost 3.504753112792969e-05 sec to cut sequence\n",
      "...start parse seq by cutter: GATC\n",
      "...cost 4.506111145019531e-05 sec to cut sequence\n",
      "...start parse seq by cutter: GATC\n",
      "...cost 0.00014090538024902344 sec to cut sequence\n",
      "...start parse seq by cutter: AAGCTT\n",
      "...cost 0.0003018379211425781 sec to cut sequence\n",
      "...start parse seq by cutter: AAGCTT\n",
      "...cost 4.792213439941406e-05 sec to cut sequence\n",
      "...start parse seq by cutter: GATC\n",
      "...cost 0.00023603439331054688 sec to cut sequence\n",
      "...start parse seq by cutter: AAGCTT\n",
      "...cost 5.91278076171875e-05 sec to cut sequence\n",
      "...start parse seq by cutter: GATC\n",
      "...cost 0.0002999305725097656 sec to cut sequence\n",
      "...start parse seq by cutter: GATC\n",
      "...cost 3.719329833984375e-05 sec to cut sequence\n",
      "...start parse seq by cutter: AAGCTT\n",
      "...cost 0.0004620552062988281 sec to cut sequence\n",
      "...start parse seq by cutter: AAGCTT\n",
      "...cost 3.62396240234375e-05 sec to cut sequence\n",
      "...start parse seq by cutter: GATC\n",
      "...cost 0.00018787384033203125 sec to cut sequence\n",
      "...start parse seq by cutter: GATC\n",
      "...cost 3.0040740966796875e-05 sec to cut sequence\n",
      "...start parse seq by cutter: AAGCTT\n",
      "...cost 0.00021409988403320312 sec to cut sequence\n",
      "...start parse seq by cutter: AAGCTT\n",
      "...cost 4.696846008300781e-05 sec to cut sequence\n",
      "...start parse seq by cutter: GATC\n",
      "...cost 0.0003020763397216797 sec to cut sequence\n",
      "...start parse seq by cutter: AAGCTT\n",
      "...cost 9.298324584960938e-05 sec to cut sequence\n",
      "...start parse seq by cutter: GATC\n",
      "...cost 0.00024080276489257812 sec to cut sequence\n",
      "...start parse seq by cutter: AAGCTT\n",
      "...cost 6.318092346191406e-05 sec to cut sequence\n",
      "...start parse seq by cutter: GATC\n",
      "...cost 0.00022292137145996094 sec to cut sequence\n",
      "...start parse seq by cutter: AAGCTT\n",
      "...cost 3.0040740966796875e-05 sec to cut sequence\n",
      "...start parse seq by cutter: GATC\n",
      "...cost 0.00018024444580078125 sec to cut sequence\n",
      "...start parse seq by cutter: AAGCTT\n",
      "...cost 4.6253204345703125e-05 sec to cut sequence\n",
      "...start parse seq by cutter: GATC\n",
      "...cost 5.602836608886719e-05 sec to cut sequence\n",
      "...start parse seq by cutter: GATC\n",
      "...cost 0.00011920928955078125 sec to cut sequence\n",
      "...start parse seq by cutter: AAGCTT\n",
      "...cost 0.00017881393432617188 sec to cut sequence\n",
      "...start parse seq by cutter: GATC\n",
      "...cost 4.291534423828125e-05 sec to cut sequence\n",
      "...start parse seq by cutter: AAGCTT\n",
      "...cost 0.0001671314239501953 sec to cut sequence\n",
      "...start parse seq by cutter: GATC\n",
      "...cost 3.1948089599609375e-05 sec to cut sequence\n",
      "...start parse seq by cutter: AAGCTT\n",
      "...cost 0.0001480579376220703 sec to cut sequence\n",
      "...start parse seq by cutter: GATC\n",
      "...cost 3.1948089599609375e-05 sec to cut sequence\n",
      "...start parse seq by cutter: AAGCTT\n",
      "...cost 0.00014019012451171875 sec to cut sequence\n",
      "...start parse seq by cutter: GATC\n",
      "...cost 8.392333984375e-05 sec to cut sequence\n",
      "...start parse seq by cutter: AAGCTT\n",
      "...cost 0.0004489421844482422 sec to cut sequence\n",
      "...start parse seq by cutter: GATC\n",
      "...cost 9.274482727050781e-05 sec to cut sequence\n",
      "...start parse seq by cutter: AAGCTT\n",
      "...cost 0.00017380714416503906 sec to cut sequence\n",
      "...start parse seq by cutter: AAGCTT\n",
      "...cost 2.5033950805664062e-05 sec to cut sequence\n",
      "...start parse seq by cutter: GATC\n",
      "...cost 0.00010180473327636719 sec to cut sequence\n",
      "...start parse seq by cutter: AAGCTT\n",
      "...cost 7.295608520507812e-05 sec to cut sequence\n",
      "...start parse seq by cutter: GATC\n",
      "...cost 0.0003352165222167969 sec to cut sequence\n",
      "...start parse seq by cutter: AAGCTT\n",
      "...cost 6.198883056640625e-05 sec to cut sequence\n",
      "...start parse seq by cutter: GATC\n",
      "...cost 7.987022399902344e-05 sec to cut sequence\n",
      "...start parse seq by cutter: AAGCTT\n",
      "...cost 3.814697265625e-05 sec to cut sequence\n",
      "...start parse seq by cutter: GATC\n",
      "...cost 3.0040740966796875e-05 sec to cut sequence\n",
      "...start parse seq by cutter: AAGCTT\n",
      "...cost 2.002716064453125e-05 sec to cut sequence\n",
      "...start parse seq by cutter: GATC\n",
      "...cost 7.724761962890625e-05 sec to cut sequence\n",
      "...start parse seq by cutter: GATC\n",
      "...cost 4.982948303222656e-05 sec to cut sequence\n",
      "...start parse seq by cutter: AAGCTT\n",
      "...cost 0.0001049041748046875 sec to cut sequence\n",
      "...start parse seq by cutter: AAGCTT\n",
      "...cost 4.482269287109375e-05 sec to cut sequence\n",
      "...start parse seq by cutter: GATC\n",
      "...cost 0.00010800361633300781 sec to cut sequence\n",
      "...start parse seq by cutter: AAGCTT\n",
      "...cost 4.410743713378906e-05 sec to cut sequence\n",
      "...start parse seq by cutter: GATC\n",
      "...cost 6.914138793945312e-05 sec to cut sequence\n",
      "...start parse seq by cutter: AAGCTT\n",
      "...cost 2.6941299438476562e-05 sec to cut sequence\n",
      "...start parse seq by cutter: GATC\n",
      "...cost 2.6226043701171875e-05 sec to cut sequence\n",
      "...start parse seq by cutter: AAGCTT\n",
      "...cost 2.002716064453125e-05 sec to cut sequence\n",
      "...start parse seq by cutter: GATC\n",
      "...cost 3.695487976074219e-05 sec to cut sequence\n",
      "...start parse seq by cutter: AAGCTT\n",
      "...cost 2.7179718017578125e-05 sec to cut sequence\n",
      "...start parse seq by cutter: GATC\n",
      "...cost 2.47955322265625e-05 sec to cut sequence\n",
      "...start parse seq by cutter: AAGCTT\n",
      "...cost 1.7881393432617188e-05 sec to cut sequence\n",
      "...start parse seq by cutter: GATC\n",
      "...cost 3.504753112792969e-05 sec to cut sequence\n",
      "...start parse seq by cutter: AAGCTT\n",
      "...cost 1.9073486328125e-05 sec to cut sequence\n",
      "...start parse seq by cutter: GATC\n",
      "...cost 4.00543212890625e-05 sec to cut sequence\n",
      "...start parse seq by cutter: AAGCTT\n",
      "...cost 7.82012939453125e-05 sec to cut sequence\n",
      "...start parse seq by cutter: GATC\n",
      "...cost 0.00021576881408691406 sec to cut sequence\n",
      "...start parse seq by cutter: AAGCTT\n",
      "...cost 1.9073486328125e-05 sec to cut sequence\n",
      "...start parse seq by cutter: GATC\n",
      "...cost 1.8835067749023438e-05 sec to cut sequence\n",
      "...start parse seq by cutter: AAGCTT\n",
      "...cost 1.9073486328125e-05 sec to cut sequence\n",
      "...start parse seq by cutter: GATC\n",
      "...cost 0.0001461505889892578 sec to cut sequence\n",
      "...start parse seq by cutter: GATC\n",
      "...cost 2.3126602172851562e-05 sec to cut sequence\n",
      "...start parse seq by cutter: AAGCTT\n",
      "...cost 0.00016617774963378906 sec to cut sequence\n",
      "...start parse seq by cutter: GATC\n",
      "...cost 2.6702880859375e-05 sec to cut sequence\n",
      "...start parse seq by cutter: AAGCTT\n",
      "...cost 0.00018310546875 sec to cut sequence\n",
      "...start parse seq by cutter: AAGCTT\n",
      "...cost 3.504753112792969e-05 sec to cut sequence\n",
      "...start parse seq by cutter: GATC\n",
      "...cost 3.504753112792969e-05 sec to cut sequence\n",
      "...start parse seq by cutter: AAGCTT\n",
      "...cost 0.00021505355834960938 sec to cut sequence\n",
      "...start parse seq by cutter: GATC\n",
      "...cost 3.5762786865234375e-05 sec to cut sequence\n",
      "...start parse seq by cutter: GATC\n",
      "...cost 2.8133392333984375e-05 sec to cut sequence\n",
      "...start parse seq by cutter: AAGCTT\n",
      "...cost 0.0003802776336669922 sec to cut sequence\n",
      "...start parse seq by cutter: GATC\n",
      "...cost 3.1948089599609375e-05 sec to cut sequence\n",
      "...start parse seq by cutter: AAGCTT\n",
      "...cost 0.00018095970153808594 sec to cut sequence\n",
      "...start parse seq by cutter: GATC\n",
      "...cost 3.814697265625e-05 sec to cut sequence\n",
      "...start parse seq by cutter: AAGCTT\n",
      "...cost 0.000225067138671875 sec to cut sequence\n",
      "...start parse seq by cutter: AAGCTT\n",
      "...cost 3.1948089599609375e-05 sec to cut sequence\n",
      "...start parse seq by cutter: GATC\n",
      "...cost 4.00543212890625e-05 sec to cut sequence\n",
      "...start parse seq by cutter: AAGCTT\n",
      "...cost 0.0002071857452392578 sec to cut sequence\n",
      "...start parse seq by cutter: GATC\n",
      "...cost 0.00017881393432617188 sec to cut sequence\n",
      "...start parse seq by cutter: AAGCTT\n",
      "...cost 4.792213439941406e-05 sec to cut sequence\n",
      "...start parse seq by cutter: GATC\n",
      "...cost 0.0001609325408935547 sec to cut sequence\n",
      "...start parse seq by cutter: AAGCTT\n",
      "...cost 2.9087066650390625e-05 sec to cut sequence\n",
      "...start parse seq by cutter: GATC\n",
      "...cost 2.9087066650390625e-05 sec to cut sequence\n",
      "...start parse seq by cutter: AAGCTT\n",
      "...cost 2.9325485229492188e-05 sec to cut sequence\n",
      "...start parse seq by cutter: GATC\n",
      "...cost 0.00021195411682128906 sec to cut sequence\n",
      "...start parse seq by cutter: AAGCTT\n",
      "...cost 2.9087066650390625e-05 sec to cut sequence\n",
      "...start parse seq by cutter: GATC\n",
      "...cost 3.790855407714844e-05 sec to cut sequence\n",
      "...start parse seq by cutter: AAGCTT\n",
      "...cost 0.00011277198791503906 sec to cut sequence\n",
      "...start parse seq by cutter: GATC\n",
      "...cost 0.0002560615539550781 sec to cut sequence\n",
      "...start parse seq by cutter: GATC\n",
      "...cost 2.8371810913085938e-05 sec to cut sequence\n",
      "...start parse seq by cutter: AAGCTT\n",
      "...cost 0.00019311904907226562 sec to cut sequence\n",
      "...start parse seq by cutter: GATC\n",
      "...cost 0.00019788742065429688 sec to cut sequence\n",
      "...start parse seq by cutter: AAGCTT\n",
      "...cost 0.0003540515899658203 sec to cut sequence\n",
      "...start parse seq by cutter: AAGCTT\n",
      "...cost 6.818771362304688e-05 sec to cut sequence\n",
      "...start parse seq by cutter: GATC\n",
      "...cost 0.000164031982421875 sec to cut sequence\n",
      "...start parse seq by cutter: AAGCTT\n",
      "...cost 2.6941299438476562e-05 sec to cut sequence\n",
      "...start parse seq by cutter: GATC\n",
      "...cost 2.6941299438476562e-05 sec to cut sequence\n",
      "...start parse seq by cutter: AAGCTT\n",
      "...cost 3.1948089599609375e-05 sec to cut sequence\n",
      "...start parse seq by cutter: GATC\n",
      "...cost 0.00015091896057128906 sec to cut sequence\n",
      "...start parse seq by cutter: AAGCTT\n",
      "...cost 7.081031799316406e-05 sec to cut sequence\n",
      "...start parse seq by cutter: GATC\n",
      "...cost 6.413459777832031e-05 sec to cut sequence\n",
      "...start parse seq by cutter: AAGCTT\n",
      "...cost 0.00019407272338867188 sec to cut sequence\n",
      "...start parse seq by cutter: GATC\n",
      "...cost 6.914138793945312e-05 sec to cut sequence\n",
      "...start parse seq by cutter: AAGCTT\n",
      "...cost 9.179115295410156e-05 sec to cut sequence\n",
      "...start parse seq by cutter: GATC\n",
      "...cost 0.0001990795135498047 sec to cut sequence\n",
      "...start parse seq by cutter: AAGCTT\n",
      "...cost 8.821487426757812e-05 sec to cut sequence\n",
      "...start parse seq by cutter: GATC\n",
      "...cost 0.00019097328186035156 sec to cut sequence\n"
     ]
    }
   ],
   "source": [
    "totalRepeat = multipleCutter.cutRepeatSeqToFragment()"
   ]
  },
  {
   "cell_type": "code",
   "execution_count": 30,
   "metadata": {},
   "outputs": [
    {
     "data": {
      "text/plain": [
       "0"
      ]
     },
     "execution_count": 30,
     "metadata": {},
     "output_type": "execute_result"
    }
   ],
   "source": [
    "multipleCutter.fragmentGroupbyLen()"
   ]
  },
  {
   "cell_type": "code",
   "execution_count": null,
   "metadata": {},
   "outputs": [],
   "source": [
    "# # [ Output GroupByData File ]\n",
    "# df= pd.DataFrame(matchStateRepeatInfoList, columns=['length', 'startIdx', 'endIdx', 'seq'])\n",
    "# matchDfGroupByLen = df.groupby(by=[\"length\"], sort=True)\n",
    "# tem = df.groupby(by=[\"length\"]).agg({\"length\": \"sum\"})\n",
    "\n",
    "# original_stdout = sys.stdout\n",
    "# with open(f'../outputFile/seqRepeatPosition/seqGroupByLenData_{stateName}_Cutter_{cutterA}.txt', 'w') as f:\n",
    "#     sys.stdout = f\n",
    "#     for key, row in tem.iterrows():\n",
    "#         print(f\"{key}:\")\n",
    "#         for i in matchDfGroupByLen.get_group(key).index:\n",
    "#             print(f\"({ df.iloc[i]['startIdx']}, {df.iloc[i]['endIdx']})\\n{ df.iloc[i]['seq']}\")\n",
    "#         print(\"\\n\")\n",
    "#     sys.stdout = original_stdout"
   ]
  },
  {
   "cell_type": "code",
   "execution_count": null,
   "metadata": {},
   "outputs": [
    {
     "name": "stdout",
     "output_type": "stream",
     "text": [
      "matchCount:612\tdfamCount:4458\tRatio:0.13728129205921938\n"
     ]
    },
    {
     "data": {
      "text/plain": [
       "0.13728129205921938"
      ]
     },
     "execution_count": 15,
     "metadata": {},
     "output_type": "execute_result"
    }
   ],
   "source": [
    "# [ Singal Cutters ] cutterA\n",
    "dfam = DfamEvaluation(repeatPositionListA, hitFileName='chrX_dm6_dfam.nrph.hits')\n",
    "repeatPositionLookupDic = dfam.positionBucketClassifier()\n",
    "dfamPositionList = dfam.getDfamPositionList()\n",
    "\n",
    "# from Dfam , check repeat\n",
    "DRrepeatMatchList, DRmatchedFamilyAccList, DRmatchedFamilyNameList = dfam.checkDfamMatchWithRepeat()\n",
    "\n",
    "# from repeat , check Dfam\n",
    "RDrepeatMatchList, RDmatchedFamilyAccList, RDmatchedFamilyNameList = dfam.checkRepeatMatchWithDfam()\n",
    "\n",
    "# dfam.familyMatchRatio(DRmatchedFamilyAccList)\n",
    "dfam.matchRatio(DRrepeatMatchList)"
   ]
  },
  {
   "cell_type": "code",
   "execution_count": null,
   "metadata": {},
   "outputs": [
    {
     "name": "stdout",
     "output_type": "stream",
     "text": [
      "matchCount:138\tdfamCount:4458\tRatio:0.03095558546433378\n",
      "count     4320.000000\n",
      "mean       600.948148\n",
      "std       1057.043156\n",
      "min      -2588.000000\n",
      "25%        119.000000\n",
      "50%        290.000000\n",
      "75%        597.250000\n",
      "max      11164.000000\n",
      "dtype: float64\n"
     ]
    }
   ],
   "source": [
    "# [ Singal Cutters ] cutterB\n",
    "dfam = DfamEvaluation(repeatPositionListB, hitFileName='chrX_dm6_dfam.nrph.hits')\n",
    "repeatPositionLookupDic = dfam.positionBucketClassifier()\n",
    "dfamPositionList = dfam.getDfamPositionList()\n",
    "\n",
    "# from Dfam , check repeat\n",
    "DRrepeatMatchList, DRmatchedFamilyAccList, DRmatchedFamilyNameList = dfam.checkDfamMatchWithRepeat()\n",
    "\n",
    "# from repeat , check Dfam\n",
    "RDrepeatMatchList, RDmatchedFamilyAccList, RDmatchedFamilyNameList = dfam.checkRepeatMatchWithDfam()\n",
    "\n",
    "# dfam.familyMatchRatio(DRmatchedFamilyAccList)\n",
    "dfam.matchRatio(DRrepeatMatchList)\n",
    "unMatchDf = dfam.getUnmatchInfo(DRrepeatMatchList)"
   ]
  },
  {
   "cell_type": "code",
   "execution_count": null,
   "metadata": {},
   "outputs": [
    {
     "name": "stdout",
     "output_type": "stream",
     "text": [
      "matchCount:117\tdfamCount:4458\tRatio:0.026244952893674293\n",
      "count     4341.000000\n",
      "mean       602.378715\n",
      "std       1058.456198\n",
      "min      -2588.000000\n",
      "25%        119.000000\n",
      "50%        292.000000\n",
      "75%        599.000000\n",
      "max      11164.000000\n",
      "dtype: float64\n"
     ]
    }
   ],
   "source": [
    "# [ Mltiplecutter, Intersection or Union ]\n",
    "dfam = DfamEvaluation(matchStateRepeatInfoList, hitFileName='chrX_dm6_dfam.nrph.hits')\n",
    "repeatPositionLookupDic = dfam.positionBucketClassifier()\n",
    "dfamPositionList = dfam.getDfamPositionList()\n",
    "\n",
    "# from Dfam , check repeat\n",
    "DRrepeatMatchList, DRmatchedFamilyAccList, DRmatchedFamilyNameList = dfam.checkDfamMatchWithRepeat()\n",
    "\n",
    "# from repeat , check Dfam\n",
    "RDrepeatMatchList, RDmatchedFamilyAccList, RDmatchedFamilyNameList = dfam.checkRepeatMatchWithDfam()\n",
    "\n",
    "# dfam.familyMatchRatio(DRmatchedFamilyAccList)\n",
    "dfam.matchRatio(DRrepeatMatchList)\n",
    "unMatchDf = dfam.getUnmatchInfo(DRrepeatMatchList)"
   ]
  }
 ],
 "metadata": {
  "interpreter": {
   "hash": "40d3a090f54c6569ab1632332b64b2c03c39dcf918b08424e98f38b5ae0af88f"
  },
  "kernelspec": {
   "display_name": "Python 3.7.11 64-bit ('base': conda)",
   "name": "python3"
  },
  "language_info": {
   "codemirror_mode": {
    "name": "ipython",
    "version": 3
   },
   "file_extension": ".py",
   "mimetype": "text/x-python",
   "name": "python",
   "nbconvert_exporter": "python",
   "pygments_lexer": "ipython3",
   "version": "3.7.11"
  }
 },
 "nbformat": 4,
 "nbformat_minor": 5
}
