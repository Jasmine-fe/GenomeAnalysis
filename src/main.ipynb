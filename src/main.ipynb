{
 "cells": [
  {
   "cell_type": "code",
   "execution_count": 1,
   "id": "ruled-catch",
   "metadata": {
    "scrolled": true,
    "tags": []
   },
   "outputs": [
    {
     "output_type": "execute_result",
     "data": {
      "text/plain": "<module 'Evaluation.RepeatEvaluation' from '/Users/apple/Desktop/BioProject/GenomeAnalysis/src/Evaluation/RepeatEvaluation.py'>"
     },
     "metadata": {},
     "execution_count": 1
    }
   ],
   "source": [
    "import re\n",
    "import os\n",
    "import sys\n",
    "import csv\n",
    "import copy\n",
    "import random\n",
    "import numpy as np \n",
    "import pandas as pd \n",
    "from Bio.Seq import Seq\n",
    "from collections import Counter, OrderedDict, namedtuple\n",
    "from prettytable import PrettyTable\n",
    "\n",
    "import importlib\n",
    "from Util.FragmentUtil import fragmentLenPlot\n",
    "# from Evaluation.RepeatEvaluation import getRepeatPositionList, positionBucketClassifier, checkDfamMatch, generateDfamPositionData, getDfamPositionList, checkOutputMatch\n",
    "from Util.SeqUtil import seqInfo, parseFasta, parseSeq, parseSeqByCutter\n",
    "from DataInfo import currDatasetName, currDataset, datasetPath, matchPattern, cutter, cutterLen, fragmentN, commonCount\n",
    "from RepeatFinder import findRepeatSeqs, integrateRepeatInfo, getIRComb, evaluateRepeat, generateIROutputFile, checkTandemRepeatExist, generateTROutputFile, generateFragmentOutputFile\n",
    "from Evaluation.RepeatEvaluation import RepeatEvaluation\n",
    "from Evaluation.DfamEvaluation import DfamEvaluation\n",
    "\n",
    "importlib.reload(sys.modules['Evaluation.RepeatEvaluation'])"
   ]
  },
  {
   "cell_type": "code",
   "execution_count": 2,
   "metadata": {},
   "outputs": [],
   "source": [
    "from Bio import pairwise2"
   ]
  },
  {
   "cell_type": "code",
   "execution_count": 3,
   "metadata": {
    "tags": []
   },
   "outputs": [
    {
     "output_type": "stream",
     "name": "stdout",
     "text": "...start parsing chrY.fa fasta file ...\n...cost0.9186320304870605 sec to parse fasta file ...\nchrY.fa dataset\n number of sequence:1\n total length:57227415\n\n"
    }
   ],
   "source": [
    "parseFastaSeqs = parseFasta(currDataset, datasetPath, matchPattern, matchMode = False)\n",
    "seqInfo(currDataset, parseFastaSeqs)"
   ]
  },
  {
   "cell_type": "code",
   "execution_count": 4,
   "id": "happy-evening",
   "metadata": {
    "scrolled": true,
    "tags": []
   },
   "outputs": [
    {
     "output_type": "stream",
     "name": "stdout",
     "text": "...start parse seq by cutter: GATC\n...cost 0.21804189682006836 sec to cut sequence\n"
    }
   ],
   "source": [
    "fragmentsLenList, fragmentsSeqList = parseSeqByCutter(parseFastaSeqs)"
   ]
  },
  {
   "cell_type": "code",
   "execution_count": 5,
   "id": "latin-audio",
   "metadata": {
    "scrolled": true,
    "tags": []
   },
   "outputs": [
    {
     "output_type": "stream",
     "name": "stdout",
     "text": "... start finding repeat seq ...\n...cost0.14251184463500977 sec to finding repeat seq  ...\n"
    }
   ],
   "source": [
    "repeatFragNLenList, repeatFragNPositionDict = findRepeatSeqs(fragmentsLenList)"
   ]
  },
  {
   "cell_type": "code",
   "execution_count": 6,
   "metadata": {},
   "outputs": [],
   "source": [
    "# # tandem Repeat in N fragment\n",
    "# tandemRepeatLenList = list(filter(checkTandemRepeatExist, repeatFragNLenList))\n",
    "# tandemRepeatInfoList = integrateRepeatInfo(fragmentsSeqList, fragmentsLenList, tandemRepeatLenList, repeatFragNPositionDict, repeatType=1)\n",
    "# generateTROutputFile(tandemRepeatInfoList, outputFileName= f\"{currDatasetName}TRS\", matchRatioOfSum=0.4)"
   ]
  },
  {
   "cell_type": "code",
   "execution_count": 7,
   "metadata": {
    "tags": []
   },
   "outputs": [],
   "source": [
    "# interspersed repetitive sequences\n",
    "repeatInfoList = integrateRepeatInfo(fragmentsSeqList[:1], fragmentsLenList, repeatFragNLenList, repeatFragNPositionDict, repeatType=2, filtered=True)\n",
    "# seqPermutation = getIRComb(repeatInfoList)\n",
    "# generateIROutputFile(seqPermutation, outputFileName= f\"{currDatasetName}IRS\", matchRatioOfSum=0.4)"
   ]
  },
  {
   "cell_type": "code",
   "execution_count": 8,
   "metadata": {
    "tags": []
   },
   "outputs": [],
   "source": [
    "# For Evaluation\n",
    "evaluation = RepeatEvaluation(repeatInfoList)\n",
    "repeatPositionList = evaluation.getRepeatPositionList()\n",
    "repeatPositionLookupDic = evaluation.positionBucketClassifier()"
   ]
  },
  {
   "cell_type": "code",
   "execution_count": 9,
   "metadata": {
    "tags": []
   },
   "outputs": [],
   "source": [
    "# generateDfamPositionData(readFileName = \"hg38_dfam_nrph_chrY\", outputFileName = \"DfamChrYPositionData\")\n",
    "# dfamDatasetMatchList = evaluation.checkDfamMatch(repeatPositionLookupDic, readFileName = \"DfamChrYPositionData\")"
   ]
  },
  {
   "cell_type": "code",
   "execution_count": 12,
   "metadata": {
    "tags": []
   },
   "outputs": [],
   "source": [
    "dfamPositionList = evaluation.getDfamPositionList(readFileName = \"DfamChrYPositionData\")\n",
    "dfamPositionLookupDic = evaluation.positionBucketClassifier(bucketNum= 100)"
   ]
  },
  {
   "cell_type": "code",
   "execution_count": 15,
   "metadata": {
    "tags": []
   },
   "outputs": [],
   "source": [
    "outputMatchList, matchedFamilyAccList, matchedFamilyNameList = evaluation.checkOutputMatch(dfamPositionList, dfamPositionLookupDic, bucketNum= 100)"
   ]
  },
  {
   "cell_type": "code",
   "execution_count": 16,
   "metadata": {},
   "outputs": [
    {
     "output_type": "execute_result",
     "data": {
      "text/plain": "[78]"
     },
     "metadata": {},
     "execution_count": 16
    }
   ],
   "source": [
    "matchIdxList = [ idx for idx, value in enumerate(outputMatchList) if value == True]\n",
    "matchIdxList[:10]\n",
    "# repeatPositionList[i] >  outputMatchList[i] == True, Check Sequence Position and Base"
   ]
  },
  {
   "cell_type": "code",
   "execution_count": 17,
   "metadata": {},
   "outputs": [
    {
     "output_type": "execute_result",
     "data": {
      "text/plain": "PositionInfo(startIdx=1638759, endIdx=1639250)"
     },
     "metadata": {},
     "execution_count": 17
    }
   ],
   "source": [
    "repeatPositionList[0]"
   ]
  },
  {
   "cell_type": "code",
   "execution_count": 48,
   "metadata": {},
   "outputs": [
    {
     "output_type": "execute_result",
     "data": {
      "text/plain": "58"
     },
     "metadata": {},
     "execution_count": 48
    }
   ],
   "source": [
    "targetSeq = repeatInfoList[0].position[0].seq\n",
    "targetSeq = \"TTGAAGTTCTGACCTCCTGTCAATATCCCTTCCCCTCACCTTGACCCTCCCATTCTGCCCCACCTGTCAG\"\n",
    "len(targetSeq)\n",
    "\n",
    "Target: TTGAAGTTCTGACCTCCTGTCAATATCCCTTCCCCTCACCTTGACCCTCCCATTCTGCCCCACCTGTCAG\n",
    "Cndidate: \n",
    "1. GGCCGGGCGCGGTGGCTCACGCCTGTAATCCCAGCACTTTGGGAGGCCGAGGCGGGAG\n",
    "2. AGCCGGGCGTGGTGGCGCGCGCCTGTAGTCCCAGCTACTCGGGAGGCTGAGGCGGGAG\n",
    "3. GCTTGAGCCCAGGAGNTCGAGGCTGCAGTGAGCTAT"
   ]
  },
  {
   "cell_type": "code",
   "execution_count": 44,
   "metadata": {},
   "outputs": [],
   "source": [
    "DF35ConsensusSeq = \"GGCCGGGCGCGGTGGCTCACGCCTGTAATCCCAGCACTTTGGGAGGCCGAGGCGGGAGGATCGCTTGAGGCCAGGAGTTCGAGACCAGCCTGGGCAACATAGCGAGACCCCGTCTCTACAAAAAATATAAAAATTAGCCGGGCGTGGTGGCGCGCGCCTGTAGTCCCAGCTACTCGGGAGGCTGAGGCGGGAGGATCGCTTGAGCCCAGGAGNTCGAGGCTGCAGTGAGCTATGATCGCGCCACTGCACTCCAGCCTGGGCGACAGAGCGAGACCCTGTCTCAAAAAAAAAAAAAAAAAAAAAAAAAAAAAA\""
   ]
  },
  {
   "cell_type": "markdown",
   "metadata": {},
   "source": []
  },
  {
   "cell_type": "code",
   "execution_count": 46,
   "metadata": {},
   "outputs": [
    {
     "output_type": "execute_result",
     "data": {
      "text/plain": "Alignment(seqA='GGCCGGGCGCGGTGGCTCACGCCTGTAATCCCAGCACTTTGGGAGGCCGAGGCGGGAGGATCGCTTGAGGCCAGGAGTTCGAGACCAGCCTGGGCAACATAGCGAGACCCCGTCTCTACAAAAAATATAAAAATTAGCCGGGCGTGGTGGCGCGCGCCTGTAGTCCCAGCTACTCGGGAGGCTGAGGCGGGAGGATCGCTTGAGCCCAGGAGNTCGAGGCTGCAGTGAGCTATGATCGCGCCACTGCACTCCAGCCTGGGCGACAGAGCGAGACCCTGTCTCAAAAAAAAAAAAAAAAAAAAAAAAAAAAAA', seqB='--------------------------------------TT---------------GA--A--G-TT-----C------T---G---A-CCT---C--C-T-----------G----T-C-----A-AT----A-T--CC---C-T--T----C-C-CC-----T--CA-C--CT--------TGA--C--------C-C-T----CC-------C-A---T----T---C--TG--C-C-CCA---C-CT---G--T-----------C---A----G----------------------------------', score=70.0, start=38, end=278)"
     },
     "metadata": {},
     "execution_count": 46
    }
   ],
   "source": [
    "alignments = pairwise2.align.localxx(DF35ConsensusSeq, targetSeq)\n",
    "alignments[0]"
   ]
  },
  {
   "cell_type": "code",
   "execution_count": 35,
   "metadata": {
    "tags": []
   },
   "outputs": [
    {
     "output_type": "stream",
     "name": "stdout",
     "text": "len(outputMatchList):239\nlen(matchedList):117\n\n"
    }
   ],
   "source": [
    "matchedList = list(filter(lambda x: x, outputMatchList))\n",
    "print(f'len(outputMatchList):{len(outputMatchList)}\\nlen(matchedList):{len(matchedList)}\\n')"
   ]
  },
  {
   "cell_type": "code",
   "execution_count": 36,
   "metadata": {},
   "outputs": [],
   "source": [
    "matchedFamilyNameCounter = Counter(matchedFamilyNameList).most_common()"
   ]
  },
  {
   "cell_type": "code",
   "execution_count": 37,
   "metadata": {},
   "outputs": [],
   "source": [
    "fTable = PrettyTable(['FamilyName', 'Count'])\n",
    "for i in list(matchedFamilyNameCounter):\n",
    "    fTable.add_row([i[0], i[1]])"
   ]
  },
  {
   "cell_type": "code",
   "execution_count": 39,
   "metadata": {
    "tags": []
   },
   "outputs": [
    {
     "output_type": "stream",
     "name": "stdout",
     "text": "+-------------+-------+\n|  FamilyName | Count |\n+-------------+-------+\n|    AluSx3   |   20  |\n|      L2     |   14  |\n|    AluSc    |   8   |\n|    AluJr4   |   8   |\n|      L3     |   7   |\n|    AluSg    |   6   |\n|    AluJo    |   6   |\n|     MIRc    |   4   |\n|  L1MA1_3end |   4   |\n|    AluYj4   |   4   |\n|    AluSx1   |   4   |\n|    AluJb    |   2   |\n|    AluSx    |   2   |\n|    AluSc8   |   2   |\n|    AluJr    |   2   |\n|  L1M3d_5end |   2   |\n| L1M3de_5end |   2   |\n|  L1P4_orf2  |   2   |\n|    MLT1H    |   2   |\n|  L1PA4_3end |   2   |\n|    LTR32    |   2   |\n|    MLT1K    |   2   |\n| MamGypLTR1d |   2   |\n|    MER20    |   2   |\n|  L1M5_orf2  |   2   |\n|  L1MEd_5end |   2   |\n|     MIRb    |   2   |\n+-------------+-------+\n"
    }
   ],
   "source": [
    "print(fTable)"
   ]
  }
 ],
 "metadata": {
  "kernelspec": {
   "display_name": "Python 3",
   "language": "python",
   "name": "python3"
  },
  "language_info": {
   "codemirror_mode": {
    "name": "ipython",
    "version": 3
   },
   "file_extension": ".py",
   "mimetype": "text/x-python",
   "name": "python",
   "nbconvert_exporter": "python",
   "pygments_lexer": "ipython3",
   "version": "3.8.1-final"
  }
 },
 "nbformat": 4,
 "nbformat_minor": 5
}