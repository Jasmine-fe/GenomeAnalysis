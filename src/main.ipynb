{
 "cells": [
  {
   "cell_type": "code",
   "execution_count": 1,
   "metadata": {
    "scrolled": true,
    "tags": []
   },
   "outputs": [],
   "source": [
    "import re\n",
    "import os\n",
    "import sys\n",
    "import csv\n",
    "import numpy as np \n",
    "import pandas as pd\n",
    "import seaborn as sns\n",
    "from prettytable import PrettyTable\n",
    "from matplotlib import pyplot as plt\n",
    "from Bio import SeqIO, pairwise2, AlignIO\n",
    "from collections import Counter, namedtuple\n",
    "from Bio.Align import AlignInfo, MultipleSeqAlignment\n",
    "import importlib\n",
    "# importlib.reload(sys.modules['Sequence'])\n",
    "from Sequence import Sequence\n",
    "from MultipleCutter import MultipleCutter\n",
    "from Util.SeqUtil import seqInfo, parseFasta, parseSeqByCutter\n",
    "from DataStructure import refSeqSimilarityInfo\n",
    "from Evaluation.DfamEvaluation import DfamEvaluation\n",
    "from SharedInfo import currDatasetName, cutterA, cutterB, colorA, colorB\n",
    "from Util.AnalysisUtil import listToSortedCounter, getStatisticData, mostCommonTable\n",
    "from Util.PlotUtil import basicPlot, twoLabelBasicPlot, lengthScatterDistributionPlot\n"
   ]
  },
  {
   "cell_type": "code",
   "execution_count": 2,
   "metadata": {},
   "outputs": [],
   "source": [
    "outputFolder = \"../outputFile\""
   ]
  },
  {
   "cell_type": "markdown",
   "metadata": {},
   "source": []
  },
  {
   "cell_type": "code",
   "execution_count": 3,
   "metadata": {},
   "outputs": [
    {
     "name": "stdout",
     "output_type": "stream",
     "text": [
      "...start parsing dm6/chrX_sequence.fasta fasta file ...\n",
      "...cost0.14202308654785156 sec to parse fasta file ...\n",
      "...start parse seq by cutter: GATC\n",
      "...cost 0.7399570941925049 sec to cut sequence\n",
      "... start finding repeat seq ...\n",
      "...cost0.06326985359191895 sec to finding repeat seq  ...\n"
     ]
    }
   ],
   "source": [
    "seqA = Sequence(cutterA)\n",
    "parseFastaA = seqA.parseFasta()\n",
    "fragmentLenListA, fragmentSeqListA = seqA.parseSeqByCutter()\n",
    "repeatInfoListA = seqA.findRepeatSeqs(lengthLimit=False)\n",
    "filterRepeatInfoA = seqA.filterRepeatInfo() \n",
    "repeatPositionListA = seqA.getRepeatPositionList(filter=True)  # filter out identical\n",
    "seqAState = seqA.seqStateGenerator()\n",
    "seqA.generateRepeatFragentFile(filePath=f'{outputFolder}/seqRepeatPosition/seq_{cutterA}.txt')\n",
    "# seqA.calculateConsistencyRatio(seqA.repeatPositionTable).sum() , seqA.calculateConsistencyRatio(seqA.repeatPositionTable).mean()"
   ]
  },
  {
   "cell_type": "code",
   "execution_count": null,
   "metadata": {},
   "outputs": [
    {
     "name": "stdout",
     "output_type": "stream",
     "text": [
      "SeqState Output Percentage: 0.037840232150925454\n"
     ]
    }
   ],
   "source": [
    "matchStateLen = len(list(filter(lambda x: x == 1, seqAState)))\n",
    "print(f'SeqState Output Percentage: {matchStateLen / len(parseFastaA[0])}')"
   ]
  },
  {
   "cell_type": "code",
   "execution_count": 5,
   "metadata": {},
   "outputs": [
    {
     "name": "stdout",
     "output_type": "stream",
     "text": [
      "...start parsing dm6/chrX_sequence.fasta fasta file ...\n",
      "...cost0.15555381774902344 sec to parse fasta file ...\n",
      "...start parse seq by cutter: AAGCTT\n",
      "...cost 0.747204065322876 sec to cut sequence\n",
      "... start finding repeat seq ...\n",
      "...cost0.007175922393798828 sec to finding repeat seq  ...\n"
     ]
    }
   ],
   "source": [
    "seqB = Sequence(cutterB)\n",
    "parseFastaB = seqB.parseFasta()\n",
    "fragmentLenListB, fragmentSeqListB = seqB.parseSeqByCutter()\n",
    "repeatInfoListB = seqB.findRepeatSeqs(lengthLimit=False)\n",
    "filterRepeatInfoB = seqB.filterRepeatInfo()\n",
    "repeatPositionListB = seqB.getRepeatPositionList(filter=True)\n",
    "seqBState = seqB.seqStateGenerator()\n",
    "seqB.generateRepeatFragentFile(filePath=f'{outputFolder}/seqRepeatPosition/seq_{cutterB}')"
   ]
  },
  {
   "cell_type": "code",
   "execution_count": 35,
   "metadata": {},
   "outputs": [
    {
     "name": "stdout",
     "output_type": "stream",
     "text": [
      "SeqState A Output Percentage: 0.037840232150925454\n"
     ]
    }
   ],
   "source": [
    "matchStateLen = len(list(filter(lambda x: x == 1, seqAState)))\n",
    "print(f'SeqState A Output Percentage: {matchStateLen / len(parseFastaA[0])}')"
   ]
  },
  {
   "cell_type": "code",
   "execution_count": 36,
   "metadata": {},
   "outputs": [
    {
     "name": "stdout",
     "output_type": "stream",
     "text": [
      "SeqState B Output Percentage: 0.006023165734520684\n"
     ]
    }
   ],
   "source": [
    "matchStateLen = len(list(filter(lambda x: x == 1, seqBState)))\n",
    "print(f'SeqState B Output Percentage: {matchStateLen / len(parseFastaA[0])}')"
   ]
  },
  {
   "cell_type": "code",
   "execution_count": 31,
   "metadata": {},
   "outputs": [
    {
     "data": {
      "text/plain": [
       "length              381.856549\n",
       "consistencyRatio      0.665008\n",
       "dtype: float64"
      ]
     },
     "execution_count": 31,
     "metadata": {},
     "output_type": "execute_result"
    }
   ],
   "source": [
    "seqA.calculateConsistencyRatio(seqA.repeatPositionTable).mean()"
   ]
  },
  {
   "cell_type": "code",
   "execution_count": 32,
   "metadata": {},
   "outputs": [
    {
     "data": {
      "text/plain": [
       "length              959.271186\n",
       "consistencyRatio      0.899881\n",
       "dtype: float64"
      ]
     },
     "execution_count": 32,
     "metadata": {},
     "output_type": "execute_result"
    }
   ],
   "source": [
    "seqB.calculateConsistencyRatio(seqB.repeatPositionTable).mean()"
   ]
  },
  {
   "cell_type": "code",
   "execution_count": 8,
   "metadata": {
    "tags": []
   },
   "outputs": [
    {
     "name": "stdout",
     "output_type": "stream",
     "text": [
      "dm6/chrX_sequence dataset\n",
      " number of sequence:1\n",
      " total length:23542271\n",
      "\n"
     ]
    }
   ],
   "source": [
    "seqInfo(currDatasetName, parseFastaA)"
   ]
  },
  {
   "cell_type": "markdown",
   "metadata": {},
   "source": [
    "## Multiple cutters"
   ]
  },
  {
   "cell_type": "code",
   "execution_count": 9,
   "metadata": {},
   "outputs": [
    {
     "name": "stdout",
     "output_type": "stream",
     "text": [
      "chr: 23542271\n",
      "unMatch: 22630817, union:911454, intersection:121190\n"
     ]
    }
   ],
   "source": [
    "multipleCutter = MultipleCutter(sequence=parseFastaA[0], seqStateList = [seqAState, seqBState])\n",
    "mergeState = multipleCutter.getSeqStateSum()\n",
    "unMatchState, unionState, intersectionState = multipleCutter.getSeqStateInfo()\n",
    "stateName=\"intersection\"\n",
    "matchStateIdxList = multipleCutter.getSpecificStateIdxList(stateName)\n",
    "matchStateRepeatInfoList = multipleCutter.getSpecificStatePositionList()"
   ]
  },
  {
   "cell_type": "code",
   "execution_count": 37,
   "metadata": {},
   "outputs": [
    {
     "name": "stdout",
     "output_type": "stream",
     "text": [
      "SeqState Output Percentage: 0.005147761658167982\n"
     ]
    }
   ],
   "source": [
    "matchStateLen = len(list(filter(lambda x: x == 2, mergeState)))\n",
    "print(f'SeqState Output Percentage: {matchStateLen / len(parseFastaA[0])}')"
   ]
  },
  {
   "cell_type": "markdown",
   "metadata": {},
   "source": [
    "## Repeat Seq -> Repeat Fragment"
   ]
  },
  {
   "cell_type": "code",
   "execution_count": 11,
   "metadata": {},
   "outputs": [],
   "source": [
    "# totalRepeat = multipleCutter.cutRepeatSeqToFragment()\n",
    "# multipleCutter.fragmentGroupbyLen()"
   ]
  },
  {
   "cell_type": "code",
   "execution_count": 38,
   "metadata": {},
   "outputs": [],
   "source": [
    "df= pd.DataFrame(matchStateRepeatInfoList, columns=['length', 'startIdx', 'endIdx', 'seq'])"
   ]
  },
  {
   "cell_type": "markdown",
   "metadata": {},
   "source": []
  },
  {
   "cell_type": "code",
   "execution_count": 13,
   "metadata": {},
   "outputs": [],
   "source": [
    "# # [ Output GroupByData File ]\n",
    "# matchDfGroupByLen = df.groupby(by=[\"length\"], sort=True)\n",
    "# tem = df.groupby(by=[\"length\"]).agg({\"length\": \"sum\"})\n",
    "\n",
    "# original_stdout = sys.stdout\n",
    "# with open(f'../outputFile/seqRepeatPosition/seqGroupByLenData_{stateName}_Cutter_{cutterA}.txt', 'w') as f:\n",
    "#     sys.stdout = f\n",
    "#     for key, row in tem.iterrows():\n",
    "#         print(f\"{key}:\")\n",
    "#         for i in matchDfGroupByLen.get_group(key).index:\n",
    "#             print(f\"({ df.iloc[i]['startIdx']}, {df.iloc[i]['endIdx']})\\n{ df.iloc[i]['seq']}\")\n",
    "#         print(\"\\n\")\n",
    "#     sys.stdout = original_stdout"
   ]
  },
  {
   "cell_type": "code",
   "execution_count": 15,
   "metadata": {},
   "outputs": [
    {
     "name": "stdout",
     "output_type": "stream",
     "text": [
      "matchCount:612\tdfamCount:4458\tRatio:0.13728129205921938\n"
     ]
    },
    {
     "data": {
      "text/plain": [
       "0.13728129205921938"
      ]
     },
     "execution_count": 15,
     "metadata": {},
     "output_type": "execute_result"
    }
   ],
   "source": [
    "# [ Singal Cutters ]\n",
    "dfam = DfamEvaluation(repeatPositionListA, hitFileName='chrX_dm6_dfam.nrph.hits')\n",
    "repeatPositionLookupDic = dfam.positionBucketClassifier()\n",
    "dfamPositionList = dfam.getDfamPositionList()\n",
    "\n",
    "# from Dfam , check repeat\n",
    "DRrepeatMatchList, DRmatchedFamilyAccList, DRmatchedFamilyNameList = dfam.checkDfamMatchWithRepeat()\n",
    "\n",
    "# from repeat , check Dfam\n",
    "RDrepeatMatchList, RDmatchedFamilyAccList, RDmatchedFamilyNameList = dfam.checkRepeatMatchWithDfam()\n",
    "\n",
    "# dfam.familyMatchRatio(DRmatchedFamilyAccList)\n",
    "dfam.matchRatio(DRrepeatMatchList)"
   ]
  },
  {
   "cell_type": "code",
   "execution_count": 39,
   "metadata": {},
   "outputs": [
    {
     "name": "stdout",
     "output_type": "stream",
     "text": [
      "count     4341.000000\n",
      "mean       602.378715\n",
      "std       1058.456198\n",
      "min      -2588.000000\n",
      "25%        119.000000\n",
      "50%        292.000000\n",
      "75%        599.000000\n",
      "max      11164.000000\n",
      "dtype: float64\n"
     ]
    }
   ],
   "source": [
    "unMatchDf = dfam.getUnmatchInfo(DRrepeatMatchList)"
   ]
  },
  {
   "cell_type": "code",
   "execution_count": 16,
   "metadata": {},
   "outputs": [
    {
     "name": "stdout",
     "output_type": "stream",
     "text": [
      "matchCount:138\tdfamCount:4458\tRatio:0.03095558546433378\n"
     ]
    },
    {
     "data": {
      "text/plain": [
       "0.03095558546433378"
      ]
     },
     "execution_count": 16,
     "metadata": {},
     "output_type": "execute_result"
    }
   ],
   "source": [
    "# [ Singal Cutters ]\n",
    "dfam = DfamEvaluation(repeatPositionListB, hitFileName='chrX_dm6_dfam.nrph.hits')\n",
    "repeatPositionLookupDic = dfam.positionBucketClassifier()\n",
    "dfamPositionList = dfam.getDfamPositionList()\n",
    "\n",
    "# from Dfam , check repeat\n",
    "DRrepeatMatchList, DRmatchedFamilyAccList, DRmatchedFamilyNameList = dfam.checkDfamMatchWithRepeat()\n",
    "\n",
    "# from repeat , check Dfam\n",
    "RDrepeatMatchList, RDmatchedFamilyAccList, RDmatchedFamilyNameList = dfam.checkRepeatMatchWithDfam()\n",
    "\n",
    "# dfam.familyMatchRatio(DRmatchedFamilyAccList)\n",
    "dfam.matchRatio(DRrepeatMatchList)\n",
    "# unMatchDf = dfam.getUnmatchInfo(DRrepeatMatchList)"
   ]
  },
  {
   "cell_type": "code",
   "execution_count": 17,
   "metadata": {},
   "outputs": [
    {
     "name": "stdout",
     "output_type": "stream",
     "text": [
      "matchCount:117\tdfamCount:4458\tRatio:0.026244952893674293\n"
     ]
    },
    {
     "data": {
      "text/plain": [
       "0.026244952893674293"
      ]
     },
     "execution_count": 17,
     "metadata": {},
     "output_type": "execute_result"
    }
   ],
   "source": [
    "# [ Mltiplecutter, Intersection or Union ]\n",
    "dfam = DfamEvaluation(matchStateRepeatInfoList, hitFileName='chrX_dm6_dfam.nrph.hits')\n",
    "repeatPositionLookupDic = dfam.positionBucketClassifier()\n",
    "dfamPositionList = dfam.getDfamPositionList()\n",
    "\n",
    "# from Dfam , check repeat\n",
    "DRrepeatMatchList, DRmatchedFamilyAccList, DRmatchedFamilyNameList = dfam.checkDfamMatchWithRepeat()\n",
    "\n",
    "# from repeat , check Dfam\n",
    "RDrepeatMatchList, RDmatchedFamilyAccList, RDmatchedFamilyNameList = dfam.checkRepeatMatchWithDfam()\n",
    "\n",
    "# dfam.familyMatchRatio(DRmatchedFamilyAccList)\n",
    "dfam.matchRatio(DRrepeatMatchList)\n",
    "# unMatchDf = dfam.getUnmatchInfo(DRrepeatMatchList)"
   ]
  },
  {
   "cell_type": "code",
   "execution_count": 18,
   "metadata": {},
   "outputs": [],
   "source": [
    "# def getSequenceLengthAnalsis(inputLengthList, num=10):\n",
    "#     \"\"\"\n",
    "#     1. count of common length \n",
    "#     2. statistic info\n",
    "#     3. distribution plot\n",
    "#     \"\"\"\n",
    "#     mostCommonTable(Counter(inputLengthList).most_common(num), num)\n",
    "#     getStatisticData(inputLengthList)\n",
    "#     sortedCounterList = listToSortedCounter(inputLengthList)\n",
    "#     basicPlot(sortedCounterList)"
   ]
  },
  {
   "cell_type": "code",
   "execution_count": 19,
   "metadata": {},
   "outputs": [],
   "source": [
    "# totalDfam = DfamEvaluation(repeatPositionList, hitFileName=\"chrX_dm6_dfam.nrph.hits\")\n",
    "# totalRepeatPositionLookupDic = totalDfam.positionBucketClassifier()\n",
    "# totalDfamPositionList = totalDfam.getDfamPositionList()\n",
    "# unionAndFilter_Position = pd.read_csv('../outputFile/txtFile/unionAndFilter_Position.csv')\n",
    "# intersectionAndFilter_Position = pd.read_csv('../outputFile/txtFile/intersectionAndFilter_Position.csv')\n",
    "# Filter_Position = pd.read_csv('../outputFile/txtFile/Filter_Position.csv')\n",
    "# NonFilter_Position = pd.read_csv('../outputFile/txtFile/NonFilter_Position.csv')\n",
    "\n",
    "# unionAndFilter_Counter = listToSortedCounter((unionAndFilter_Position['length']))\n",
    "# intersectionAndFilter_Counter = listToSortedCounter((intersectionAndFilter_Position['length']))"
   ]
  },
  {
   "cell_type": "code",
   "execution_count": 20,
   "metadata": {},
   "outputs": [],
   "source": [
    "# df = pd.DataFrame(columns=[\"x\", \"y\", \"type\"], dtype=float)\n",
    "# for row in unionAndFilter_Counter:\n",
    "#     df = df.append({\"x\": row[0], \"y\": row[1], \"type\": \"unionAndFilter\"}, ignore_index=True)\n",
    "# for row in intersectionAndFilter_Counter:\n",
    "#     df = df.append({\"x\": row[0], \"y\": row[1], \"type\": \"intersectionAndFilter\"}, ignore_index=True)\n",
    "\n",
    "# df.fillna(np.nan, inplace=True)\n",
    "# fig, ax = plt.subplots(figsize=(10, 6), dpi=300)\n",
    "# sns.set_style(\"whitegrid\")\n",
    "# sns.lineplot(data=df, x=\"x\", y=\"y\", hue=\"type\", palette=\"Set1\")\n",
    "# ax.set_xlabel(\"Length\", size=15)\n",
    "# ax.set_ylabel(\"Count\", size=15)\n",
    "# ax.set_xlim(0, 1500)"
   ]
  },
  {
   "cell_type": "code",
   "execution_count": 21,
   "metadata": {},
   "outputs": [],
   "source": [
    "# # Dfam ref sequence \n",
    "# dfamSeqLenList = [ i.endIdx - i.startIdx for i in dfamPositionList ]\n",
    "# getSequenceLengthAnalsis(dfamSeqLenList)"
   ]
  },
  {
   "cell_type": "code",
   "execution_count": 22,
   "metadata": {},
   "outputs": [],
   "source": [
    "BS2df = pd.DataFrame(columns=['startIdx','endIdx','length','seq'])\n",
    "for i in dfamPositionList:\n",
    "    BS2df = BS2df.append({'startIdx': i.startIdx,'endIdx': i.endIdx ,'length':i.endIdx-i.startIdx,'seq': parseFastaA[0][i.startIdx: i.endIdx]}, ignore_index=True)\n",
    "BS2df.to_csv('./Evaluation/Source/chrX_BS2_ref.csv', index=False)"
   ]
  },
  {
   "cell_type": "code",
   "execution_count": 23,
   "metadata": {},
   "outputs": [],
   "source": [
    "# Repeat sequence\n",
    "# repeatFragmentLenList = [ i.endIdx - i.startIdx for i in repeatPositionList ]\n",
    "# getSequenceLengthAnalsis(repeatFragmentLenList)"
   ]
  },
  {
   "cell_type": "code",
   "execution_count": 24,
   "metadata": {},
   "outputs": [
    {
     "data": {
      "text/plain": [
       "1.0"
      ]
     },
     "execution_count": 24,
     "metadata": {},
     "output_type": "execute_result"
    }
   ],
   "source": [
    "alignments = pairwise2.align.globalxx(\"ACG\", \"ACCGT\")\n",
    "alignments[0].score / len(\"ACG\")"
   ]
  },
  {
   "cell_type": "code",
   "execution_count": 25,
   "metadata": {},
   "outputs": [
    {
     "name": "stdout",
     "output_type": "stream",
     "text": [
      "...start parsing DF0001549_BS2 fasta file ...\n"
     ]
    },
    {
     "ename": "FileNotFoundError",
     "evalue": "[Errno 2] No such file or directory: './Evaluation/Source/DF0001549_BS2.fa'",
     "output_type": "error",
     "traceback": [
      "\u001b[0;31m---------------------------------------------------------------------------\u001b[0m",
      "\u001b[0;31mFileNotFoundError\u001b[0m                         Traceback (most recent call last)",
      "\u001b[0;32m<ipython-input-25-1d9147ddc916>\u001b[0m in \u001b[0;36m<module>\u001b[0;34m\u001b[0m\n\u001b[1;32m     20\u001b[0m     \u001b[0;34m\"./Evaluation/Source/DF0001549_BS2.fa\"\u001b[0m\u001b[0;34m,\u001b[0m\u001b[0;34m\u001b[0m\u001b[0;34m\u001b[0m\u001b[0m\n\u001b[1;32m     21\u001b[0m     \u001b[0;34m\"*\"\u001b[0m\u001b[0;34m,\u001b[0m\u001b[0;34m\u001b[0m\u001b[0;34m\u001b[0m\u001b[0m\n\u001b[0;32m---> 22\u001b[0;31m     \u001b[0mmatchMode\u001b[0m\u001b[0;34m=\u001b[0m\u001b[0;32mFalse\u001b[0m\u001b[0;34m,\u001b[0m\u001b[0;34m\u001b[0m\u001b[0;34m\u001b[0m\u001b[0m\n\u001b[0m\u001b[1;32m     23\u001b[0m )\n\u001b[1;32m     24\u001b[0m \u001b[0mconsensusSeq\u001b[0m \u001b[0;34m=\u001b[0m \u001b[0mconParseFasta\u001b[0m\u001b[0;34m[\u001b[0m\u001b[0;36m0\u001b[0m\u001b[0;34m]\u001b[0m\u001b[0;34m.\u001b[0m\u001b[0mupper\u001b[0m\u001b[0;34m(\u001b[0m\u001b[0;34m)\u001b[0m\u001b[0;34m\u001b[0m\u001b[0;34m\u001b[0m\u001b[0m\n",
      "\u001b[0;32m~/Desktop/BioProject/GenomeAnalysis/src/Util/SeqUtil.py\u001b[0m in \u001b[0;36mparseFasta\u001b[0;34m(currDataset, datasetPath, matchPattern, matchMode)\u001b[0m\n\u001b[1;32m     17\u001b[0m     \u001b[0mprint\u001b[0m\u001b[0;34m(\u001b[0m\u001b[0;34mf\"...start parsing {currDataset} fasta file ...\"\u001b[0m\u001b[0;34m)\u001b[0m\u001b[0;34m\u001b[0m\u001b[0;34m\u001b[0m\u001b[0m\n\u001b[1;32m     18\u001b[0m     \u001b[0mstart\u001b[0m \u001b[0;34m=\u001b[0m \u001b[0mtime\u001b[0m\u001b[0;34m.\u001b[0m\u001b[0mtime\u001b[0m\u001b[0;34m(\u001b[0m\u001b[0;34m)\u001b[0m\u001b[0;34m\u001b[0m\u001b[0;34m\u001b[0m\u001b[0m\n\u001b[0;32m---> 19\u001b[0;31m     \u001b[0mfasta_sequences\u001b[0m \u001b[0;34m=\u001b[0m \u001b[0mSeqIO\u001b[0m\u001b[0;34m.\u001b[0m\u001b[0mparse\u001b[0m\u001b[0;34m(\u001b[0m\u001b[0mopen\u001b[0m\u001b[0;34m(\u001b[0m\u001b[0mdatasetPath\u001b[0m\u001b[0;34m)\u001b[0m\u001b[0;34m,\u001b[0m \u001b[0;34m\"fasta\"\u001b[0m\u001b[0;34m)\u001b[0m\u001b[0;34m\u001b[0m\u001b[0;34m\u001b[0m\u001b[0m\n\u001b[0m\u001b[1;32m     20\u001b[0m     seqs = (\n\u001b[1;32m     21\u001b[0m         \u001b[0mmatchMode\u001b[0m\u001b[0;34m\u001b[0m\u001b[0;34m\u001b[0m\u001b[0m\n",
      "\u001b[0;31mFileNotFoundError\u001b[0m: [Errno 2] No such file or directory: './Evaluation/Source/DF0001549_BS2.fa'"
     ]
    }
   ],
   "source": [
    "def consensusSeqSimilarity(consensusSeq, seqDf):\n",
    "    seqSimilarityList = []\n",
    "    for targetSeq in seqDf:\n",
    "        alignments = pairwise2.align.globalxx(targetSeq, consensusSeq)\n",
    "        targetLength = len(targetSeq)\n",
    "        similarityPercentage = round(alignments[0].score / targetLength, 2)\n",
    "        seqSimilarityList.append(similarityPercentage)\n",
    "    return seqSimilarityList\n",
    "\n",
    "# repeatMatchIdxList = []\n",
    "# for idx, value in enumerate(RDrepeatMatchList):\n",
    "#     if value == True:\n",
    "#         repeatMatchIdxList.append(idx)\n",
    "# repeatBasePositionList = [repeatPositionList[i] for i in repeatMatchIdxList]\n",
    "# repeatSeqDf = pd.DataFrame(columns=['startIdx','endIdx', 'length', 'seq'])\n",
    "# for i in repeatBasePositionList:\n",
    "#     repeatSeqDf = repeatSeqDf.append({'startIdx':i.startIdx ,'endIdx': i.endIdx, 'length': (i.endIdx- i.startIdx), 'seq': str(parseFastaA[0][i.startIdx:i.endIdx])}, ignore_index=True)\n",
    "conParseFasta = parseFasta(\n",
    "    \"DF0001549_BS2\",\n",
    "    \"./Evaluation/Source/DF0001549_BS2.fa\",\n",
    "    \"*\",\n",
    "    matchMode=False,\n",
    ")\n",
    "consensusSeq = conParseFasta[0].upper()\n",
    "repeatDf = pd.read_csv('./Evaluation/Source/chrX_BS2_ref.csv')\n",
    "seqDf = repeatDf[\"seq\"]\n",
    "seqSimilarityList = consensusSeqSimilarity(consensusSeq, seqDf)\n",
    "pd.Series(seqSimilarityList).describe()"
   ]
  },
  {
   "cell_type": "code",
   "execution_count": null,
   "metadata": {},
   "outputs": [
    {
     "data": {
      "text/plain": [
       "(0.0, 1.1)"
      ]
     },
     "execution_count": 23,
     "metadata": {},
     "output_type": "execute_result"
    },
    {
     "data": {
      "image/png": "[encoded data removed]",
      "text/plain": [
       "<Figure size 3600x1500 with 1 Axes>"
      ]
     },
     "metadata": {},
     "output_type": "display_data"
    }
   ],
   "source": [
    "xData = [*range(len(seqSimilarityList))]\n",
    "fig, ax = plt.subplots(figsize=(12, 5), dpi=300)\n",
    "sns.set_style(\"whitegrid\")\n",
    "sns.stripplot(x=xData, y=seqSimilarityList, linewidth=1.0, color=colorA)\n",
    "ax.set_ylabel(\"Similarity\", size=15)\n",
    "ax.set_ylim(0,1.1)"
   ]
  },
  {
   "cell_type": "code",
   "execution_count": null,
   "metadata": {},
   "outputs": [],
   "source": [
    "# # Test cutter A\n",
    "# repeatPositionListA = seqA.getRepeatPositionList()\n",
    "# dfamA = DfamEvaluation(repeatPositionListA)\n",
    "# repeatPositionLookupDicA = dfamA.positionBucketClassifier()\n",
    "# dfamPositionListA = dfamA.getDfamPositionList()\n",
    "# dfamPositionLookupDicA = dfamA.positionBucketClassifier()\n",
    "# DRrepeatMatchListA, DRmatchedFamilyAccListA, DRmatchedFamilyNameListA = dfamA.checkDfamMatchWithRepeat()"
   ]
  },
  {
   "cell_type": "code",
   "execution_count": null,
   "metadata": {},
   "outputs": [],
   "source": [
    "# totalLen = len(DRrepeatMatchListA)\n",
    "# matchLenA = len(list(filter(lambda x: x, DRrepeatMatchListA)))\n",
    "# ratio = matchLenA / totalLen\n",
    "# print(f\"matchCount:{matchLenA}\\tdfamCount:{totalLen}\\tRatio:{ratio}\")"
   ]
  },
  {
   "cell_type": "code",
   "execution_count": null,
   "metadata": {},
   "outputs": [],
   "source": [
    "# # Test cutter B\n",
    "# repeatPositionListB = seqB.getRepeatPositionList()\n",
    "# dfamB = DfamEvaluation(repeatPositionListB)\n",
    "# repeatPositionLookupDicB = dfamB.positionBucketClassifier()\n",
    "# dfamPositionListB = dfamB.getDfamPositionList()\n",
    "# dfamPositionLookupDicB = dfamB.positionBucketClassifier()\n",
    "# DRrepeatMatchListB, DRmatchedFamilyAccListB, DRmatchedFamilyNameListB = dfamB.checkDfamMatchWithRepeat()"
   ]
  },
  {
   "cell_type": "code",
   "execution_count": null,
   "metadata": {},
   "outputs": [],
   "source": [
    "# totalLen = len(DRrepeatMatchListB)\n",
    "# matchLenB = len(list(filter(lambda x: x, DRrepeatMatchListB)))\n",
    "# ratio = matchLenB / totalLen\n",
    "# print(f\"matchCount:{matchLenB}\\tdfamCount:{totalLen}\\tRatio:{ratio}\")"
   ]
  },
  {
   "cell_type": "code",
   "execution_count": null,
   "metadata": {},
   "outputs": [],
   "source": [
    "# total = 597\n",
    "# middle = matchLenA+matchLenB - total\n",
    "# plt.figure(linewidth=10, facecolor=\"white\", dpi=1200)\n",
    "# # plt.figure(linewidth=10, facecolor=\"white\")\n",
    "# v = venn2(subsets = (matchLenA-middle, matchLenB-middle, middle), set_labels = (f'CutterA - {cutterA} ', f'CutterB - {cutterB}'), set_colors=(colorA, colorB))\n",
    "# plt.show()\n"
   ]
  },
  {
   "cell_type": "code",
   "execution_count": null,
   "metadata": {},
   "outputs": [],
   "source": []
  }
 ],
 "metadata": {
  "interpreter": {
   "hash": "40d3a090f54c6569ab1632332b64b2c03c39dcf918b08424e98f38b5ae0af88f"
  },
  "kernelspec": {
   "display_name": "Python 3.7.11 64-bit ('base': conda)",
   "name": "python3"
  },
  "language_info": {
   "codemirror_mode": {
    "name": "ipython",
    "version": 3
   },
   "file_extension": ".py",
   "mimetype": "text/x-python",
   "name": "python",
   "nbconvert_exporter": "python",
   "pygments_lexer": "ipython3",
   "version": "3.7.11"
  }
 },
 "nbformat": 4,
 "nbformat_minor": 5
}
