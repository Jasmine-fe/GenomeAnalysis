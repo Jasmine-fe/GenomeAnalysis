{
 "cells": [
  {
   "cell_type": "code",
   "execution_count": 50,
   "source": [
    "import re\n",
    "import os\n",
    "import sys\n",
    "import numpy as np \n",
    "import pandas as pd\n",
    "import seaborn as sns\n",
    "from statistics import mean\n",
    "from matplotlib_venn import venn2\n",
    "from matplotlib import pyplot as plt\n",
    "from prettytable import PrettyTable\n",
    "from Bio.Align import AlignInfo, MultipleSeqAlignment\n",
    "from Bio import SeqIO, pairwise2, AlignIO\n",
    "from collections import Counter, OrderedDict, namedtuple\n",
    "from contextlib import redirect_stdout\n",
    "\n",
    "import importlib\n",
    "from Sequence import Sequence\n",
    "from Evaluation.DfamEvaluation import DfamEvaluation\n",
    "from Util.FragmentUtil import fragmentLenPlot, lengthScatterDistributionPlot\n",
    "from Util.SeqUtil import seqInfo, parseFasta, parseSeqByCutter, seqFileGenerator\n",
    "from DataInfo import currDatasetName, currDataset, datasetPath, matchPattern, cutterA, cutterB, fragmentN, commonCount, chrPattern\n",
    "from RepeatFinder import findRepeatSeqs, integrateRepeatInfo, getIRComb, evaluateRepeat, generateIROutputFile, checkTandemRepeatExist, generateTROutputFile, generateFragmentOutputFile, filterRepeatInfo, commonRepeatFragLenTable\n",
    "# importlib.reload(sys.modules['Evaluation'])"
   ],
   "outputs": [],
   "metadata": {
    "scrolled": true,
    "tags": []
   }
  },
  {
   "cell_type": "code",
   "execution_count": 2,
   "source": [
    "currDatasetName = \"chrX_dm6\""
   ],
   "outputs": [],
   "metadata": {}
  },
  {
   "cell_type": "code",
   "execution_count": 3,
   "source": [
    "seqA = Sequence(cutterA)\n",
    "parseFastaA = seqA.parseFasta()\n",
    "fragmentLenListA, fragmentSeqListA = seqA.parseSeqByCutter()\n",
    "repeatInfoListA = seqA.findRepeatSeqs()"
   ],
   "outputs": [
    {
     "output_type": "stream",
     "name": "stdout",
     "text": [
      "...start parsing dm6/chrX_sequence.fasta fasta file ...\n",
      "...cost0.15295171737670898 sec to parse fasta file ...\n",
      "...start parse seq by cutter: GATC\n",
      "...cost 0.26816415786743164 sec to cut sequence\n",
      "... start finding repeat seq ...\n",
      "...cost0.10721373558044434 sec to finding repeat seq  ...\n"
     ]
    }
   ],
   "metadata": {}
  },
  {
   "cell_type": "code",
   "execution_count": 4,
   "source": [
    "seqB = Sequence(cutterB)\n",
    "parseFastaB = seqB.parseFasta()\n",
    "fragmentLenListB, fragmentSeqListB = seqB.parseSeqByCutter()\n",
    "repeatInfoListB = seqB.findRepeatSeqs()"
   ],
   "outputs": [
    {
     "output_type": "stream",
     "name": "stdout",
     "text": [
      "...start parsing dm6/chrX_sequence.fasta fasta file ...\n",
      "...cost0.11624717712402344 sec to parse fasta file ...\n",
      "...start parse seq by cutter: AAGCTT\n",
      "...cost 0.316356897354126 sec to cut sequence\n",
      "... start finding repeat seq ...\n",
      "...cost0.005738019943237305 sec to finding repeat seq  ...\n"
     ]
    }
   ],
   "metadata": {}
  },
  {
   "cell_type": "code",
   "execution_count": 5,
   "source": [
    "seqInfo(currDatasetName, parseFastaA)"
   ],
   "outputs": [
    {
     "output_type": "stream",
     "name": "stdout",
     "text": [
      "chrX_dm6 dataset\n",
      " number of sequence:1\n",
      " total length:23542271\n",
      "\n"
     ]
    }
   ],
   "metadata": {
    "tags": []
   }
  },
  {
   "cell_type": "code",
   "execution_count": 6,
   "source": [
    "repeatInfoList = repeatInfoListA + repeatInfoListB"
   ],
   "outputs": [],
   "metadata": {}
  },
  {
   "cell_type": "code",
   "execution_count": 7,
   "source": [
    "hitFileName = f\"{currDatasetName}_dfam.nrph.hits\""
   ],
   "outputs": [],
   "metadata": {}
  },
  {
   "cell_type": "code",
   "execution_count": 8,
   "source": [
    "dfam = DfamEvaluation(repeatInfoList)"
   ],
   "outputs": [],
   "metadata": {}
  },
  {
   "cell_type": "code",
   "execution_count": 9,
   "source": [
    "repeatPositionList = dfam.getRepeatPositionList()\n",
    "repeatPositionLookupDic = dfam.positionBucketClassifier()\n",
    "dfamPositionList = dfam.getDfamPositionList()"
   ],
   "outputs": [],
   "metadata": {}
  },
  {
   "cell_type": "code",
   "execution_count": 10,
   "source": [
    "len(repeatPositionList)"
   ],
   "outputs": [
    {
     "output_type": "execute_result",
     "data": {
      "text/plain": [
       "69683"
      ]
     },
     "metadata": {},
     "execution_count": 10
    }
   ],
   "metadata": {}
  },
  {
   "cell_type": "code",
   "execution_count": 11,
   "source": [
    "DRrepeatMatchList, DRmatchedFamilyAccList, DRmatchedFamilyNameList = dfam.checkDfamMatchWithRepeat()"
   ],
   "outputs": [],
   "metadata": {}
  },
  {
   "cell_type": "code",
   "execution_count": 12,
   "source": [
    "# from repeat , check Dfam\n",
    "# RDrepeatMatchList, RDmatchedFamilyAccList, RDmatchedFamilyNameList = dfam.checkRepeatMatchWithDfam()"
   ],
   "outputs": [],
   "metadata": {}
  },
  {
   "cell_type": "code",
   "execution_count": 13,
   "source": [
    "dfam.familyMatchRatio(DRmatchedFamilyAccList)\n",
    "dfam.matchRatio(DRrepeatMatchList)"
   ],
   "outputs": [
    {
     "output_type": "stream",
     "name": "stdout",
     "text": [
      "Family Match Result:\n",
      "matchCount:55\tdfamCount:55\tRatio:1.0\n",
      "unmatch acc: set()\n",
      "matchCount:580\tdfamCount:602\tRatio:0.9634551495016611\n"
     ]
    },
    {
     "output_type": "execute_result",
     "data": {
      "text/plain": [
       "0.9634551495016611"
      ]
     },
     "metadata": {},
     "execution_count": 13
    }
   ],
   "metadata": {}
  },
  {
   "cell_type": "code",
   "execution_count": 41,
   "source": [
    "unMatchDf = dfam.getUnmatchInfo(DRrepeatMatchList)"
   ],
   "outputs": [],
   "metadata": {}
  },
  {
   "cell_type": "code",
   "execution_count": 58,
   "source": [
    "lengthScatterDistributionPlot(list(unMatchDf[\"length\"]))"
   ],
   "outputs": [
    {
     "output_type": "execute_result",
     "data": {
      "text/plain": [
       "<AxesSubplot:>"
      ]
     },
     "metadata": {},
     "execution_count": 58
    },
    {
     "output_type": "display_data",
     "data": {
      "text/plain": [
       "<Figure size 432x180 with 1 Axes>"
      ],
      "image/png": "[encoded data removed]"
     },
     "metadata": {}
    }
   ],
   "metadata": {}
  },
  {
   "cell_type": "code",
   "execution_count": 20,
   "source": [
    "# Test cutter A\n",
    "# dfamA = DfamEvaluation(repeatInfoListA)\n",
    "# repeatPositionListA = dfamA.getRepeatPositionList()\n",
    "# repeatPositionLookupDicA = dfamA.positionBucketClassifier()\n",
    "# dfamPositionListA = dfamA.getDfamPositionList()\n",
    "# dfamPositionLookupDicA = dfamA.positionBucketClassifier()\n",
    "# DRrepeatMatchListA, DRmatchedFamilyAccListA, DRmatchedFamilyNameListA = dfamA.checkDfamMatchWithRepeat()"
   ],
   "outputs": [],
   "metadata": {}
  },
  {
   "cell_type": "code",
   "execution_count": null,
   "source": [
    "# totalLen = len(DRrepeatMatchListA)\n",
    "# matchLenA = len(list(filter(lambda x: x, DRrepeatMatchListA)))\n",
    "# ratio = matchLenA / totalLen\n",
    "# print(f\"matchCount:{matchLenA}\\tdfamCount:{totalLen}\\tRatio:{ratio}\")"
   ],
   "outputs": [
    {
     "output_type": "stream",
     "name": "stdout",
     "text": [
      "matchCount:569\tdfamCount:602\tRatio:0.9451827242524917\n"
     ]
    }
   ],
   "metadata": {}
  },
  {
   "cell_type": "code",
   "execution_count": null,
   "source": [
    "# Test cutter B\n",
    "# dfamB = DfamEvaluation(repeatInfoListB)\n",
    "# repeatPositionListB = dfamB.getRepeatPositionList()\n",
    "# repeatPositionLookupDicB = dfamB.positionBucketClassifier()\n",
    "# dfamPositionListB = dfamB.getDfamPositionList()\n",
    "# dfamPositionLookupDicB = dfamB.positionBucketClassifier()\n",
    "# DRrepeatMatchListB, DRmatchedFamilyAccListB, DRmatchedFamilyNameListB = dfamB.checkDfamMatchWithRepeat()"
   ],
   "outputs": [],
   "metadata": {}
  },
  {
   "cell_type": "code",
   "execution_count": null,
   "source": [
    "# totalLen = len(DRrepeatMatchListB)\n",
    "# matchLenB = len(list(filter(lambda x: x, DRrepeatMatchListB)))\n",
    "# ratio = matchLenB / totalLen\n",
    "# print(f\"matchCount:{matchLenB}\\tdfamCount:{totalLen}\\tRatio:{ratio}\")"
   ],
   "outputs": [
    {
     "output_type": "stream",
     "name": "stdout",
     "text": [
      "matchCount:255\tdfamCount:602\tRatio:0.42358803986710963\n"
     ]
    }
   ],
   "metadata": {}
  },
  {
   "cell_type": "code",
   "execution_count": null,
   "source": [
    "# venn2(subsets = (matchLenA, matchLenB, matchLenA-matchLenB), set_labels = ('CutterA - GATC ', 'CutterA - AAGCTT'), set_colors=('red', 'yellow'))"
   ],
   "outputs": [
    {
     "output_type": "execute_result",
     "data": {
      "text/plain": [
       "<matplotlib_venn._common.VennDiagram at 0x7fb7418c0210>"
      ]
     },
     "metadata": {},
     "execution_count": 33
    },
    {
     "output_type": "display_data",
     "data": {
      "text/plain": [
       "<Figure size 432x288 with 1 Axes>"
      ],
      "image/png": "[encoded data removed]"
     },
     "metadata": {}
    }
   ],
   "metadata": {}
  }
 ],
 "metadata": {
  "interpreter": {
   "hash": "dca0ade3e726a953b501b15e8e990130d2b7799f14cfd9f4271676035ebe5511"
  },
  "kernelspec": {
   "name": "python3",
   "display_name": "Python 3.7.4 64-bit ('base': conda)"
  },
  "language_info": {
   "codemirror_mode": {
    "name": "ipython",
    "version": 3
   },
   "file_extension": ".py",
   "mimetype": "text/x-python",
   "name": "python",
   "nbconvert_exporter": "python",
   "pygments_lexer": "ipython3",
   "version": "3.7.4"
  }
 },
 "nbformat": 4,
 "nbformat_minor": 5
}