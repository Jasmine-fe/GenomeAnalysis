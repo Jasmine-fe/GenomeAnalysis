{
 "cells": [
  {
   "cell_type": "code",
   "execution_count": 1,
   "source": [
    "import re\n",
    "import os\n",
    "import sys\n",
    "import csv\n",
    "import numpy as np \n",
    "import pandas as pd\n",
    "import seaborn as sns\n",
    "from matplotlib_venn import venn2\n",
    "from prettytable import PrettyTable\n",
    "from matplotlib import pyplot as plt\n",
    "from Bio import SeqIO, pairwise2, AlignIO\n",
    "from collections import Counter, namedtuple\n",
    "from Bio.Align import AlignInfo, MultipleSeqAlignment\n",
    "import importlib\n",
    "from Sequence import Sequence\n",
    "from Util.SeqUtil import seqInfo, parseFasta\n",
    "from Evaluation.DfamEvaluation import DfamEvaluation\n",
    "from DataStructure import PositionInfo, refSeqSimilarityInfo\n",
    "from SharedInfo import currDatasetName, cutterA, cutterB, colorA, colorB\n",
    "from Util.AnalysisUtil import listToSortedCounter, getStatisticData, mostCommonTable\n",
    "from Util.PlotUtil import basicPlot, twoLabelBasicPlot, lengthScatterDistributionPlot\n",
    "from MultipleCutter import MultipleCutter\n",
    "# importlib.reload(sys.modules['Evaluation.DfamEvaluation'])"
   ],
   "outputs": [
    {
     "output_type": "execute_result",
     "data": {
      "text/plain": [
       "<module 'Evaluation.DfamEvaluation' from '/Users/apple/Desktop/BioProject/GenomeAnalysis/src/Evaluation/DfamEvaluation.py'>"
      ]
     },
     "metadata": {},
     "execution_count": 1
    }
   ],
   "metadata": {
    "scrolled": true,
    "tags": []
   }
  },
  {
   "cell_type": "code",
   "execution_count": 2,
   "source": [
    "# ROO_LTR_df = pd.read_csv(\"./Evaluation/Source/chrX_ROO_LTR_repeatSeq.csv\")\n",
    "# ROO_counter = Counter(list(ROO_LTR_df['length']))\n",
    "# ROO_counter.most_common(len(ROO_counter))"
   ],
   "outputs": [],
   "metadata": {}
  },
  {
   "cell_type": "code",
   "execution_count": 3,
   "source": [
    "currDatasetName = \"chrX_dm6\""
   ],
   "outputs": [],
   "metadata": {}
  },
  {
   "cell_type": "code",
   "execution_count": 4,
   "source": [
    "seqA = Sequence(cutterA)\n",
    "parseFastaA = seqA.parseFasta()\n",
    "fragmentLenListA, fragmentSeqListA = seqA.parseSeqByCutter()\n",
    "repeatInfoListA = seqA.findRepeatSeqs(lengthLimit=False)\n",
    "filterRepeatInfoA = seqA.filterRepeatInfo()\n",
    "repeatPositionListA = seqA.getRepeatPositionList(filter=False)"
   ],
   "outputs": [
    {
     "output_type": "stream",
     "name": "stdout",
     "text": [
      "...start parsing dm6/chrX_sequence.fasta fasta file ...\n",
      "...cost0.1544339656829834 sec to parse fasta file ...\n",
      "...start parse seq by cutter: GATC\n",
      "...cost 0.2915968894958496 sec to cut sequence\n",
      "... start finding repeat seq ...\n",
      "...cost0.06168079376220703 sec to finding repeat seq  ...\n"
     ]
    }
   ],
   "metadata": {}
  },
  {
   "cell_type": "code",
   "execution_count": 5,
   "source": [
    "seqB = Sequence(cutterB)\n",
    "parseFastaB = seqB.parseFasta()\n",
    "fragmentLenListB, fragmentSeqListB = seqB.parseSeqByCutter()\n",
    "repeatInfoListB = seqB.findRepeatSeqs(lengthLimit=False)\n",
    "filterRepeatInfoB = seqB.filterRepeatInfo()\n",
    "repeatPositionListB = seqB.getRepeatPositionList(filter=False)"
   ],
   "outputs": [
    {
     "output_type": "stream",
     "name": "stdout",
     "text": [
      "...start parsing dm6/chrX_sequence.fasta fasta file ...\n",
      "...cost0.14101600646972656 sec to parse fasta file ...\n",
      "...start parse seq by cutter: AAGCTT\n",
      "...cost 0.31345105171203613 sec to cut sequence\n",
      "... start finding repeat seq ...\n",
      "...cost0.005834102630615234 sec to finding repeat seq  ...\n"
     ]
    }
   ],
   "metadata": {}
  },
  {
   "cell_type": "code",
   "execution_count": 6,
   "source": [
    "seqInfo(currDatasetName, parseFastaA)"
   ],
   "outputs": [
    {
     "output_type": "stream",
     "name": "stdout",
     "text": [
      "chrX_dm6 dataset\n",
      " number of sequence:1\n",
      " total length:23542271\n",
      "\n"
     ]
    }
   ],
   "metadata": {
    "tags": []
   }
  },
  {
   "cell_type": "code",
   "execution_count": 36,
   "source": [
    "repeatPositionList = repeatPositionListA + repeatPositionListB"
   ],
   "outputs": [],
   "metadata": {}
  },
  {
   "cell_type": "code",
   "execution_count": 37,
   "source": [
    "print(f'Check cutter A, B: \\n {len(repeatPositionList)} = {len(repeatPositionListA)} + {len(repeatPositionListB)}')"
   ],
   "outputs": [
    {
     "output_type": "stream",
     "name": "stdout",
     "text": [
      "Check cutter A, B: \n",
      " 76663 = 73708 + 2955\n"
     ]
    }
   ],
   "metadata": {}
  },
  {
   "cell_type": "code",
   "execution_count": 9,
   "source": [
    "repeatPositionList[0]"
   ],
   "outputs": [
    {
     "output_type": "execute_result",
     "data": {
      "text/plain": [
       "PositionInfo(startIdx=-4, endIdx=432)"
      ]
     },
     "metadata": {},
     "execution_count": 9
    }
   ],
   "metadata": {}
  },
  {
   "cell_type": "code",
   "execution_count": 10,
   "source": [
    "# df = pd.DataFrame(columns=['startIdx', 'endIdx', 'length'])\n",
    "# for i in repeatPositionList:\n",
    "#     df = df.append({'startIdx': i.startIdx, 'endIdx': i.endIdx, 'length': i.endIdx-i.startIdx}, ignore_index=True)\n",
    "# df.to_csv(f'../outputFile/txtFile/NonFilter_Position.csv')"
   ],
   "outputs": [],
   "metadata": {}
  },
  {
   "cell_type": "code",
   "execution_count": 60,
   "source": [
    "# repeat position\n",
    "multipleCutter = MultipleCutter(chrLength=len(parseFastaA[0]),repeatPositionList = repeatPositionList )\n",
    "seqStateList = multipleCutter.seqStateGenerator()\n",
    "unMatchState, unionState, intersectionState = multipleCutter.getSeqStateInfo()\n",
    "stateName=\"union\"\n",
    "matchStateIdxList = multipleCutter.getSpecificStateIdxList(stateName)\n",
    "matchStatePositionList = multipleCutter.getSpecificStatePositionList()"
   ],
   "outputs": [
    {
     "output_type": "stream",
     "name": "stdout",
     "text": [
      "chr: 23542271\n",
      "unMatch: 1411628, union:21759007, intersection:5797805\n"
     ]
    }
   ],
   "metadata": {}
  },
  {
   "cell_type": "code",
   "execution_count": 62,
   "source": [
    "seqStateList[len(seqStateList)-10:]"
   ],
   "outputs": [
    {
     "output_type": "execute_result",
     "data": {
      "text/plain": [
       "[2, 2, 2, 2, 3, 3, 4, 4, 4, 4]"
      ]
     },
     "metadata": {},
     "execution_count": 62
    }
   ],
   "metadata": {}
  },
  {
   "cell_type": "code",
   "execution_count": 31,
   "source": [
    "# Output MultipleCutter State Position\n",
    "textfile = open(f\"../outputFile/txtFile/{stateName}StatePosition.txt\", \"w\")\n",
    "for element in matchStatePositionList:\n",
    "    textfile.write(str(element) + \"\\n\")\n",
    "textfile.close()"
   ],
   "outputs": [],
   "metadata": {}
  },
  {
   "cell_type": "code",
   "execution_count": 12,
   "source": [
    "# df = pd.DataFrame(columns=['startIdx', 'endIdx', 'length'])\n",
    "# for i in matchStatePositionList:\n",
    "#     df = df.append({'startIdx': i.startIdx, 'endIdx': i.endIdx, 'length': i.endIdx-i.startIdx}, ignore_index=True)"
   ],
   "outputs": [],
   "metadata": {}
  },
  {
   "cell_type": "code",
   "execution_count": 13,
   "source": [
    "# df['length'] = df['length'].astype('int32')\n",
    "# df['length'].describe()"
   ],
   "outputs": [],
   "metadata": {}
  },
  {
   "cell_type": "code",
   "execution_count": 14,
   "source": [
    "# df.to_csv(f'../outputFile/txtFile/{stateName}AndNonFilter_Position.csv')"
   ],
   "outputs": [],
   "metadata": {}
  },
  {
   "cell_type": "code",
   "execution_count": 15,
   "source": [
    "# repeatPositionList = matchStatePositionList"
   ],
   "outputs": [],
   "metadata": {}
  },
  {
   "cell_type": "code",
   "execution_count": 38,
   "source": [
    "dfam = DfamEvaluation(matchStatePositionList, hitFileName='chrX_LTR_dm6_dfam.nrph.hits')"
   ],
   "outputs": [],
   "metadata": {}
  },
  {
   "cell_type": "code",
   "execution_count": 39,
   "source": [
    "repeatPositionLookupDic = dfam.positionBucketClassifier()\n",
    "dfamPositionList = dfam.getDfamPositionList()"
   ],
   "outputs": [],
   "metadata": {}
  },
  {
   "cell_type": "code",
   "execution_count": 40,
   "source": [
    "# from Dfam , check repeat\n",
    "DRrepeatMatchList, DRmatchedFamilyAccList, DRmatchedFamilyNameList = dfam.checkDfamMatchWithRepeat()"
   ],
   "outputs": [],
   "metadata": {}
  },
  {
   "cell_type": "code",
   "execution_count": 41,
   "source": [
    "textfile = open(f\"../outputFile/txtFile/DRrepeatMatchList_{stateName}StatePosition.txt\", \"w\")\n",
    "for element in DRrepeatMatchList:\n",
    "    textfile.write(str(element) + \"\\n\")\n",
    "textfile.close()"
   ],
   "outputs": [],
   "metadata": {}
  },
  {
   "cell_type": "code",
   "execution_count": 42,
   "source": [
    "# from repeat , check Dfam\n",
    "# RDrepeatMatchList, RDmatchedFamilyAccList, RDmatchedFamilyNameList = dfam.checkRepeatMatchWithDfam()"
   ],
   "outputs": [],
   "metadata": {}
  },
  {
   "cell_type": "code",
   "execution_count": 43,
   "source": [
    "# dfam.familyMatchRatio(DRmatchedFamilyAccList)\n",
    "dfam.matchRatio(DRrepeatMatchList)\n",
    "# unMatchDf = dfam.getUnmatchInfo(DRrepeatMatchList)"
   ],
   "outputs": [
    {
     "output_type": "stream",
     "name": "stdout",
     "text": [
      "matchCount:579\tdfamCount:602\tRatio:0.9617940199335548\n"
     ]
    },
    {
     "output_type": "execute_result",
     "data": {
      "text/plain": [
       "0.9617940199335548"
      ]
     },
     "metadata": {},
     "execution_count": 43
    }
   ],
   "metadata": {}
  },
  {
   "cell_type": "code",
   "execution_count": 22,
   "source": [
    "# dfam.familyMatchRatio(RDmatchedFamilyAccList)\n",
    "# dfam.matchRatio(RDrepeatMatchList)\n",
    "# unMatchDf = dfam.getUnmatchInfo(RDrepeatMatchList)"
   ],
   "outputs": [],
   "metadata": {}
  },
  {
   "cell_type": "code",
   "execution_count": 23,
   "source": [
    "# lengthScatterDistributionPlot(list(unMatchDf[\"length\"]))"
   ],
   "outputs": [],
   "metadata": {}
  },
  {
   "cell_type": "code",
   "execution_count": 44,
   "source": [
    "# non-identical\n",
    "dfam2 = DfamEvaluation(repeatPositionList, hitFileName='chrX_LTR_dm6_dfam.nrph.hits')\n",
    "repeatPositionLookupDic2 = dfam2.positionBucketClassifier()\n",
    "dfamPositionList2 = dfam2.getDfamPositionList()\n",
    "DRrepeatMatchList2, DRmatchedFamilyAccList2, DRmatchedFamilyNameList2 = dfam2.checkDfamMatchWithRepeat()\n",
    "dfam.matchRatio(DRrepeatMatchList2)"
   ],
   "outputs": [
    {
     "output_type": "stream",
     "name": "stdout",
     "text": [
      "matchCount:597\tdfamCount:602\tRatio:0.9916943521594684\n"
     ]
    },
    {
     "output_type": "execute_result",
     "data": {
      "text/plain": [
       "0.9916943521594684"
      ]
     },
     "metadata": {},
     "execution_count": 44
    }
   ],
   "metadata": {}
  },
  {
   "cell_type": "code",
   "execution_count": 46,
   "source": [
    "textfile = open(f\"../outputFile/txtFile/DRrepeatMatchList_nonIdenticalStatePosition.txt\", \"w\")\n",
    "for element in DRrepeatMatchList2:\n",
    "    textfile.write(str(element) + \"\\n\")\n",
    "textfile.close()"
   ],
   "outputs": [],
   "metadata": {}
  },
  {
   "cell_type": "code",
   "execution_count": null,
   "source": [],
   "outputs": [],
   "metadata": {}
  },
  {
   "cell_type": "code",
   "execution_count": null,
   "source": [],
   "outputs": [],
   "metadata": {}
  },
  {
   "cell_type": "code",
   "execution_count": 24,
   "source": [
    "def getSequenceLengthAnalsis(inputLengthList, num=10):\n",
    "    \"\"\"\n",
    "    1. count of common length \n",
    "    2. statistic info\n",
    "    3. distribution plot\n",
    "    \"\"\"\n",
    "    mostCommonTable(Counter(inputLengthList).most_common(num), num)\n",
    "    getStatisticData(inputLengthList)\n",
    "    sortedCounterList = listToSortedCounter(inputLengthList)\n",
    "    basicPlot(sortedCounterList)"
   ],
   "outputs": [],
   "metadata": {}
  },
  {
   "cell_type": "code",
   "execution_count": 25,
   "source": [
    "# totalDfam = DfamEvaluation(repeatPositionList, hitFileName=\"chrX_dm6_dfam.nrph.hits\")\n",
    "# totalRepeatPositionLookupDic = totalDfam.positionBucketClassifier()\n",
    "# totalDfamPositionList = totalDfam.getDfamPositionList()\n",
    "# unionAndFilter_Position = pd.read_csv('../outputFile/txtFile/unionAndFilter_Position.csv')\n",
    "# intersectionAndFilter_Position = pd.read_csv('../outputFile/txtFile/intersectionAndFilter_Position.csv')\n",
    "# Filter_Position = pd.read_csv('../outputFile/txtFile/Filter_Position.csv')\n",
    "# NonFilter_Position = pd.read_csv('../outputFile/txtFile/NonFilter_Position.csv')\n",
    "\n",
    "# unionAndFilter_Counter = listToSortedCounter((unionAndFilter_Position['length']))\n",
    "# intersectionAndFilter_Counter = listToSortedCounter((intersectionAndFilter_Position['length']))"
   ],
   "outputs": [],
   "metadata": {}
  },
  {
   "cell_type": "code",
   "execution_count": 26,
   "source": [
    "# df = pd.DataFrame(columns=[\"x\", \"y\", \"type\"], dtype=float)\n",
    "# for row in unionAndFilter_Counter:\n",
    "#     df = df.append({\"x\": row[0], \"y\": row[1], \"type\": \"unionAndFilter\"}, ignore_index=True)\n",
    "# for row in intersectionAndFilter_Counter:\n",
    "#     df = df.append({\"x\": row[0], \"y\": row[1], \"type\": \"intersectionAndFilter\"}, ignore_index=True)\n",
    "\n",
    "# df.fillna(np.nan, inplace=True)\n",
    "# fig, ax = plt.subplots(figsize=(10, 6), dpi=300)\n",
    "# sns.set_style(\"whitegrid\")\n",
    "# sns.lineplot(data=df, x=\"x\", y=\"y\", hue=\"type\", palette=\"Set1\")\n",
    "# ax.set_xlabel(\"Length\", size=15)\n",
    "# ax.set_ylabel(\"Count\", size=15)\n",
    "# ax.set_xlim(0, 1500)"
   ],
   "outputs": [],
   "metadata": {}
  },
  {
   "cell_type": "code",
   "execution_count": 27,
   "source": [
    "# Dfam ref sequence \n",
    "# dfamSeqLenList = [ i.endIdx - i.startIdx for i in dfamPositionList ]\n",
    "# getSequenceLengthAnalsis(dfamSeqLenList)"
   ],
   "outputs": [],
   "metadata": {}
  },
  {
   "cell_type": "code",
   "execution_count": 28,
   "source": [
    "# Repeat sequence\n",
    "# repeatFragmentLenList = [ i.endIdx - i.startIdx for i in repeatPositionList ]\n",
    "# getSequenceLengthAnalsis(repeatFragmentLenList)"
   ],
   "outputs": [],
   "metadata": {}
  },
  {
   "cell_type": "code",
   "execution_count": 29,
   "source": [
    "# def consensusSeqSimilarity(consensusSeq, seqDf):\n",
    "#     print(\"hihi\", len(seqDf))\n",
    "#     seqSimilarityList = []\n",
    "#     for targetSeq in seqDf:\n",
    "#         alignments = pairwise2.align.globalxx(targetSeq, consensusSeq)\n",
    "#         targetLength = len(targetSeq)\n",
    "#         similarityPercentage = round(alignments[0].score / targetLength, 2)\n",
    "#         seqSimilarityList.append(similarityPercentage)\n",
    "#     return seqSimilarityList\n",
    "\n",
    "# repeatMatchIdxList = []\n",
    "# for idx, value in enumerate(RDrepeatMatchList):\n",
    "#     if value == True:\n",
    "#         repeatMatchIdxList.append(idx)\n",
    "# repeatBasePositionList = [repeatPositionList[i] for i in repeatMatchIdxList]\n",
    "# repeatSeqDf = pd.DataFrame(columns=['startIdx','endIdx', 'length', 'seq'])\n",
    "# for i in repeatBasePositionList:\n",
    "#     repeatSeqDf = repeatSeqDf.append({'startIdx':i.startIdx ,'endIdx': i.endIdx, 'length': (i.endIdx- i.startIdx), 'seq': str(parseFastaA[0][i.startIdx:i.endIdx])}, ignore_index=True)\n",
    "# conParseFasta = parseFasta(\n",
    "#     \"DF0001696_ROO_LTR\",\n",
    "#     \"./Evaluation/Source/DF0001696_ROO_LTR.fa\",\n",
    "#     \"*\",\n",
    "#     matchMode=False,\n",
    "# )\n",
    "# consensusSeq = conParseFasta[0].upper()\n",
    "# repeatDf = pd.read_csv('./Evaluation/Source/chrX_ROO_LTR_repeatSeq.csv')\n",
    "# seqDf = repeatDf[\"seq\"]\n",
    "# seqSimilarityList = consensusSeqSimilarity(consensusSeq, seqDf)\n",
    "# pd.Series(seqSimilarityList).describe()"
   ],
   "outputs": [],
   "metadata": {}
  },
  {
   "cell_type": "code",
   "execution_count": 30,
   "source": [
    "# Test cutter A\n",
    "repeatPositionListA = seqA.getRepeatPositionList()\n",
    "dfamA = DfamEvaluation(repeatPositionListA)\n",
    "repeatPositionLookupDicA = dfamA.positionBucketClassifier()\n",
    "dfamPositionListA = dfamA.getDfamPositionList()\n",
    "dfamPositionLookupDicA = dfamA.positionBucketClassifier()\n",
    "DRrepeatMatchListA, DRmatchedFamilyAccListA, DRmatchedFamilyNameListA = dfamA.checkDfamMatchWithRepeat()"
   ],
   "outputs": [
    {
     "output_type": "error",
     "ename": "KeyboardInterrupt",
     "evalue": "",
     "traceback": [
      "\u001b[0;31m---------------------------------------------------------------------------\u001b[0m",
      "\u001b[0;31mKeyboardInterrupt\u001b[0m                         Traceback (most recent call last)",
      "\u001b[0;32m<ipython-input-30-1fcb1f7eb05e>\u001b[0m in \u001b[0;36m<module>\u001b[0;34m\u001b[0m\n\u001b[1;32m      5\u001b[0m \u001b[0mdfamPositionListA\u001b[0m \u001b[0;34m=\u001b[0m \u001b[0mdfamA\u001b[0m\u001b[0;34m.\u001b[0m\u001b[0mgetDfamPositionList\u001b[0m\u001b[0;34m(\u001b[0m\u001b[0;34m)\u001b[0m\u001b[0;34m\u001b[0m\u001b[0;34m\u001b[0m\u001b[0m\n\u001b[1;32m      6\u001b[0m \u001b[0mdfamPositionLookupDicA\u001b[0m \u001b[0;34m=\u001b[0m \u001b[0mdfamA\u001b[0m\u001b[0;34m.\u001b[0m\u001b[0mpositionBucketClassifier\u001b[0m\u001b[0;34m(\u001b[0m\u001b[0;34m)\u001b[0m\u001b[0;34m\u001b[0m\u001b[0;34m\u001b[0m\u001b[0m\n\u001b[0;32m----> 7\u001b[0;31m \u001b[0mDRrepeatMatchListA\u001b[0m\u001b[0;34m,\u001b[0m \u001b[0mDRmatchedFamilyAccListA\u001b[0m\u001b[0;34m,\u001b[0m \u001b[0mDRmatchedFamilyNameListA\u001b[0m \u001b[0;34m=\u001b[0m \u001b[0mdfamA\u001b[0m\u001b[0;34m.\u001b[0m\u001b[0mcheckDfamMatchWithRepeat\u001b[0m\u001b[0;34m(\u001b[0m\u001b[0;34m)\u001b[0m\u001b[0;34m\u001b[0m\u001b[0;34m\u001b[0m\u001b[0m\n\u001b[0m",
      "\u001b[0;32m~/Desktop/BioProject/GenomeAnalysis/src/Evaluation/DfamEvaluation.py\u001b[0m in \u001b[0;36mcheckDfamMatchWithRepeat\u001b[0;34m(self)\u001b[0m\n\u001b[1;32m     57\u001b[0m                 \u001b[0;32mfor\u001b[0m \u001b[0mbucketIdx\u001b[0m \u001b[0;32min\u001b[0m \u001b[0mrange\u001b[0m\u001b[0;34m(\u001b[0m\u001b[0mself\u001b[0m\u001b[0;34m.\u001b[0m\u001b[0mbucketAmount\u001b[0m\u001b[0;34m)\u001b[0m\u001b[0;34m:\u001b[0m\u001b[0;34m\u001b[0m\u001b[0;34m\u001b[0m\u001b[0m\n\u001b[1;32m     58\u001b[0m                     if (self.repeatPositionLookupDic[bucketIdx][0] <= refStart) and (\n\u001b[0;32m---> 59\u001b[0;31m                         \u001b[0mrefEnd\u001b[0m \u001b[0;34m<=\u001b[0m \u001b[0mself\u001b[0m\u001b[0;34m.\u001b[0m\u001b[0mrepeatPositionLookupDic\u001b[0m\u001b[0;34m[\u001b[0m\u001b[0mbucketIdx\u001b[0m\u001b[0;34m]\u001b[0m\u001b[0;34m[\u001b[0m\u001b[0;36m1\u001b[0m\u001b[0;34m]\u001b[0m\u001b[0;34m\u001b[0m\u001b[0;34m\u001b[0m\u001b[0m\n\u001b[0m\u001b[1;32m     60\u001b[0m                     ):\n\u001b[1;32m     61\u001b[0m                         if refStart in range(\n",
      "\u001b[0;31mKeyboardInterrupt\u001b[0m: "
     ]
    }
   ],
   "metadata": {}
  },
  {
   "cell_type": "code",
   "execution_count": null,
   "source": [
    "totalLen = len(DRrepeatMatchListA)\n",
    "matchLenA = len(list(filter(lambda x: x, DRrepeatMatchListA)))\n",
    "ratio = matchLenA / totalLen\n",
    "print(f\"matchCount:{matchLenA}\\tdfamCount:{totalLen}\\tRatio:{ratio}\")"
   ],
   "outputs": [
    {
     "output_type": "stream",
     "name": "stdout",
     "text": [
      "matchCount:1\tdfamCount:602\tRatio:0.0016611295681063123\n"
     ]
    }
   ],
   "metadata": {}
  },
  {
   "cell_type": "code",
   "execution_count": null,
   "source": [
    "# Test cutter B\n",
    "repeatPositionListB = seqB.getRepeatPositionList()\n",
    "dfamB = DfamEvaluation(repeatPositionListB)\n",
    "repeatPositionLookupDicB = dfamB.positionBucketClassifier()\n",
    "dfamPositionListB = dfamB.getDfamPositionList()\n",
    "dfamPositionLookupDicB = dfamB.positionBucketClassifier()\n",
    "DRrepeatMatchListB, DRmatchedFamilyAccListB, DRmatchedFamilyNameListB = dfamB.checkDfamMatchWithRepeat()"
   ],
   "outputs": [],
   "metadata": {}
  },
  {
   "cell_type": "code",
   "execution_count": null,
   "source": [
    "totalLen = len(DRrepeatMatchListB)\n",
    "matchLenB = len(list(filter(lambda x: x, DRrepeatMatchListB)))\n",
    "ratio = matchLenB / totalLen\n",
    "print(f\"matchCount:{matchLenB}\\tdfamCount:{totalLen}\\tRatio:{ratio}\")"
   ],
   "outputs": [
    {
     "output_type": "stream",
     "name": "stdout",
     "text": [
      "matchCount:1\tdfamCount:602\tRatio:0.0016611295681063123\n"
     ]
    }
   ],
   "metadata": {}
  },
  {
   "cell_type": "code",
   "execution_count": null,
   "source": [
    "# total = 597\n",
    "# middle = matchLenA+matchLenB - total\n",
    "# plt.figure(linewidth=10, facecolor=\"white\", dpi=1200)\n",
    "# # plt.figure(linewidth=10, facecolor=\"white\")\n",
    "# v = venn2(subsets = (matchLenA-middle, matchLenB-middle, middle), set_labels = (f'CutterA - {cutterA} ', f'CutterB - {cutterB}'), set_colors=(colorA, colorB))\n",
    "# plt.show()\n"
   ],
   "outputs": [],
   "metadata": {}
  },
  {
   "cell_type": "code",
   "execution_count": null,
   "source": [],
   "outputs": [],
   "metadata": {}
  }
 ],
 "metadata": {
  "interpreter": {
   "hash": "dca0ade3e726a953b501b15e8e990130d2b7799f14cfd9f4271676035ebe5511"
  },
  "kernelspec": {
   "name": "python3",
   "display_name": "Python 3.7.4 64-bit ('base': conda)"
  },
  "language_info": {
   "codemirror_mode": {
    "name": "ipython",
    "version": 3
   },
   "file_extension": ".py",
   "mimetype": "text/x-python",
   "name": "python",
   "nbconvert_exporter": "python",
   "pygments_lexer": "ipython3",
   "version": "3.7.4"
  }
 },
 "nbformat": 4,
 "nbformat_minor": 5
}