{
 "cells": [
  {
   "cell_type": "code",
   "execution_count": 1,
   "id": "ruled-catch",
   "metadata": {
    "scrolled": true,
    "tags": []
   },
   "outputs": [],
   "source": [
    "import re\n",
    "import os\n",
    "import sys\n",
    "import csv\n",
    "import copy\n",
    "import random\n",
    "import numpy as np \n",
    "import pandas as pd \n",
    "from Bio.Seq import Seq\n",
    "from collections import Counter, OrderedDict, namedtuple\n",
    "from prettytable import PrettyTable\n",
    "\n",
    "import importlib\n",
    "# importlib.reload(sys.modules['Evaluation.RepeatEvaluation'])\n",
    "from Util.FragmentUtil import fragmentLenPlot\n",
    "from Evaluation.RepeatEvaluation import getConsensusSeqIds, getDfamConSeqData, getOutputMatchPosition, outputPositionBucketClassifier, checkDfamMatch\n",
    "from Util.SeqUtil import seqInfo, parseFasta, parseSeq, parseSeqByCutter\n",
    "from DataInfo import currDataset, datasetPath, matchPattern, cutter, cutterLen, fragmentN, commonCount\n",
    "from RepeatFinder import findRepeatSeqs, integrateRepeatInfo, getIRComb, evaluateRepeat, generateIROutputFile, checkTandemRepeatExist, generateTROutputFile, generateFragmentOutputFile"
   ]
  },
  {
   "cell_type": "code",
   "execution_count": 2,
   "metadata": {
    "tags": []
   },
   "outputs": [
    {
     "output_type": "stream",
     "name": "stdout",
     "text": "...start parsing chr1.fa fasta file ...\n...cost8.366072177886963 sec to parse fasta file ...\nchr1.fa dataset\n number of sequence:1\n total length:248956422\n\n"
    }
   ],
   "source": [
    "parseFastaSeqs = parseFasta(currDataset, datasetPath, matchPattern, matchMode = False)\n",
    "seqInfo(currDataset, parseFastaSeqs)"
   ]
  },
  {
   "cell_type": "code",
   "execution_count": 3,
   "id": "happy-evening",
   "metadata": {
    "scrolled": true,
    "tags": []
   },
   "outputs": [
    {
     "output_type": "stream",
     "name": "stdout",
     "text": "...start parse seq by cutter: GATC\n...cost 2.6790308952331543 sec to cut sequence\n"
    }
   ],
   "source": [
    "fragmentsLenList, fragmentsSeqList = parseSeqByCutter(parseFastaSeqs)"
   ]
  },
  {
   "cell_type": "code",
   "execution_count": 4,
   "id": "latin-audio",
   "metadata": {
    "scrolled": true,
    "tags": []
   },
   "outputs": [
    {
     "output_type": "stream",
     "name": "stdout",
     "text": "... start finding repeat seq ...\n...cost1.2262678146362305 sec to finding repeat seq  ...\n"
    }
   ],
   "source": [
    "repeatFragNLenList, repeatFragNPositionDict = findRepeatSeqs(fragmentsLenList)"
   ]
  },
  {
   "cell_type": "code",
   "execution_count": 5,
   "metadata": {
    "tags": []
   },
   "outputs": [],
   "source": [
    "# tandem Repeat in N fragment\n",
    "tandemRepeatLenList = list(filter(checkTandemRepeatExist, repeatFragNLenList))\n",
    "tandemRepeatInfoList = integrateRepeatInfo(fragmentsSeqList, fragmentsLenList, tandemRepeatLenList, repeatFragNPositionDict, repeatType=1)\n",
    "generateTROutputFile(tandemRepeatInfoList, matchRatioOfSum=0.4)"
   ]
  },
  {
   "cell_type": "code",
   "execution_count": 5,
   "metadata": {},
   "outputs": [],
   "source": [
    "# interspersed repetitive sequences\n",
    "repeatInfoList = integrateRepeatInfo(fragmentsSeqList, fragmentsLenList, repeatFragNLenList, repeatFragNPositionDict, repeatType=2)\n",
    "seqPermutation = getIRComb(repeatInfoList)\n",
    "generateIROutputFile(seqPermutation, matchRatioOfSum=0.4)"
   ]
  },
  {
   "cell_type": "code",
   "execution_count": 14,
   "metadata": {},
   "outputs": [],
   "source": []
  },
  {
   "cell_type": "code",
   "execution_count": 8,
   "metadata": {
    "tags": []
   },
   "outputs": [],
   "source": [
    "# From Evaluation\n",
    "OutputMatchPositionList = getOutputMatchPosition(repeatInfoList)\n",
    "outputPositionLookupDic = outputPositionBucketClassifier(OutputMatchPositionList)"
   ]
  },
  {
   "cell_type": "code",
   "execution_count": 10,
   "metadata": {},
   "outputs": [],
   "source": [
    "dfamDatasetMatchList = checkDfamMatch(outputPositionLookupDic, OutputMatchPositionList)"
   ]
  },
  {
   "cell_type": "code",
   "execution_count": 22,
   "metadata": {
    "tags": []
   },
   "outputs": [],
   "source": []
  }
 ],
 "metadata": {
  "kernelspec": {
   "display_name": "Python 3",
   "language": "python",
   "name": "python3"
  },
  "language_info": {
   "codemirror_mode": {
    "name": "ipython",
    "version": 3
   },
   "file_extension": ".py",
   "mimetype": "text/x-python",
   "name": "python",
   "nbconvert_exporter": "python",
   "pygments_lexer": "ipython3",
   "version": "3.7.4-final"
  }
 },
 "nbformat": 4,
 "nbformat_minor": 5
}