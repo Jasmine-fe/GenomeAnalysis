{
 "metadata": {
  "language_info": {
   "codemirror_mode": {
    "name": "ipython",
    "version": 3
   },
   "file_extension": ".py",
   "mimetype": "text/x-python",
   "name": "python",
   "nbconvert_exporter": "python",
   "pygments_lexer": "ipython3",
   "version": "3.7.4-final"
  },
  "orig_nbformat": 2,
  "kernelspec": {
   "name": "python3",
   "display_name": "Python 3"
  }
 },
 "nbformat": 4,
 "nbformat_minor": 2,
 "cells": [
  {
   "cell_type": "code",
   "execution_count": 3,
   "metadata": {},
   "outputs": [],
   "source": [
    "import os\n",
    "import sys\n",
    "module_path = os.path.abspath(os.path.join('..'))\n",
    "if module_path not in sys.path:\n",
    "    sys.path.append(module_path)"
   ]
  },
  {
   "cell_type": "code",
   "execution_count": 5,
   "metadata": {},
   "outputs": [
    {
     "output_type": "error",
     "ename": "ModuleNotFoundError",
     "evalue": "No module named 'DataStructure'",
     "traceback": [
      "\u001b[0;31m---------------------------------------------------------------------------\u001b[0m",
      "\u001b[0;31mModuleNotFoundError\u001b[0m                       Traceback (most recent call last)",
      "\u001b[0;32m<ipython-input-5-55ffee12dac9>\u001b[0m in \u001b[0;36m<module>\u001b[0;34m\u001b[0m\n\u001b[0;32m----> 1\u001b[0;31m \u001b[0;32mfrom\u001b[0m \u001b[0mDataStructure\u001b[0m \u001b[0;32mimport\u001b[0m \u001b[0mSeqRepeatInfo\u001b[0m\u001b[0;34m\u001b[0m\u001b[0;34m\u001b[0m\u001b[0m\n\u001b[0m",
      "\u001b[0;31mModuleNotFoundError\u001b[0m: No module named 'DataStructure'"
     ]
    }
   ],
   "source": [
    "from DataStructure import SeqRepeatInfo"
   ]
  },
  {
   "cell_type": "code",
   "execution_count": 1,
   "metadata": {},
   "outputs": [],
   "source": [
    "# dataset\n",
    "weevilDataset = 'weevil.fa'\n",
    "mouseDataset = 'mm39.fa'\n",
    "danioRerioDataset = 'DanioRerio.fasta'\n",
    "humanDataset = 'hg38.fa'\n",
    "human_chr1 = 'chr1.fa'\n",
    "\n",
    "# match pattern\n",
    "humanPattern = \"^chr(?:\\d*|[A-Z]*)$\"\n",
    "weevilPattern = \"^weevil.scaffold\\d+\"\n",
    "noPattern = \"*\"\n",
    "\n",
    "# shared var\n",
    "currDataset = human_chr1\n",
    "datasetPath = './dataset/' + currDataset\n",
    "matchPattern = noPattern\n",
    "fragmentN = 5\n",
    "cutter = 'GATC'\n",
    "cutterLen = len(cutter)\n",
    "commonCount = 5"
   ]
  },
  {
   "cell_type": "code",
   "execution_count": null,
   "metadata": {},
   "outputs": [],
   "source": []
  }
 ]
}