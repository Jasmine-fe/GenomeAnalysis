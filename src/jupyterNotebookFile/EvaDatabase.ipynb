{
 "metadata": {
  "language_info": {
   "codemirror_mode": {
    "name": "ipython",
    "version": 3
   },
   "file_extension": ".py",
   "mimetype": "text/x-python",
   "name": "python",
   "nbconvert_exporter": "python",
   "pygments_lexer": "ipython3",
   "version": "3.7.4-final"
  },
  "orig_nbformat": 2,
  "kernelspec": {
   "name": "python3",
   "display_name": "Python 3"
  }
 },
 "nbformat": 4,
 "nbformat_minor": 2,
 "cells": [
  {
   "cell_type": "code",
   "execution_count": 1,
   "metadata": {},
   "outputs": [
    {
     "output_type": "error",
     "ename": "ModuleNotFoundError",
     "evalue": "No module named 'GenomeAnalysis'",
     "traceback": [
      "\u001b[0;31m---------------------------------------------------------------------------\u001b[0m",
      "\u001b[0;31mModuleNotFoundError\u001b[0m                       Traceback (most recent call last)",
      "\u001b[0;32m<ipython-input-1-d56572193c70>\u001b[0m in \u001b[0;36m<module>\u001b[0;34m\u001b[0m\n\u001b[1;32m      4\u001b[0m \u001b[0;32mimport\u001b[0m \u001b[0mpandas\u001b[0m \u001b[0;32mas\u001b[0m \u001b[0mpd\u001b[0m\u001b[0;34m\u001b[0m\u001b[0;34m\u001b[0m\u001b[0m\n\u001b[1;32m      5\u001b[0m \u001b[0;32mfrom\u001b[0m \u001b[0mcollections\u001b[0m \u001b[0;32mimport\u001b[0m \u001b[0mnamedtuple\u001b[0m\u001b[0;34m\u001b[0m\u001b[0;34m\u001b[0m\u001b[0m\n\u001b[0;32m----> 6\u001b[0;31m \u001b[0;32mfrom\u001b[0m \u001b[0mGenomeAnalysis\u001b[0m\u001b[0;34m.\u001b[0m\u001b[0mDataStructure\u001b[0m \u001b[0;32mimport\u001b[0m \u001b[0mSeqRepeatInfo\u001b[0m\u001b[0;34m\u001b[0m\u001b[0;34m\u001b[0m\u001b[0m\n\u001b[0m",
      "\u001b[0;31mModuleNotFoundError\u001b[0m: No module named 'GenomeAnalysis'"
     ]
    }
   ],
   "source": [
    "import re\n",
    "import math\n",
    "import numpy as np \n",
    "import pandas as pd \n",
    "from collections import namedtuple"
   ]
  },
  {
   "cell_type": "code",
   "execution_count": 162,
   "metadata": {},
   "outputs": [],
   "source": [
    "def getFamilyAccIds():\n",
    "    dfamHitDataset = pd.read_csv('./Evaluation/hg38_dfam_nrph_chr1.hits', sep=\"\\t\", header=0)\n",
    "    # family accession   \n",
    "    familyAccIds = list(set(dfamHitDataset['family_acc']))\n",
    "    familyAccIds = [ re.search(\"DF\\d*\", i).group() for i in familyAccIds]\n",
    "    familyAccIds = sorted(familyAccIds)\n",
    "    return familyAccIds"
   ]
  },
  {
   "cell_type": "code",
   "execution_count": 165,
   "metadata": {},
   "outputs": [],
   "source": [
    "# Fix first row id and length problem\n",
    "# Fix too long seq Problem\n",
    "\n",
    "def getDfamSearchData():\n",
    "    # init DfamRefSeqInfo value\n",
    "    dfId = ''\n",
    "    seqLineCount = 1\n",
    "    currLineCount = 0\n",
    "    seqLength = 0\n",
    "    seq = ''\n",
    "    seqFlag = 0\n",
    "    DfamRefDataset = open('./Evaluation/Dfam.embl.txt', 'r')\n",
    "    lines = DfamRefDataset.readlines()\n",
    "    DfamRefSeqList = []\n",
    "    for eachLine in lines:\n",
    "        if re.search(\"^AC\", eachLine):\n",
    "            dfId = re.search(\"DF\\d*\", eachLine).group()\n",
    "        elif re.search(\"^SQ\", eachLine):\n",
    "            seqFlag = 1\n",
    "            currLineCount = 0\n",
    "            seqLineCount = math.ceil(seqLength/60)\n",
    "            seqLength = int(re.search(\"\\d+\", eachLine).group())\n",
    "        elif seqFlag == 1 and (currLineCount <= seqLineCount):\n",
    "            matchList = re.findall(\"[a-zA-Z]+\", eachLine)\n",
    "            segmentSeq = ''.join(matchList)\n",
    "            seq += segmentSeq\n",
    "            currLineCount += 1\n",
    "            if currLineCount >= seqLineCount:\n",
    "                DfamRefSeqList.append(DfamRefSeqInfo(id = dfId, length = seqLength, seq = seq))\n",
    "                seq = ''\n",
    "                seqFlag = 0\n",
    "    return DfamRefSeqList"
   ]
  }
 ]
}