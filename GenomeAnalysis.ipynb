{
 "cells": [
  {
   "cell_type": "code",
   "execution_count": 1,
   "id": "ruled-catch",
   "metadata": {
    "scrolled": true,
    "tags": []
   },
   "outputs": [
    {
     "output_type": "stream",
     "name": "stdout",
     "text": "importing Jupyter notebook from Util.ipynb\nimporting Jupyter notebook from RepeatFinder.ipynb\nimporting Jupyter notebook from DataInfo.ipynb\n"
    }
   ],
   "source": [
    "import sys\n",
    "import re\n",
    "import time\n",
    "import timeit\n",
    "import random\n",
    "import pandas as pd \n",
    "import numpy as np \n",
    "import matplotlib.pyplot as plt\n",
    "import statistics\n",
    "%matplotlib inline\n",
    "\n",
    "from Bio import SeqIO, pairwise2\n",
    "from Bio.Seq import Seq\n",
    "from Bio.SeqIO.FastaIO import FastaIterator\n",
    "from Bio.pairwise2 import format_alignment\n",
    "from collections import Counter, OrderedDict\n",
    "from itertools import islice, groupby\n",
    "from collections import Counter, namedtuple\n",
    "from prettytable import PrettyTable\n",
    "import import_ipynb\n",
    "from Util import seqInfo, parseFasta, parseSeq, unifragmentList, fragmentLenPlot\n",
    "from RepeatFinder import parseSeqByCutter, findRepeatSeqs, commonRepeatTable, commonRepeatSeqsPosition, commonPositionListToDic, printCommonPositionDic, topRepeatSeqCounter, printTopSeqPercentageTable\n",
    "from DataInfo import currDataset, datasetPath, matchPattern, cutter, cutterLen, fragmentN, commonCount"
   ]
  },
  {
   "cell_type": "code",
   "execution_count": 2,
   "metadata": {
    "tags": []
   },
   "outputs": [
    {
     "output_type": "stream",
     "name": "stdout",
     "text": "...start parsing DanioRerio.fasta fasta file ...\n...cost19.552297830581665 sec to parse fasta file ...\nDanioRerio.fasta dataset\n number of sequence:1922\n total length:1679186873\n\n"
    }
   ],
   "source": [
    "# parse fasta file & data info\n",
    "parseFastaSeqs = parseFasta(currDataset, datasetPath, matchPattern, False)\n",
    "seqInfo(currDataset, parseFastaSeqs)"
   ]
  },
  {
   "cell_type": "code",
   "execution_count": 3,
   "id": "happy-evening",
   "metadata": {
    "scrolled": true,
    "tags": [
     "outputPrepend"
    ]
   },
   "outputs": [
    {
     "output_type": "stream",
     "name": "stdout",
     "text": "y cutter GATC ...\n...cost 0.0035638809204101562 sec to cut sequence\n...start cutting sequence by cutter GATC ...\n...cost 0.002920866012573242 sec to cut sequence\n...start cutting sequence by cutter GATC ...\n...cost 0.0016489028930664062 sec to cut sequence\n...start cutting sequence by cutter GATC ...\n...cost 0.0024929046630859375 sec to cut sequence\n...start cutting sequence by cutter GATC ...\n...cost 0.0023279190063476562 sec to cut sequence\n...start cutting sequence by cutter GATC ...\n...cost 0.002051830291748047 sec to cut sequence\n...start cutting sequence by cutter GATC ...\n...cost 0.0035419464111328125 sec to cut sequence\n...start cutting sequence by cutter GATC ...\n...cost 0.004121065139770508 sec to cut sequence\n...start cutting sequence by cutter GATC ...\n...cost 0.00257110595703125 sec to cut sequence\n...start cutting sequence by cutter GATC ...\n...cost 0.0016160011291503906 sec to cut sequence\n...start cutting sequence by cutter GATC ...\n...cost 0.0026581287384033203 sec to cut sequence\n...start cutting sequence by cutter GATC ...\n...cost 0.0015840530395507812 sec to cut sequence\n...start cutting sequence by cutter GATC ...\n...cost 0.0017039775848388672 sec to cut sequence\n...start cutting sequence by cutter GATC ...\n...cost 0.0017180442810058594 sec to cut sequence\n...start cutting sequence by cutter GATC ...\n...cost 0.008128166198730469 sec to cut sequence\n...start cutting sequence by cutter GATC ...\n...cost 0.0014939308166503906 sec to cut sequence\n...start cutting sequence by cutter GATC ...\n...cost 0.002897024154663086 sec to cut sequence\n...start cutting sequence by cutter GATC ...\n...cost 0.003604888916015625 sec to cut sequence\n...start cutting sequence by cutter GATC ...\n...cost 0.003385782241821289 sec to cut sequence\n...start cutting sequence by cutter GATC ...\n...cost 0.0032470226287841797 sec to cut sequence\n...start cutting sequence by cutter GATC ...\n...cost 0.0010728836059570312 sec to cut sequence\n...start cutting sequence by cutter GATC ...\n...cost 0.001834869384765625 sec to cut sequence\n...start cutting sequence by cutter GATC ...\n...cost 0.0026192665100097656 sec to cut sequence\n...start cutting sequence by cutter GATC ...\n...cost 0.0021371841430664062 sec to cut sequence\n...start cutting sequence by cutter GATC ...\n...cost 0.0022029876708984375 sec to cut sequence\n...start cutting sequence by cutter GATC ...\n...cost 0.005728960037231445 sec to cut sequence\n...start cutting sequence by cutter GATC ...\n...cost 0.001505136489868164 sec to cut sequence\n...start cutting sequence by cutter GATC ...\n...cost 0.007564067840576172 sec to cut sequence\n...start cutting sequence by cutter GATC ...\n...cost 0.0072977542877197266 sec to cut sequence\n...start cutting sequence by cutter GATC ...\n...cost 0.007054805755615234 sec to cut sequence\n...start cutting sequence by cutter GATC ...\n...cost 0.0015609264373779297 sec to cut sequence\n...start cutting sequence by cutter GATC ...\n...cost 0.018342018127441406 sec to cut sequence\n...start cutting sequence by cutter GATC ...\n...cost 0.007218122482299805 sec to cut sequence\n...start cutting sequence by cutter GATC ...\n...cost 0.0032219886779785156 sec to cut sequence\n...start cutting sequence by cutter GATC ...\n...cost 0.002062082290649414 sec to cut sequence\n...start cutting sequence by cutter GATC ...\n...cost 0.004896879196166992 sec to cut sequence\n...start cutting sequence by cutter GATC ...\n...cost 0.0019049644470214844 sec to cut sequence\n...start cutting sequence by cutter GATC ...\n...cost 0.0020859241485595703 sec to cut sequence\n...start cutting sequence by cutter GATC ...\n...cost 0.009531736373901367 sec to cut sequence\n...start cutting sequence by cutter GATC ...\n...cost 0.0031890869140625 sec to cut sequence\n...start cutting sequence by cutter GATC ...\n...cost 0.003035306930541992 sec to cut sequence\n...start cutting sequence by cutter GATC ...\n...cost 0.0026090145111083984 sec to cut sequence\n...start cutting sequence by cutter GATC ...\n...cost 0.0065310001373291016 sec to cut sequence\n...start cutting sequence by cutter GATC ...\n...cost 0.004244089126586914 sec to cut sequence\n...start cutting sequence by cutter GATC ...\n...cost 0.0030188560485839844 sec to cut sequence\n...start cutting sequence by cutter GATC ...\n...cost 0.005218982696533203 sec to cut sequence\n...start cutting sequence by cutter GATC ...\n...cost 0.003875255584716797 sec to cut sequence\n...start cutting sequence by cutter GATC ...\n...cost 0.0025992393493652344 sec to cut sequence\n...start cutting sequence by cutter GATC ...\n...cost 0.003981113433837891 sec to cut sequence\n...start cutting sequence by cutter GATC ...\n...cost 0.007460117340087891 sec to cut sequence\n...start cutting sequence by cutter GATC ...\n...cost 0.0036177635192871094 sec to cut sequence\n...start cutting sequence by cutter GATC ...\n...cost 0.0017559528350830078 sec to cut sequence\n...start cutting sequence by cutter GATC ...\n...cost 0.00464320182800293 sec to cut sequence\n...start cutting sequence by cutter GATC ...\n...cost 0.0057489871978759766 sec to cut sequence\n...start cutting sequence by cutter GATC ...\n...cost 0.0029010772705078125 sec to cut sequence\n...start cutting sequence by cutter GATC ...\n...cost 0.0031800270080566406 sec to cut sequence\n...start cutting sequence by cutter GATC ...\n...cost 0.0037391185760498047 sec to cut sequence\n...start cutting sequence by cutter GATC ...\n...cost 0.0028688907623291016 sec to cut sequence\n...start cutting sequence by cutter GATC ...\n...cost 0.0029761791229248047 sec to cut sequence\n...start cutting sequence by cutter GATC ...\n...cost 0.0025310516357421875 sec to cut sequence\n...start cutting sequence by cutter GATC ...\n...cost 0.0024881362915039062 sec to cut sequence\n...start cutting sequence by cutter GATC ...\n...cost 0.0018968582153320312 sec to cut sequence\n...start cutting sequence by cutter GATC ...\n...cost 0.002990245819091797 sec to cut sequence\n...start cutting sequence by cutter GATC ...\n...cost 0.0027747154235839844 sec to cut sequence\n...start cutting sequence by cutter GATC ...\n...cost 0.006821870803833008 sec to cut sequence\n...start cutting sequence by cutter GATC ...\n...cost 0.001558065414428711 sec to cut sequence\n...start cutting sequence by cutter GATC ...\n...cost 0.001767873764038086 sec to cut sequence\n...start cutting sequence by cutter GATC ...\n...cost 0.0011010169982910156 sec to cut sequence\n...start cutting sequence by cutter GATC ...\n...cost 0.0018970966339111328 sec to cut sequence\n...start cutting sequence by cutter GATC ...\n...cost 0.0024170875549316406 sec to cut sequence\n...start cutting sequence by cutter GATC ...\n...cost 0.002887248992919922 sec to cut sequence\n...start cutting sequence by cutter GATC ...\n...cost 0.00830388069152832 sec to cut sequence\n...start cutting sequence by cutter GATC ...\n...cost 0.0010960102081298828 sec to cut sequence\n...start cutting sequence by cutter GATC ...\n...cost 0.005822896957397461 sec to cut sequence\n...start cutting sequence by cutter GATC ...\n...cost 0.005048990249633789 sec to cut sequence\n...start cutting sequence by cutter GATC ...\n...cost 0.006600379943847656 sec to cut sequence\n...start cutting sequence by cutter GATC ...\n...cost 0.0028650760650634766 sec to cut sequence\n...start cutting sequence by cutter GATC ...\n...cost 0.002301931381225586 sec to cut sequence\n...start cutting sequence by cutter GATC ...\n...cost 0.0023908615112304688 sec to cut sequence\n...start cutting sequence by cutter GATC ...\n...cost 0.0019099712371826172 sec to cut sequence\n...start cutting sequence by cutter GATC ...\n...cost 0.0031909942626953125 sec to cut sequence\n...start cutting sequence by cutter GATC ...\n...cost 0.0053560733795166016 sec to cut sequence\n...start cutting sequence by cutter GATC ...\n...cost 0.0033409595489501953 sec to cut sequence\n...start cutting sequence by cutter GATC ...\n...cost 0.002892017364501953 sec to cut sequence\n...start cutting sequence by cutter GATC ...\n...cost 0.004027843475341797 sec to cut sequence\n...start cutting sequence by cutter GATC ...\n...cost 0.0012161731719970703 sec to cut sequence\n...start cutting sequence by cutter GATC ...\n...cost 0.003922939300537109 sec to cut sequence\n...start cutting sequence by cutter GATC ...\n...cost 0.003123044967651367 sec to cut sequence\n...start cutting sequence by cutter GATC ...\n...cost 0.0027539730072021484 sec to cut sequence\n...start cutting sequence by cutter GATC ...\n...cost 0.00152587890625 sec to cut sequence\n...start cutting sequence by cutter GATC ...\n...cost 0.0026960372924804688 sec to cut sequence\n...start cutting sequence by cutter GATC ...\n...cost 0.0037539005279541016 sec to cut sequence\n...start cutting sequence by cutter GATC ...\n...cost 0.0038869380950927734 sec to cut sequence\n...start cutting sequence by cutter GATC ...\n...cost 0.0019731521606445312 sec to cut sequence\n...start cutting sequence by cutter GATC ...\n...cost 0.0030701160430908203 sec to cut sequence\n...start cutting sequence by cutter GATC ...\n...cost 0.00257110595703125 sec to cut sequence\n...start cutting sequence by cutter GATC ...\n...cost 0.0027379989624023438 sec to cut sequence\n...start cutting sequence by cutter GATC ...\n...cost 0.0012950897216796875 sec to cut sequence\n...start cutting sequence by cutter GATC ...\n...cost 0.0024750232696533203 sec to cut sequence\n...start cutting sequence by cutter GATC ...\n...cost 0.002875804901123047 sec to cut sequence\n...start cutting sequence by cutter GATC ...\n...cost 0.0037870407104492188 sec to cut sequence\n...start cutting sequence by cutter GATC ...\n...cost 0.004691362380981445 sec to cut sequence\n...start cutting sequence by cutter GATC ...\n...cost 0.0010831356048583984 sec to cut sequence\n...start cutting sequence by cutter GATC ...\n...cost 0.0029158592224121094 sec to cut sequence\n...start cutting sequence by cutter GATC ...\n...cost 0.006026029586791992 sec to cut sequence\n...start cutting sequence by cutter GATC ...\n...cost 0.0030689239501953125 sec to cut sequence\n...start cutting sequence by cutter GATC ...\n...cost 0.004088878631591797 sec to cut sequence\n...start cutting sequence by cutter GATC ...\n...cost 0.004724025726318359 sec to cut sequence\n...start cutting sequence by cutter GATC ...\n...cost 0.0018801689147949219 sec to cut sequence\n...start cutting sequence by cutter GATC ...\n...cost 0.0026700496673583984 sec to cut sequence\n...start cutting sequence by cutter GATC ...\n...cost 0.0017192363739013672 sec to cut sequence\n...start cutting sequence by cutter GATC ...\n...cost 0.005340099334716797 sec to cut sequence\n...start cutting sequence by cutter GATC ...\n...cost 0.0025827884674072266 sec to cut sequence\n...start cutting sequence by cutter GATC ...\n...cost 0.002192258834838867 sec to cut sequence\n...start cutting sequence by cutter GATC ...\n...cost 0.0025930404663085938 sec to cut sequence\n...start cutting sequence by cutter GATC ...\n...cost 0.003626108169555664 sec to cut sequence\n...start cutting sequence by cutter GATC ...\n...cost 0.0013937950134277344 sec to cut sequence\n...start cutting sequence by cutter GATC ...\n...cost 0.0033080577850341797 sec to cut sequence\n...start cutting sequence by cutter GATC ...\n...cost 0.0035119056701660156 sec to cut sequence\n...start cutting sequence by cutter GATC ...\n...cost 0.002471923828125 sec to cut sequence\n...start cutting sequence by cutter GATC ...\n...cost 0.00395512580871582 sec to cut sequence\n...start cutting sequence by cutter GATC ...\n...cost 0.0021500587463378906 sec to cut sequence\n...start cutting sequence by cutter GATC ...\n...cost 0.0042040348052978516 sec to cut sequence\n...start cutting sequence by cutter GATC ...\n...cost 0.006815910339355469 sec to cut sequence\n...start cutting sequence by cutter GATC ...\n...cost 0.0012688636779785156 sec to cut sequence\n...start cutting sequence by cutter GATC ...\n...cost 0.0029230117797851562 sec to cut sequence\n...start cutting sequence by cutter GATC ...\n...cost 0.001631021499633789 sec to cut sequence\n...start cutting sequence by cutter GATC ...\n...cost 0.0027070045471191406 sec to cut sequence\n...start cutting sequence by cutter GATC ...\n...cost 0.002986907958984375 sec to cut sequence\n...start cutting sequence by cutter GATC ...\n...cost 0.0030760765075683594 sec to cut sequence\n...start cutting sequence by cutter GATC ...\n...cost 0.0023980140686035156 sec to cut sequence\n...start cutting sequence by cutter GATC ...\n...cost 0.003735065460205078 sec to cut sequence\n...start cutting sequence by cutter GATC ...\n...cost 0.0022988319396972656 sec to cut sequence\n...start cutting sequence by cutter GATC ...\n...cost 0.0029010772705078125 sec to cut sequence\n...start cutting sequence by cutter GATC ...\n...cost 0.003910064697265625 sec to cut sequence\n...start cutting sequence by cutter GATC ...\n...cost 0.004214048385620117 sec to cut sequence\n...start cutting sequence by cutter GATC ...\n...cost 0.005620002746582031 sec to cut sequence\n...start cutting sequence by cutter GATC ...\n...cost 0.003799915313720703 sec to cut sequence\n...start cutting sequence by cutter GATC ...\n...cost 0.004823207855224609 sec to cut sequence\n...start cutting sequence by cutter GATC ...\n...cost 0.0031948089599609375 sec to cut sequence\n...start cutting sequence by cutter GATC ...\n...cost 0.0030078887939453125 sec to cut sequence\n...start cutting sequence by cutter GATC ...\n...cost 0.003548145294189453 sec to cut sequence\n...start cutting sequence by cutter GATC ...\n...cost 0.0039048194885253906 sec to cut sequence\n...start cutting sequence by cutter GATC ...\n...cost 0.002051115036010742 sec to cut sequence\n...start cutting sequence by cutter GATC ...\n...cost 0.0018219947814941406 sec to cut sequence\n...start cutting sequence by cutter GATC ...\n...cost 0.004830837249755859 sec to cut sequence\n...start cutting sequence by cutter GATC ...\n...cost 0.0036401748657226562 sec to cut sequence\n...start cutting sequence by cutter GATC ...\n...cost 0.0023560523986816406 sec to cut sequence\n...start cutting sequence by cutter GATC ...\n...cost 0.005795955657958984 sec to cut sequence\n...start cutting sequence by cutter GATC ...\n...cost 0.0029532909393310547 sec to cut sequence\n...start cutting sequence by cutter GATC ...\n...cost 0.0030388832092285156 sec to cut sequence\n...start cutting sequence by cutter GATC ...\n...cost 0.001961946487426758 sec to cut sequence\n...start cutting sequence by cutter GATC ...\n...cost 0.002469301223754883 sec to cut sequence\n...start cutting sequence by cutter GATC ...\n...cost 0.0034122467041015625 sec to cut sequence\n...start cutting sequence by cutter GATC ...\n...cost 0.0019259452819824219 sec to cut sequence\n...start cutting sequence by cutter GATC ...\n...cost 0.0028858184814453125 sec to cut sequence\n...start cutting sequence by cutter GATC ...\n...cost 0.001371145248413086 sec to cut sequence\n...start cutting sequence by cutter GATC ...\n...cost 0.0043299198150634766 sec to cut sequence\n...start cutting sequence by cutter GATC ...\n...cost 0.0034341812133789062 sec to cut sequence\n...start cutting sequence by cutter GATC ...\n...cost 0.0017321109771728516 sec to cut sequence\n...start cutting sequence by cutter GATC ...\n...cost 0.0029020309448242188 sec to cut sequence\n...start cutting sequence by cutter GATC ...\n...cost 0.0036530494689941406 sec to cut sequence\n...start cutting sequence by cutter GATC ...\n...cost 0.0022499561309814453 sec to cut sequence\n...start cutting sequence by cutter GATC ...\n...cost 0.004850864410400391 sec to cut sequence\n...start cutting sequence by cutter GATC ...\n...cost 0.004922151565551758 sec to cut sequence\n...start cutting sequence by cutter GATC ...\n...cost 0.0023429393768310547 sec to cut sequence\n...start cutting sequence by cutter GATC ...\n...cost 0.0021810531616210938 sec to cut sequence\n...start cutting sequence by cutter GATC ...\n...cost 0.002105236053466797 sec to cut sequence\n...start cutting sequence by cutter GATC ...\n...cost 0.0016949176788330078 sec to cut sequence\n...start cutting sequence by cutter GATC ...\n...cost 0.0029768943786621094 sec to cut sequence\n...start cutting sequence by cutter GATC ...\n...cost 0.0032050609588623047 sec to cut sequence\n...start cutting sequence by cutter GATC ...\n...cost 0.0046367645263671875 sec to cut sequence\n...start cutting sequence by cutter GATC ...\n...cost 0.0028820037841796875 sec to cut sequence\n...start cutting sequence by cutter GATC ...\n...cost 0.0018041133880615234 sec to cut sequence\n...start cutting sequence by cutter GATC ...\n...cost 0.005120992660522461 sec to cut sequence\n...start cutting sequence by cutter GATC ...\n...cost 0.26616382598876953 sec to cut sequence\n...start cutting sequence by cutter GATC ...\n...cost 0.002552032470703125 sec to cut sequence\n...start cutting sequence by cutter GATC ...\n...cost 0.0021820068359375 sec to cut sequence\n...start cutting sequence by cutter GATC ...\n...cost 0.00512385368347168 sec to cut sequence\n...start cutting sequence by cutter GATC ...\n...cost 0.0028562545776367188 sec to cut sequence\n...start cutting sequence by cutter GATC ...\n...cost 0.004608869552612305 sec to cut sequence\n...start cutting sequence by cutter GATC ...\n...cost 0.0031299591064453125 sec to cut sequence\n...start cutting sequence by cutter GATC ...\n...cost 0.004319906234741211 sec to cut sequence\n...start cutting sequence by cutter GATC ...\n...cost 0.00757598876953125 sec to cut sequence\n...start cutting sequence by cutter GATC ...\n...cost 0.0056149959564208984 sec to cut sequence\n...start cutting sequence by cutter GATC ...\n...cost 0.002382993698120117 sec to cut sequence\n...start cutting sequence by cutter GATC ...\n...cost 0.0018870830535888672 sec to cut sequence\n...start cutting sequence by cutter GATC ...\n...cost 0.0015208721160888672 sec to cut sequence\n...start cutting sequence by cutter GATC ...\n...cost 0.002105712890625 sec to cut sequence\n...start cutting sequence by cutter GATC ...\n...cost 0.0023369789123535156 sec to cut sequence\n...start cutting sequence by cutter GATC ...\n...cost 0.001615762710571289 sec to cut sequence\n...start cutting sequence by cutter GATC ...\n...cost 0.00438690185546875 sec to cut sequence\n...start cutting sequence by cutter GATC ...\n...cost 0.0030100345611572266 sec to cut sequence\n...start cutting sequence by cutter GATC ...\n...cost 0.0033922195434570312 sec to cut sequence\n...start cutting sequence by cutter GATC ...\n...cost 0.0025599002838134766 sec to cut sequence\n...start cutting sequence by cutter GATC ...\n...cost 0.003737211227416992 sec to cut sequence\n...start cutting sequence by cutter GATC ...\n...cost 0.0017189979553222656 sec to cut sequence\n...start cutting sequence by cutter GATC ...\n...cost 0.0028829574584960938 sec to cut sequence\n...start cutting sequence by cutter GATC ...\n...cost 0.0031011104583740234 sec to cut sequence\n...start cutting sequence by cutter GATC ...\n...cost 0.002371072769165039 sec to cut sequence\n...start cutting sequence by cutter GATC ...\n...cost 0.0019960403442382812 sec to cut sequence\n...start cutting sequence by cutter GATC ...\n...cost 0.0015192031860351562 sec to cut sequence\n...start cutting sequence by cutter GATC ...\n...cost 0.0043909549713134766 sec to cut sequence\n...start cutting sequence by cutter GATC ...\n...cost 0.0023260116577148438 sec to cut sequence\n...start cutting sequence by cutter GATC ...\n...cost 0.0026900768280029297 sec to cut sequence\n...start cutting sequence by cutter GATC ...\n...cost 0.004524946212768555 sec to cut sequence\n...start cutting sequence by cutter GATC ...\n...cost 0.003968000411987305 sec to cut sequence\n...start cutting sequence by cutter GATC ...\n...cost 0.002686023712158203 sec to cut sequence\n...start cutting sequence by cutter GATC ...\n...cost 0.001772165298461914 sec to cut sequence\n...start cutting sequence by cutter GATC ...\n...cost 0.0029289722442626953 sec to cut sequence\n...start cutting sequence by cutter GATC ...\n...cost 0.003036975860595703 sec to cut sequence\n...start cutting sequence by cutter GATC ...\n...cost 0.0016031265258789062 sec to cut sequence\n"
    }
   ],
   "source": [
    "fragmentsLenList, fragmentsSeqList = parseSeqByCutter(parseFastaSeqs)"
   ]
  },
  {
   "cell_type": "code",
   "execution_count": 4,
   "id": "latin-audio",
   "metadata": {
    "scrolled": true,
    "tags": []
   },
   "outputs": [
    {
     "output_type": "stream",
     "name": "stdout",
     "text": "... start finding repeat seq ...\n...cost8.735102891921997 sec to finding repeat seq  ...\n"
    }
   ],
   "source": [
    "commonRepeatInfo, repeatCount, positionDic = findRepeatSeqs(fragmentsLenList, cutter , fragmentN, commonCount)"
   ]
  },
  {
   "cell_type": "code",
   "execution_count": 5,
   "metadata": {
    "tags": []
   },
   "outputs": [
    {
     "output_type": "stream",
     "name": "stdout",
     "text": "+----------------------+-------+\n|     FragmentLen      | Count |\n+----------------------+-------+\n| (27, 27, 27, 27, 27) |  121  |\n| (10, 10, 10, 10, 10) |   87  |\n| (14, 14, 14, 14, 14) |   87  |\n| (12, 12, 12, 12, 12) |   74  |\n| (28, 28, 28, 28, 28) |   54  |\n| (40, 40, 40, 40, 40) |   40  |\n|  (2, 41, 2, 41, 2)   |   40  |\n|  (41, 2, 41, 2, 41)  |   40  |\n| (21, 21, 21, 21, 21) |   37  |\n|   (2, 2, 2, 2, 2)    |   36  |\n+----------------------+-------+\n"
    }
   ],
   "source": [
    "commonRepeatTable(commonRepeatInfo, positionDic, commonCount)"
   ]
  },
  {
   "cell_type": "code",
   "execution_count": 6,
   "metadata": {
    "tags": []
   },
   "outputs": [],
   "source": [
    "# commonCount repeat sequences\n",
    "commonPositionList = commonRepeatSeqsPosition(fragmentsLenList, commonRepeatInfo, positionDic, commonCount)\n",
    "commonPositionDic = commonPositionListToDic(commonPositionList)\n",
    "# printCommonPositionDic(commonPositionDic)"
   ]
  },
  {
   "cell_type": "code",
   "execution_count": 7,
   "id": "frank-wisdom",
   "metadata": {
    "tags": []
   },
   "outputs": [
    {
     "output_type": "stream",
     "name": "stdout",
     "text": "the top repeat sequence: (27, 27, 27, 27, 27),121\n"
    }
   ],
   "source": [
    "# the top common repeat sequence\n",
    "singleRepeatSeqCount, comRepeatSeqCount = topRepeatSeqCounter(fragmentsSeqList, commonRepeatInfo, positionDic, fragmentN)"
   ]
  },
  {
   "cell_type": "code",
   "execution_count": 8,
   "metadata": {
    "tags": []
   },
   "outputs": [
    {
     "output_type": "stream",
     "name": "stdout",
     "text": "+------------+-------+--------------------+\n|    Seq     | Count |   Percentage(%)    |\n+------------+-------+--------------------+\n| AGTGTAGTGT |   4   | 3.3057851239669422 |\n| AGTGTAGTGT |   3   | 2.479338842975207  |\n| AGTGTAGTGT |   3   | 2.479338842975207  |\n| AGTGTAGTGT |   3   | 2.479338842975207  |\n| AGTGTAGTGT |   3   | 2.479338842975207  |\n| AGTGTAGTGT |   3   | 2.479338842975207  |\n| ACCGTGGAGA |   2   | 1.6528925619834711 |\n| AGTGTAGTGT |   2   | 1.6528925619834711 |\n| AGTGTAGTGT |   2   | 1.6528925619834711 |\n| AGTGTAGTGT |   2   | 1.6528925619834711 |\n+------------+-------+--------------------+\n"
    }
   ],
   "source": [
    " printTopSeqPercentageTable(comRepeatSeqCount, showPartialSeq=True)"
   ]
  },
  {
   "cell_type": "code",
   "execution_count": 9,
   "metadata": {},
   "outputs": [
    {
     "output_type": "execute_result",
     "data": {
      "text/plain": "(27, 27, 27, 27, 27)"
     },
     "metadata": {},
     "execution_count": 9
    }
   ],
   "source": [
    "topRepeatSeqKey = commonRepeatInfo[0][0]\n",
    "topKeySum = sum(list(topRepeatSeqKey))\n",
    "tolerance = topKeySum *0.05\n",
    "topRepeatSeqKey"
   ]
  },
  {
   "cell_type": "code",
   "execution_count": 15,
   "metadata": {},
   "outputs": [
    {
     "output_type": "execute_result",
     "data": {
      "text/plain": "[(28, 28, 28, 28, 28),\n (27, 27, 24, 27, 27),\n (27, 24, 27, 27, 27),\n (24, 27, 27, 27, 27),\n (27, 27, 27, 27, 27),\n (27, 27, 27, 27, 26),\n (27, 27, 27, 26, 27),\n (27, 27, 26, 27, 27),\n (27, 26, 27, 27, 27),\n (26, 27, 27, 27, 27)]"
     },
     "metadata": {},
     "execution_count": 15
    }
   ],
   "source": [
    "positionKeys = list(positionDic.keys())\n",
    "\n",
    "matchKeys = []\n",
    "for i in range(len(positionKeys)):\n",
    "    temKey = positionKeys[i]\n",
    "    for j in range(fragmentN):\n",
    "        flag = 1\n",
    "        if abs(topRepeatSeqKey[j]- temKey[j]) >= tolerance:\n",
    "            flag = -1\n",
    "            break\n",
    "    if flag == 1:\n",
    "        matchKeys.append(temKey)\n",
    "\n",
    "matchKeys[:10]"
   ]
  },
  {
   "cell_type": "code",
   "execution_count": 11,
   "metadata": {},
   "outputs": [],
   "source": [
    "matchLenList = []\n",
    "for i in range(len(matchKeys)):\n",
    "    matchLenList.append(positionDic[matchKeys[i]])"
   ]
  },
  {
   "cell_type": "code",
   "execution_count": 12,
   "metadata": {
    "tags": []
   },
   "outputs": [],
   "source": [
    "flattenMatchSeq = [ j for subset in matchLenList for j in subset ]\n",
    "candidatePoiDic = dict()\n",
    "[ candidatePoiDic [t[0]].append(t[1]) if t [0] in list(candidatePoiDic.keys()) else candidatePoiDic.update({t [0]: [t [1]]}) for t in flattenMatchSeq ]\n",
    "sortedCandidatePoiDic = OrderedDict(sorted(candidatePoiDic.items()))"
   ]
  },
  {
   "cell_type": "code",
   "execution_count": 13,
   "metadata": {
    "tags": []
   },
   "outputs": [],
   "source": [
    "matchSeqDic = dict()\n",
    "for i in sortedCandidatePoiDic:\n",
    "    chrIndex = i\n",
    "    matchList = []\n",
    "    for j in range(len(sortedCandidatePoiDic[chrIndex])):\n",
    "        startIndex = sortedCandidatePoiDic[chrIndex][j]\n",
    "        combinedSeq = Seq('').join(fragmentsSeqList[chrIndex][startIndex:startIndex+fragmentN])\n",
    "        matchList.append(combinedSeq)\n",
    "    matchSeqDic[chrIndex] = matchList"
   ]
  },
  {
   "cell_type": "code",
   "execution_count": 17,
   "metadata": {},
   "outputs": [
    {
     "output_type": "execute_result",
     "data": {
      "text/plain": "Alignment(seqA='TGCGgtaaacaccctaacaaccaaaaTATG-CGgtaaacaccctaacaaccaaaaTATACG--gtaaacaccctaacaaccaaaaTATGCAgtaaacaccctaacaaccaaaa----TATGCAgtaaacaccctaacaacctAAA----TA', seqB='TGCGgtaaacaccctaacaaccaaaaTAT-ACGgtaaacaccctaacaaccaaaaTAT--GCAgtaaacaccctaacaaccaaaaTATGCAgtaaacaccctaacaacc----tAAATATGCAgtaaacaccctaacaacc----aaaaTA', score=129.0, start=0, end=151)"
     },
     "metadata": {},
     "execution_count": 17
    }
   ],
   "source": [
    "alignments = pairwise2.align.globalxx(matchSeqDic[0][0], matchSeqDic[0][1])\n",
    "alignments[0]"
   ]
  },
  {
   "cell_type": "code",
   "execution_count": 24,
   "metadata": {
    "tags": []
   },
   "outputs": [
    {
     "output_type": "stream",
     "name": "stdout",
     "text": "Seq1:TGCGgtaaacaccctaacaaccaaaaTATG-CGgtaaacaccctaacaaccaaaaTATACG--gtaaacaccctaacaaccaaaaTATGCAgtaaacaccctaacaaccaaaa----TATGCAgtaaacaccctaacaacctAAA----TA\n\nSeq2:TGCGgtaaacaccctaacaaccaaaaTAT-ACGgtaaacaccctaacaaccaaaaTAT--GCAgtaaacaccctaacaaccaaaaTATGCAgtaaacaccctaacaacc----tAAATATGCAgtaaacaccctaacaacc----aaaaTA\n\nlength:151, score:129\n"
    }
   ],
   "source": [
    "print(f\"Seq1:{alignments[0][0]}\\n\\nSeq2:{alignments[0][1]}\\n\\nlength:{len(alignments[0][0])}, score:{int(alignments[0][2])}\")"
   ]
  },
  {
   "cell_type": "code",
   "execution_count": null,
   "metadata": {},
   "outputs": [],
   "source": [
    "N = 5\n",
    "cutter = \"GATC\"\n",
    "fragmentLength = [ 27, 27, 27, 27, 27 ]\n",
    "tolerance = sum(fragmentLength) *0.05\n",
    "matchLenList = [ if(fragmentLength[i]-candidateLength[i] <= tolerance) ]\n",
    "# matchLenList = [(28, 28, 28, 28, 28), (24, 27, 27, 27, 27), (27, 27, 27, 27, 26), (27, 27, 27, 26, 27)...]\n",
    "alignment(fragmentLength, matchLenList[i]) # dynamic programming "
   ]
  },
  {
   "cell_type": "code",
   "execution_count": null,
   "metadata": {},
   "outputs": [],
   "source": []
  }
 ],
 "metadata": {
  "kernelspec": {
   "display_name": "Python 3",
   "language": "python",
   "name": "python3"
  },
  "language_info": {
   "codemirror_mode": {
    "name": "ipython",
    "version": 3
   },
   "file_extension": ".py",
   "mimetype": "text/x-python",
   "name": "python",
   "nbconvert_exporter": "python",
   "pygments_lexer": "ipython3",
   "version": "3.8.1-final"
  }
 },
 "nbformat": 4,
 "nbformat_minor": 5
}