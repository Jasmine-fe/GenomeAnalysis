{
 "cells": [
  {
   "cell_type": "code",
   "execution_count": 91,
   "id": "ruled-catch",
   "metadata": {
    "scrolled": true,
    "tags": []
   },
   "outputs": [],
   "source": [
    "import sys\n",
    "import re\n",
    "import time\n",
    "import timeit\n",
    "import random\n",
    "import pandas as pd \n",
    "import numpy as np \n",
    "import matplotlib.pyplot as plt\n",
    "import statistics\n",
    "%matplotlib inline\n",
    "\n",
    "from Bio import SeqIO, pairwise2\n",
    "from Bio.Seq import Seq\n",
    "from Bio.SeqIO.FastaIO import FastaIterator\n",
    "from Bio.pairwise2 import format_alignment\n",
    "from collections import Counter, OrderedDict, namedtuple\n",
    "from itertools import islice, groupby, permutations\n",
    "from prettytable import PrettyTable\n",
    "\n",
    "import import_ipynb\n",
    "from Util import seqInfo, parseFasta, parseSeq, parseSeqByCutter, unifragmentList, fragmentLenPlot\n",
    "from RepeatFinder import findRepeatSeqs, commonRepeatTable, commonRepeatSeqsPosition, commonPositionListToDic, printCommonPositionDic, topRepeatSeqCounter, printTopSeqPercentageTable\n",
    "from DataInfo import currDataset, datasetPath, matchPattern, cutter, cutterLen, fragmentN, commonCount"
   ]
  },
  {
   "cell_type": "code",
   "execution_count": 2,
   "metadata": {
    "tags": []
   },
   "outputs": [
    {
     "output_type": "stream",
     "name": "stdout",
     "text": "...start parsing DanioRerio.fasta fasta file ...\n...cost20.00064492225647 sec to parse fasta file ...\nDanioRerio.fasta dataset\n number of sequence:1922\n total length:1679186873\n\n"
    }
   ],
   "source": [
    "# parse fasta file & data info\n",
    "parseFastaSeqs = parseFasta(currDataset, datasetPath, matchPattern, False)\n",
    "seqInfo(currDataset, parseFastaSeqs)"
   ]
  },
  {
   "cell_type": "code",
   "execution_count": 3,
   "id": "happy-evening",
   "metadata": {
    "scrolled": true,
    "tags": []
   },
   "outputs": [
    {
     "output_type": "stream",
     "name": "stdout",
     "text": "...start parse seq by cutter: GATC\n...cost 22.097705841064453 sec to cut sequence\n"
    }
   ],
   "source": [
    "fragmentsLenList, fragmentsSeqList = parseSeqByCutter(parseFastaSeqs)"
   ]
  },
  {
   "cell_type": "code",
   "execution_count": 11,
   "id": "latin-audio",
   "metadata": {
    "scrolled": true,
    "tags": []
   },
   "outputs": [
    {
     "output_type": "stream",
     "name": "stdout",
     "text": "... start finding repeat seq ...\n...cost11.525821924209595 sec to finding repeat seq  ...\n"
    }
   ],
   "source": [
    "allRepeatSeqInfo, commonRepeatInfo, repeatCount, positionDic = findRepeatSeqs(fragmentsLenList, cutter , fragmentN, commonCount)"
   ]
  },
  {
   "cell_type": "code",
   "execution_count": 5,
   "metadata": {
    "tags": []
   },
   "outputs": [
    {
     "output_type": "stream",
     "name": "stdout",
     "text": "+-----------------------------+-------+\n|         FragmentLen         | Count |\n+-----------------------------+-------+\n|     (27, 27, 27, 27, 27)    |  121  |\n|     (10, 10, 10, 10, 10)    |   87  |\n|     (14, 14, 14, 14, 14)    |   87  |\n|     (12, 12, 12, 12, 12)    |   74  |\n|     (28, 28, 28, 28, 28)    |   54  |\n|     (40, 40, 40, 40, 40)    |   40  |\n|      (2, 41, 2, 41, 2)      |   40  |\n|      (41, 2, 41, 2, 41)     |   40  |\n|     (21, 21, 21, 21, 21)    |   37  |\n|       (2, 2, 2, 2, 2)       |   36  |\n|     (31, 31, 31, 31, 31)    |   36  |\n| (124, 1959, 124, 1959, 124) |   34  |\n|   (16, 161, 35, 267, 184)   |   33  |\n|     (33, 33, 33, 33, 33)    |   33  |\n|     (22, 22, 22, 22, 22)    |   33  |\n|     (35, 35, 35, 35, 35)    |   33  |\n|      (5, 41, 5, 41, 5)      |   32  |\n|    (43, 16, 161, 35, 267)   |   32  |\n|     (15, 15, 15, 15, 15)    |   30  |\n|     (24, 24, 24, 24, 24)    |   30  |\n+-----------------------------+-------+\n"
    }
   ],
   "source": [
    "commonRepeatTable(commonRepeatInfo, positionDic, commonCount)"
   ]
  },
  {
   "cell_type": "code",
   "execution_count": 26,
   "metadata": {},
   "outputs": [
    {
     "output_type": "execute_result",
     "data": {
      "text/plain": "[((2, 8, 32, 8, 2), 2),\n ((389, 358, 21, 103, 2), 4),\n ((232, 179, 52, 733, 505), 2),\n ((179, 52, 733, 505, 341), 2),\n ((52, 733, 505, 341, 212), 2),\n ((733, 505, 341, 212, 89), 2),\n ((505, 341, 212, 89, 383), 2),\n ((341, 212, 89, 383, 638), 2),\n ((212, 89, 383, 638, 1331), 2),\n ((31, 156, 86, 243, 100), 2),\n ((156, 86, 243, 100, 419), 2),\n ((86, 243, 100, 419, 128), 2)]"
     },
     "metadata": {},
     "execution_count": 26
    }
   ],
   "source": [
    "allRepeatSeqInfo = [(k, v) for k, v in allRepeatSeqInfo.items()]"
   ]
  },
  {
   "cell_type": "code",
   "execution_count": 86,
   "metadata": {},
   "outputs": [],
   "source": [
    "# return each SeqRepeatInfo of List, SeqRepeatInfo[ fragmentLenList, count, position: (chrIdx, fragmentIdx, baseIdx, seq) ]\n",
    "\n",
    "def integrateRepeatInfo(fragmentsLenList, allRepeatSeqInfo, positionDic, repeatCount):\n",
    "    SeqRepeatInfo = namedtuple('SeqRepeatInfo', ['fragmentLenList', 'count', 'position'])\n",
    "    PositionInfo = namedtuple('PositionInfo', ['chrIdx', 'fragmentIdx', 'baseIdx', 'seq'])\n",
    "    repeatInfoList = []\n",
    "    for i in range(repeatCount):\n",
    "        positionList = []\n",
    "        targetFragmentLenList = allRepeatSeqInfo[i][0]\n",
    "        targetFragmentDic = positionDic[targetFragmentLenList]\n",
    "        for j in range(len(targetFragmentDic)):\n",
    "            chrIdx = targetFragmentDic[j][0]\n",
    "            fragmentIdx = targetFragmentDic[j][1]\n",
    "            baseIdx = sum(fragmentsLenList[chrIndex][:fragmentIdx])+(cutterLen*fragmentIdx)\n",
    "            seq = Seq('').join(fragmentsSeqList[chrIdx][fragmentIdx:fragmentIdx+fragmentN])\n",
    "            positionList.append(PositionInfo(chrIdx, fragmentIdx, baseIdx, seq))\n",
    "        repeatInfoList.append(SeqRepeatInfo(lenData, countData, positionList))\n",
    "    return repeatInfoList"
   ]
  },
  {
   "cell_type": "code",
   "execution_count": 87,
   "metadata": {},
   "outputs": [],
   "source": [
    "# From testing\n",
    "repeatCount = len(allRepeatSeq)\n",
    "repeatCount = 10\n",
    "repeatInfoList = integrateRepeatInfo(fragmentsLenList, allRepeatSeqInfo, positionDic, repeatCount)"
   ]
  },
  {
   "cell_type": "code",
   "execution_count": 90,
   "metadata": {},
   "outputs": [
    {
     "output_type": "execute_result",
     "data": {
      "text/plain": "SeqRepeatInfo(fragmentLenList=(33, 146, 88, 580, 260), count=2, position=[PositionInfo(chrIdx=0, fragmentIdx=59, baseIdx=47584, seq=Seq('CTCTGCTCCTCTGCTCCTGCTCTTGCTCCTGCTCTTGCTCCTCTGCTCCTCT')), PositionInfo(chrIdx=5, fragmentIdx=5725, baseIdx=4012956, seq=Seq('TGCAGCTCATTGGCTTGTGCTCTGGTTCAGGCACTTGATATGAGGCTCTCTG'))])"
     },
     "metadata": {},
     "execution_count": 90
    }
   ],
   "source": [
    "repeatInfoList[0]"
   ]
  },
  {
   "cell_type": "code",
   "execution_count": 115,
   "metadata": {},
   "outputs": [],
   "source": [
    "seqPermutationList = []\n",
    "for i in range (len(repeatInfoList)):\n",
    "    perm = permutations(repeatInfoList[i].position, 2) \n",
    "    seqPermutationList.append(perm)"
   ]
  },
  {
   "cell_type": "code",
   "execution_count": 116,
   "metadata": {
    "tags": []
   },
   "outputs": [
    {
     "output_type": "stream",
     "name": "stdout",
     "text": "[(PositionInfo(chrIdx=0, fragmentIdx=59, baseIdx=47584, seq=Seq('CTCTGCTCCTCTGCTCCTGCTCTTGCTCCTGCTCTTGCTCCTCTGCTCCTCT')), PositionInfo(chrIdx=5, fragmentIdx=5725, baseIdx=4012956, seq=Seq('TGCAGCTCATTGGCTTGTGCTCTGGTTCAGGCACTTGATATGAGGCTCTCTG'))), (PositionInfo(chrIdx=5, fragmentIdx=5725, baseIdx=4012956, seq=Seq('TGCAGCTCATTGGCTTGTGCTCTGGTTCAGGCACTTGATATGAGGCTCTCTG')), PositionInfo(chrIdx=0, fragmentIdx=59, baseIdx=47584, seq=Seq('CTCTGCTCCTCTGCTCCTGCTCTTGCTCCTGCTCTTGCTCCTCTGCTCCTCT')))]\n[(PositionInfo(chrIdx=0, fragmentIdx=241, baseIdx=95776, seq=Seq('AGCTAAACCATTTAGATATCCCAATACAATTAAATGAGTTaacagaaaaattaa...AAT')), PositionInfo(chrIdx=6, fragmentIdx=34246, baseIdx=26093270, seq=Seq('AGCTAAACCATTTAGATATCCCAATACAATTAAATGAGTTaacagaaaaattaa...AAT'))), (PositionInfo(chrIdx=0, fragmentIdx=241, baseIdx=95776, seq=Seq('AGCTAAACCATTTAGATATCCCAATACAATTAAATGAGTTaacagaaaaattaa...AAT')), PositionInfo(chrIdx=7, fragmentIdx=17718, baseIdx=13390355, seq=Seq('AGCTAAACCATTTAGATGTCCCAATACAATTAAATGAGTTaacagaaaaattaa...AAT'))), (PositionInfo(chrIdx=0, fragmentIdx=241, baseIdx=95776, seq=Seq('AGCTAAACCATTTAGATATCCCAATACAATTAAATGAGTTaacagaaaaattaa...AAT')), PositionInfo(chrIdx=1662, fragmentIdx=106, baseIdx=61637, seq=Seq('AGCTAAACCATTTAGATGTCCCAATACAATTAAATGAGTTAACAGAAAAATTTa...AAT'))), (PositionInfo(chrIdx=6, fragmentIdx=34246, baseIdx=26093270, seq=Seq('AGCTAAACCATTTAGATATCCCAATACAATTAAATGAGTTaacagaaaaattaa...AAT')), PositionInfo(chrIdx=0, fragmentIdx=241, baseIdx=95776, seq=Seq('AGCTAAACCATTTAGATATCCCAATACAATTAAATGAGTTaacagaaaaattaa...AAT'))), (PositionInfo(chrIdx=6, fragmentIdx=34246, baseIdx=26093270, seq=Seq('AGCTAAACCATTTAGATATCCCAATACAATTAAATGAGTTaacagaaaaattaa...AAT')), PositionInfo(chrIdx=7, fragmentIdx=17718, baseIdx=13390355, seq=Seq('AGCTAAACCATTTAGATGTCCCAATACAATTAAATGAGTTaacagaaaaattaa...AAT'))), (PositionInfo(chrIdx=6, fragmentIdx=34246, baseIdx=26093270, seq=Seq('AGCTAAACCATTTAGATATCCCAATACAATTAAATGAGTTaacagaaaaattaa...AAT')), PositionInfo(chrIdx=1662, fragmentIdx=106, baseIdx=61637, seq=Seq('AGCTAAACCATTTAGATGTCCCAATACAATTAAATGAGTTAACAGAAAAATTTa...AAT'))), (PositionInfo(chrIdx=7, fragmentIdx=17718, baseIdx=13390355, seq=Seq('AGCTAAACCATTTAGATGTCCCAATACAATTAAATGAGTTaacagaaaaattaa...AAT')), PositionInfo(chrIdx=0, fragmentIdx=241, baseIdx=95776, seq=Seq('AGCTAAACCATTTAGATATCCCAATACAATTAAATGAGTTaacagaaaaattaa...AAT'))), (PositionInfo(chrIdx=7, fragmentIdx=17718, baseIdx=13390355, seq=Seq('AGCTAAACCATTTAGATGTCCCAATACAATTAAATGAGTTaacagaaaaattaa...AAT')), PositionInfo(chrIdx=6, fragmentIdx=34246, baseIdx=26093270, seq=Seq('AGCTAAACCATTTAGATATCCCAATACAATTAAATGAGTTaacagaaaaattaa...AAT'))), (PositionInfo(chrIdx=7, fragmentIdx=17718, baseIdx=13390355, seq=Seq('AGCTAAACCATTTAGATGTCCCAATACAATTAAATGAGTTaacagaaaaattaa...AAT')), PositionInfo(chrIdx=1662, fragmentIdx=106, baseIdx=61637, seq=Seq('AGCTAAACCATTTAGATGTCCCAATACAATTAAATGAGTTAACAGAAAAATTTa...AAT'))), (PositionInfo(chrIdx=1662, fragmentIdx=106, baseIdx=61637, seq=Seq('AGCTAAACCATTTAGATGTCCCAATACAATTAAATGAGTTAACAGAAAAATTTa...AAT')), PositionInfo(chrIdx=0, fragmentIdx=241, baseIdx=95776, seq=Seq('AGCTAAACCATTTAGATATCCCAATACAATTAAATGAGTTaacagaaaaattaa...AAT'))), (PositionInfo(chrIdx=1662, fragmentIdx=106, baseIdx=61637, seq=Seq('AGCTAAACCATTTAGATGTCCCAATACAATTAAATGAGTTAACAGAAAAATTTa...AAT')), PositionInfo(chrIdx=6, fragmentIdx=34246, baseIdx=26093270, seq=Seq('AGCTAAACCATTTAGATATCCCAATACAATTAAATGAGTTaacagaaaaattaa...AAT'))), (PositionInfo(chrIdx=1662, fragmentIdx=106, baseIdx=61637, seq=Seq('AGCTAAACCATTTAGATGTCCCAATACAATTAAATGAGTTAACAGAAAAATTTa...AAT')), PositionInfo(chrIdx=7, fragmentIdx=17718, baseIdx=13390355, seq=Seq('AGCTAAACCATTTAGATGTCCCAATACAATTAAATGAGTTaacagaaaaattaa...AAT')))]\n[(PositionInfo(chrIdx=0, fragmentIdx=964, baseIdx=359118, seq=Seq('CTTTATTTGCAACTCCCAGCAAAAGTCCACcgggaaagaagaaaaaagagaGTG...ACA')), PositionInfo(chrIdx=1019, fragmentIdx=234, baseIdx=93437, seq=Seq('CTTTATTTGCAACTCCCAGCAAAAGTCCACcgggaaagaagaaaaaagagaGTG...ACA'))), (PositionInfo(chrIdx=1019, fragmentIdx=234, baseIdx=93437, seq=Seq('CTTTATTTGCAACTCCCAGCAAAAGTCCACcgggaaagaagaaaaaagagaGTG...ACA')), PositionInfo(chrIdx=0, fragmentIdx=964, baseIdx=359118, seq=Seq('CTTTATTTGCAACTCCCAGCAAAAGTCCACcgggaaagaagaaaaaagagaGTG...ACA')))]\n[(PositionInfo(chrIdx=0, fragmentIdx=965, baseIdx=359138, seq=Seq('GGTAAGGCTGAATCATCAATACACCACATGCAACAGGAAAATACTTCTCTAAAG...GAT')), PositionInfo(chrIdx=1019, fragmentIdx=235, baseIdx=93561, seq=Seq('GGTAAGGCTGAATCATCAATACACCACATGCAACAGGAAAATACTTCTCTAAAG...GAT'))), (PositionInfo(chrIdx=1019, fragmentIdx=235, baseIdx=93561, seq=Seq('GGTAAGGCTGAATCATCAATACACCACATGCAACAGGAAAATACTTCTCTAAAG...GAT')), PositionInfo(chrIdx=0, fragmentIdx=965, baseIdx=359138, seq=Seq('GGTAAGGCTGAATCATCAATACACCACATGCAACAGGAAAATACTTCTCTAAAG...GAT')))]\n[(PositionInfo(chrIdx=0, fragmentIdx=966, baseIdx=360709, seq=Seq('AAGGACAAATTGGAGGATGCTGTGGATGTGGTTCATCGTGTAGGCAAACAACGG...TCA')), PositionInfo(chrIdx=1019, fragmentIdx=236, baseIdx=93885, seq=Seq('AAGGACAAATTGGAGGATGCTGTGGATGTGGTTCATCGTGTAGGCAAACAACGG...TCA'))), (PositionInfo(chrIdx=1019, fragmentIdx=236, baseIdx=93885, seq=Seq('AAGGACAAATTGGAGGATGCTGTGGATGTGGTTCATCGTGTAGGCAAACAACGG...TCA')), PositionInfo(chrIdx=0, fragmentIdx=966, baseIdx=360709, seq=Seq('AAGGACAAATTGGAGGATGCTGTGGATGTGGTTCATCGTGTAGGCAAACAACGG...TCA')))]\n[(PositionInfo(chrIdx=0, fragmentIdx=967, baseIdx=361309, seq=Seq('GGATGGTTCATCGCGTCATATCATTATACGGTTCGCGACAAGGAGACACCGCGA...TCT')), PositionInfo(chrIdx=1019, fragmentIdx=237, baseIdx=94076, seq=Seq('GGATGGTTCATCGCGTCATATCATTATACGGTTCGCGACAAGGAGACACCGCGA...TCT'))), (PositionInfo(chrIdx=1019, fragmentIdx=237, baseIdx=94076, seq=Seq('GGATGGTTCATCGCGTCATATCATTATACGGTTCGCGACAAGGAGACACCGCGA...TCT')), PositionInfo(chrIdx=0, fragmentIdx=967, baseIdx=361309, seq=Seq('GGATGGTTCATCGCGTCATATCATTATACGGTTCGCGACAAGGAGACACCGCGA...TCT')))]\n[(PositionInfo(chrIdx=0, fragmentIdx=968, baseIdx=361595, seq=Seq('AAATAAATCTGCTGGGGTTCTTATATTAATTCATAAGTTTAAAGGAGAAATTAT...TTT')), PositionInfo(chrIdx=1019, fragmentIdx=238, baseIdx=94312, seq=Seq('AAATAAATCTGCTGGGGTTCTTATATTAATTCATAAGTTTAAAGGAGAAATTAT...TTT'))), (PositionInfo(chrIdx=1019, fragmentIdx=238, baseIdx=94312, seq=Seq('AAATAAATCTGCTGGGGTTCTTATATTAATTCATAAGTTTAAAGGAGAAATTAT...TTT')), PositionInfo(chrIdx=0, fragmentIdx=968, baseIdx=361595, seq=Seq('AAATAAATCTGCTGGGGTTCTTATATTAATTCATAAGTTTAAAGGAGAAATTAT...TTT')))]\n[(PositionInfo(chrIdx=0, fragmentIdx=969, baseIdx=362649, seq=Seq('ACCTTATGATTAACATGTCTCTGCAGACAGCTCGTAACTTAAATAGCCTTCGTG...AGA')), PositionInfo(chrIdx=1019, fragmentIdx=239, baseIdx=94443, seq=Seq('ACCTTATGATTAACATGTCTCTACAGACAGCTCGTAACTTAAATAGCCTTCGTG...AGA'))), (PositionInfo(chrIdx=1019, fragmentIdx=239, baseIdx=94443, seq=Seq('ACCTTATGATTAACATGTCTCTACAGACAGCTCGTAACTTAAATAGCCTTCGTG...AGA')), PositionInfo(chrIdx=0, fragmentIdx=969, baseIdx=362649, seq=Seq('ACCTTATGATTAACATGTCTCTGCAGACAGCTCGTAACTTAAATAGCCTTCGTG...AGA')))]\n[(PositionInfo(chrIdx=0, fragmentIdx=970, baseIdx=364241, seq=Seq('TATATACTAATAAGGTGAATGGGGCTTTTGTACGTTCAAGAGCTAAATGGATAG...TCT')), PositionInfo(chrIdx=1019, fragmentIdx=240, baseIdx=95696, seq=Seq('TATATACTAATAAGGTGAATGGGGCTTTTGTACGTTCAAGAGCTAAATGGATAG...TCT'))), (PositionInfo(chrIdx=1019, fragmentIdx=240, baseIdx=95696, seq=Seq('TATATACTAATAAGGTGAATGGGGCTTTTGTACGTTCAAGAGCTAAATGGATAG...TCT')), PositionInfo(chrIdx=0, fragmentIdx=970, baseIdx=364241, seq=Seq('TATATACTAATAAGGTGAATGGGGCTTTTGTACGTTCAAGAGCTAAATGGATAG...TCT')))]\n[(PositionInfo(chrIdx=0, fragmentIdx=1584, baseIdx=741213, seq=Seq('CCCTATAGTGGAACAGAGAGCTGATTTTAGAGTATCTCTCTTTCCCAACAGCCC...TAG')), PositionInfo(chrIdx=655, fragmentIdx=135, baseIdx=62639, seq=Seq('CCCTATAGTGGAACAGAGAGCTGATTTTAGAGTATCTCTCTTTCCCAACAGCCC...TAG'))), (PositionInfo(chrIdx=655, fragmentIdx=135, baseIdx=62639, seq=Seq('CCCTATAGTGGAACAGAGAGCTGATTTTAGAGTATCTCTCTTTCCCAACAGCCC...TAG')), PositionInfo(chrIdx=0, fragmentIdx=1584, baseIdx=741213, seq=Seq('CCCTATAGTGGAACAGAGAGCTGATTTTAGAGTATCTCTCTTTCCCAACAGCCC...TAG')))]\n"
    }
   ],
   "source": [
    "for i in seqPermutationList:\n",
    "    print(list(i))"
   ]
  },
  {
   "cell_type": "code",
   "execution_count": null,
   "metadata": {},
   "outputs": [],
   "source": [
    "# How to use “seqPermutationList”, Permutation to handle compare sequence \n"
   ]
  },
  {
   "cell_type": "code",
   "execution_count": null,
   "metadata": {},
   "outputs": [],
   "source": []
  },
  {
   "cell_type": "code",
   "execution_count": null,
   "metadata": {},
   "outputs": [],
   "source": []
  },
  {
   "cell_type": "code",
   "execution_count": 15,
   "metadata": {},
   "outputs": [
    {
     "output_type": "execute_result",
     "data": {
      "text/plain": "[(28, 28, 28, 28, 28),\n (27, 27, 24, 27, 27),\n (27, 24, 27, 27, 27),\n (24, 27, 27, 27, 27),\n (27, 27, 27, 27, 27),\n (27, 27, 27, 27, 26),\n (27, 27, 27, 26, 27),\n (27, 27, 26, 27, 27),\n (27, 26, 27, 27, 27),\n (26, 27, 27, 27, 27)]"
     },
     "metadata": {},
     "execution_count": 15
    }
   ],
   "source": [
    "topRepeatSeqKey = commonRepeatInfo[0][0]\n",
    "topKeySum = sum(list(topRepeatSeqKey))\n",
    "tolerance = topKeySum *0.05\n",
    "topRepeatSeqKey\n",
    "\n",
    "positionKeys = list(positionDic.keys())\n",
    "\n",
    "matchKeys = []\n",
    "for i in range(len(positionKeys)):\n",
    "    temKey = positionKeys[i]\n",
    "    for j in range(fragmentN):\n",
    "        flag = 1\n",
    "        if abs(topRepeatSeqKey[j]- temKey[j]) >= tolerance:\n",
    "            flag = -1\n",
    "            break\n",
    "    if flag == 1:\n",
    "        matchKeys.append(temKey)\n",
    "\n",
    "matchKeys[:10]"
   ]
  },
  {
   "cell_type": "code",
   "execution_count": 11,
   "metadata": {},
   "outputs": [],
   "source": [
    "matchLenList = []\n",
    "for i in range(len(matchKeys)):\n",
    "    matchLenList.append(positionDic[matchKeys[i]])"
   ]
  },
  {
   "cell_type": "code",
   "execution_count": 12,
   "metadata": {
    "tags": []
   },
   "outputs": [],
   "source": [
    "flattenMatchSeq = [ j for subset in matchLenList for j in subset ]\n",
    "candidatePoiDic = dict()\n",
    "[ candidatePoiDic [t[0]].append(t[1]) if t [0] in list(candidatePoiDic.keys()) else candidatePoiDic.update({t [0]: [t [1]]}) for t in flattenMatchSeq ]\n",
    "sortedCandidatePoiDic = OrderedDict(sorted(candidatePoiDic.items()))\n",
    "\n"
   ]
  },
  {
   "cell_type": "code",
   "execution_count": 13,
   "metadata": {
    "tags": []
   },
   "outputs": [],
   "source": [
    "matchSeqDic = dict()\n",
    "for i in sortedCandidatePoiDic:\n",
    "    chrIndex = i\n",
    "    matchList = []\n",
    "    for j in range(len(sortedCandidatePoiDic[chrIndex])):\n",
    "        startIndex = sortedCandidatePoiDic[chrIndex][j]\n",
    "        combinedSeq = Seq('').join(fragmentsSeqList[chrIndex][startIndex:startIndex+fragmentN])\n",
    "        matchList.append(combinedSeq)\n",
    "    matchSeqDic[chrIndex] = matchList"
   ]
  },
  {
   "cell_type": "code",
   "execution_count": 17,
   "metadata": {},
   "outputs": [
    {
     "output_type": "execute_result",
     "data": {
      "text/plain": "Alignment(seqA='TGCGgtaaacaccctaacaaccaaaaTATG-CGgtaaacaccctaacaaccaaaaTATACG--gtaaacaccctaacaaccaaaaTATGCAgtaaacaccctaacaaccaaaa----TATGCAgtaaacaccctaacaacctAAA----TA', seqB='TGCGgtaaacaccctaacaaccaaaaTAT-ACGgtaaacaccctaacaaccaaaaTAT--GCAgtaaacaccctaacaaccaaaaTATGCAgtaaacaccctaacaacc----tAAATATGCAgtaaacaccctaacaacc----aaaaTA', score=129.0, start=0, end=151)"
     },
     "metadata": {},
     "execution_count": 17
    }
   ],
   "source": [
    "alignments = pairwise2.align.globalxx(matchSeqDic[0][0], matchSeqDic[0][1])\n",
    "alignments[0]"
   ]
  },
  {
   "cell_type": "code",
   "execution_count": 24,
   "metadata": {
    "tags": []
   },
   "outputs": [
    {
     "output_type": "stream",
     "name": "stdout",
     "text": "Seq1:TGCGgtaaacaccctaacaaccaaaaTATG-CGgtaaacaccctaacaaccaaaaTATACG--gtaaacaccctaacaaccaaaaTATGCAgtaaacaccctaacaaccaaaa----TATGCAgtaaacaccctaacaacctAAA----TA\n\nSeq2:TGCGgtaaacaccctaacaaccaaaaTAT-ACGgtaaacaccctaacaaccaaaaTAT--GCAgtaaacaccctaacaaccaaaaTATGCAgtaaacaccctaacaacc----tAAATATGCAgtaaacaccctaacaacc----aaaaTA\n\nlength:151, score:129\n"
    }
   ],
   "source": [
    "print(f\"Seq1:{alignments[0][0]}\\n\\nSeq2:{alignments[0][1]}\\n\\nlength:{len(alignments[0][0])}, score:{int(alignments[0][2])}\")"
   ]
  },
  {
   "cell_type": "code",
   "execution_count": null,
   "metadata": {},
   "outputs": [],
   "source": [
    "N = 5\n",
    "cutter = \"GATC\"\n",
    "fragmentLength = [ 27, 27, 27, 27, 27 ]\n",
    "tolerance = sum(fragmentLength) *0.05\n",
    "matchLenList = [ if(fragmentLength[i]-candidateLength[i] <= tolerance) ]\n",
    "# matchLenList = [(28, 28, 28, 28, 28), (24, 27, 27, 27, 27), (27, 27, 27, 27, 26), (27, 27, 27, 26, 27)...]\n",
    "alignment(fragmentLength, matchLenList[i]) # dynamic programming "
   ]
  },
  {
   "cell_type": "code",
   "execution_count": null,
   "metadata": {},
   "outputs": [],
   "source": [
    "# commonCount repeat sequences\n",
    "commonPositionList = commonRepeatSeqsPosition(fragmentsLenList, commonRepeatInfo, positionDic, commonCount)\n",
    "commonPositionDic = commonPositionListToDic(commonPositionList)\n",
    "# printCommonPositionDic(commonPositionDic)\n",
    "\n",
    "# the top common repeat sequence\n",
    "singleRepeatSeqCount, comRepeatSeqCount = topRepeatSeqCounter(fragmentsSeqList, commonRepeatInfo, positionDic, fragmentN)printTopSeqPercentageTable(comRepeatSeqCount, showPartialSeq=True)"
   ]
  }
 ],
 "metadata": {
  "kernelspec": {
   "display_name": "Python 3",
   "language": "python",
   "name": "python3"
  },
  "language_info": {
   "codemirror_mode": {
    "name": "ipython",
    "version": 3
   },
   "file_extension": ".py",
   "mimetype": "text/x-python",
   "name": "python",
   "nbconvert_exporter": "python",
   "pygments_lexer": "ipython3",
   "version": "3.8.1-final"
  }
 },
 "nbformat": 4,
 "nbformat_minor": 5
}