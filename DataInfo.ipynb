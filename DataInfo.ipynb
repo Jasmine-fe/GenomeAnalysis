{
 "metadata": {
  "language_info": {
   "codemirror_mode": {
    "name": "ipython",
    "version": 3
   },
   "file_extension": ".py",
   "mimetype": "text/x-python",
   "name": "python",
   "nbconvert_exporter": "python",
   "pygments_lexer": "ipython3",
   "version": "3.8.1-final"
  },
  "orig_nbformat": 2,
  "kernelspec": {
   "name": "python3",
   "display_name": "Python 3"
  }
 },
 "nbformat": 4,
 "nbformat_minor": 2,
 "cells": [
  {
   "cell_type": "code",
   "execution_count": 1,
   "metadata": {},
   "outputs": [],
   "source": [
    "# dataset\n",
    "weevilDataset = 'weevil.fa'\n",
    "humanDataset = 'hg38.fa'\n",
    "mouseDataset = 'mm39.fa'\n",
    "danioRerioDataset = 'DanioRerio.fasta'\n",
    "\n",
    "# match pattern\n",
    "humanPattern = \"^chr(?:\\d*|[A-Z]*)$\"\n",
    "weevilPattern = \"^weevil.scaffold\\d+\"\n",
    "fishPattern = \"^CM00\"\n",
    "\n",
    "# shared var\n",
    "currDataset = danioRerioDataset\n",
    "datasetPath = './dataset/' + currDataset\n",
    "matchPattern = fishPattern\n",
    "fragmentN = 5\n",
    "cutter = 'GATC'\n",
    "cutterLen = len(cutter)\n",
    "commonCount = 10"
   ]
  },
  {
   "cell_type": "code",
   "execution_count": null,
   "metadata": {},
   "outputs": [],
   "source": []
  }
 ]
}