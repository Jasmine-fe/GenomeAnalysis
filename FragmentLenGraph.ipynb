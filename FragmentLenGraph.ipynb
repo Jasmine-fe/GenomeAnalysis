{
 "metadata": {
  "language_info": {
   "codemirror_mode": {
    "name": "ipython",
    "version": 3
   },
   "file_extension": ".py",
   "mimetype": "text/x-python",
   "name": "python",
   "nbconvert_exporter": "python",
   "pygments_lexer": "ipython3",
   "version": "3.7.4-final"
  },
  "orig_nbformat": 2,
  "kernelspec": {
   "name": "python3",
   "display_name": "Python 3"
  }
 },
 "nbformat": 4,
 "nbformat_minor": 2,
 "cells": [
  {
   "cell_type": "code",
   "execution_count": 1,
   "metadata": {},
   "outputs": [],
   "source": [
    "import numpy as np \n",
    "import pandas as pd \n",
    "import networkx as nx"
   ]
  },
  {
   "cell_type": "code",
   "execution_count": null,
   "metadata": {},
   "outputs": [],
   "source": [
    "# Graph\n",
    "G = nx.DiGraph()\n",
    "lenList = [5, 25, 5, 25, 9, 5, 25, 10]\n",
    "edgeList = [(lenList[i], lenList[i+1]) for i in range(len(lenList)-1)]\n",
    "\n",
    "for idx in range(len(lenList)):\n",
    "    node = lenList[idx]\n",
    "    if node not in G:\n",
    "        G.add_node(node, count=1)\n",
    "    else:\n",
    "        G.nodes[node][\"count\"] += 1\n",
    "\n",
    "G.add_edges_from(edgeList)\n",
    "nx.draw(G, with_labels=True)\n",
    "# G.edges()\n",
    "edgeList\n",
    "\n",
    "# remove \n",
    "nodeData = G.nodes.data()\n",
    "copyNodeData = copy.deepcopy(nodeData)\n",
    "for node, data in copyNodeData:\n",
    "    count = data['count']\n",
    "    if count < 2:\n",
    "        G.remove_node(node)"
   ]
  }
 ]
}