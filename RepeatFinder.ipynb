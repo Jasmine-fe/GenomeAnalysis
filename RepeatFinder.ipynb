{
 "metadata": {
  "language_info": {
   "codemirror_mode": {
    "name": "ipython",
    "version": 3
   },
   "file_extension": ".py",
   "mimetype": "text/x-python",
   "name": "python",
   "nbconvert_exporter": "python",
   "pygments_lexer": "ipython3",
   "version": "3.8.1-final"
  },
  "orig_nbformat": 2,
  "kernelspec": {
   "name": "python3",
   "display_name": "Python 3"
  }
 },
 "nbformat": 4,
 "nbformat_minor": 2,
 "cells": [
  {
   "cell_type": "code",
   "execution_count": 1,
   "metadata": {},
   "outputs": [],
   "source": [
    "import sys\n",
    "import re\n",
    "import time\n",
    "import timeit\n",
    "import random\n",
    "import pandas as pd \n",
    "import numpy as np \n",
    "import matplotlib.pyplot as plt\n",
    "import statistics\n",
    "%matplotlib inline\n",
    "\n",
    "from Bio import SeqIO\n",
    "from Bio.Seq import Seq\n",
    "from Bio.SeqIO.FastaIO import FastaIterator\n",
    "from collections import Counter\n",
    "from itertools import islice, groupby\n",
    "from collections import Counter, namedtuple\n",
    "from prettytable import PrettyTable\n",
    "\n",
    "import import_ipynb\n",
    "from Util import parseSeq\n",
    "from DataInfo import currDataset, datasetPath, matchPattern, cutter, cutterLen, commonCount"
   ]
  },
  {
   "cell_type": "code",
   "execution_count": null,
   "metadata": {},
   "outputs": [],
   "source": [
    "def parseSeqByCutter(parseFastaSeqs): \n",
    "    fragmentsLenList = []\n",
    "    fragmentsSeqList = []\n",
    "    for seq in parseFastaSeqs:\n",
    "        targetNum, fragmentSeq, fragmentLength = parseSeq(seq, cutter)\n",
    "        fragmentsLenList.append(fragmentLength)\n",
    "        fragmentsSeqList.append(fragmentSeq)\n",
    "    return fragmentsLenList, fragmentsSeqList"
   ]
  },
  {
   "cell_type": "code",
   "execution_count": null,
   "metadata": {},
   "outputs": [],
   "source": [
    "# return common repeat sequence\n",
    "def findRepeatSeqs(fragmentsLenList, cutter , fragmentN, commonCount):\n",
    "    cutterLen = len(cutter)\n",
    "    repeatCount, positionDic = findRepeatSeq(fragmentsLenList, fragmentN , cutterLen)\n",
    "    commonRepeatInfo = repeatCount.most_common(commonCount)\n",
    "    return commonRepeatInfo, repeatCount, positionDic"
   ]
  },
  {
   "cell_type": "code",
   "execution_count": null,
   "metadata": {},
   "outputs": [],
   "source": [
    "def commonRepeatTable(commonRepeatInfo, positionDic, commonCount):\n",
    "    # compareTable = PrettyTable(['FragmentLen', 'Count', 'Position'])\n",
    "    compareTable = PrettyTable(['FragmentLen', 'Count'])\n",
    "    for i in range(commonCount):\n",
    "        fragmentLenValue = commonRepeatInfo[i][0]\n",
    "        count = commonRepeatInfo[i][1]\n",
    "        position = positionDic[fragmentLenValue]\n",
    "    #     compareTable.add_row([fragmentLenValue, count, position])\n",
    "        compareTable.add_row([fragmentLenValue, count])\n",
    "    print(compareTable)"
   ]
  },
  {
   "cell_type": "code",
   "execution_count": null,
   "metadata": {},
   "outputs": [],
   "source": [
    "# interspersed repeats finding, join count and position with seqCombination\n",
    "def findRepeatSeq(lenList, N, cutterLen):\n",
    "    print(f'... start finding repeat seq ...')\n",
    "    start = time.time()\n",
    "    positionDic = {}\n",
    "    repeatCount = Counter()\n",
    "    preIndex = 0\n",
    "    currentIndex = 0\n",
    "    for index, i in enumerate(lenList):\n",
    "        for j in range(len(i) - N + 1):\n",
    "            seqCombination = tuple(x for x in i[j:j+N])\n",
    "            repeatCount[seqCombination] += 1\n",
    "            if seqCombination in positionDic:  \n",
    "                positionDic.get(seqCombination).append(tuple([index, j]))   \n",
    "            else:\n",
    "                positionDic[seqCombination] = [tuple([index, j])]\n",
    "            \n",
    "    end = time.time() \n",
    "    print(f'...cost{ end-start } sec to finding repeat seq  ...')\n",
    "    return repeatCount, positionDic"
   ]
  },
  {
   "cell_type": "code",
   "execution_count": 2,
   "metadata": {},
   "outputs": [],
   "source": [
    "def commonRepeatSeqsPosition(fragmentsLenList, commonRepeatInfo, positionDic, commonCount):\n",
    "    positionList = []\n",
    "    for i in range(commonCount):\n",
    "        targetFragmentLenList = commonRepeatInfo[i][0]\n",
    "        targetFragmentDic = positionDic[targetFragmentLenList]\n",
    "        for j in range(len(targetFragmentDic)):\n",
    "            chrIndex = targetFragmentDic[j][0]\n",
    "            fragmentIndex = targetFragmentDic[j][1]\n",
    "            positionValue = sum(fragmentsLenList[chrIndex][:fragmentIndex])+(cutterLen*fragmentIndex)\n",
    "            positionList.append(tuple([chrIndex, positionValue]))\n",
    "    positionList.sort(key=lambda tup: tup[0])\n",
    "    return positionList"
   ]
  },
  {
   "cell_type": "code",
   "execution_count": 5,
   "metadata": {},
   "outputs": [],
   "source": [
    "# Repeat Position {chr i: startIndex1, startIndex2, startIndex3 ...}\n",
    "def commonPositionListToDic(commonPositionList):\n",
    "    commonPositionDic = dict()\n",
    "    [ commonPositionDic [t[0]].append(t [1]) if t [0] in list(commonPositionDic.keys()) else commonPositionDic.update({t [0]: [t [1]]}) for t in commonPositionList ]\n",
    "    return commonPositionDic"
   ]
  },
  {
   "cell_type": "code",
   "execution_count": 1,
   "metadata": {},
   "outputs": [],
   "source": [
    "def printCommonPositionDic(commonPositionDic):\n",
    "    keys = list(commonPositionDic.keys())\n",
    "    for i in range(len(keys)):\n",
    "        commonPositionDic[keys[i]].sort()\n",
    "        print(f\"\\n{keys[i]}:\\n{','.join( str(v) for v in commonPositionDic[keys[i]] )}\\n\")"
   ]
  },
  {
   "cell_type": "code",
   "execution_count": null,
   "metadata": {},
   "outputs": [],
   "source": [
    "def topRepeatSeqCounter(fragmentsSeqList, commonRepeatInfo, positionDic, fragmentN):\n",
    "    topRepeatValue = commonRepeatInfo[0][0]\n",
    "    topRepeatCount = commonRepeatInfo[0][1]\n",
    "    print(f\"the top repeat sequence: {topRepeatValue},{topRepeatCount}\")\n",
    "    topRepeatPosition = positionDic[topRepeatValue]\n",
    "    topOriginalRepeatSeqs = []\n",
    "    topCombinedRepeatSeqs = []\n",
    "    for i in range(len(topRepeatPosition)):\n",
    "        chrIndex, fragmentIndex = topRepeatPosition[i][0], topRepeatPosition[i][1]\n",
    "        originalSeq = fragmentsSeqList[chrIndex][fragmentIndex]\n",
    "        combinedSeq = Seq('').join(fragmentsSeqList[chrIndex][fragmentIndex:fragmentIndex+fragmentN])\n",
    "        topOriginalRepeatSeqs.append(originalSeq)\n",
    "        topCombinedRepeatSeqs.append(combinedSeq)\n",
    "    singleRepeatSeqCount = Counter(topOriginalRepeatSeqs)\n",
    "    comRepeatSeqCount = Counter(topCombinedRepeatSeqs)\n",
    "    return singleRepeatSeqCount, comRepeatSeqCount"
   ]
  },
  {
   "cell_type": "code",
   "execution_count": null,
   "metadata": {},
   "outputs": [],
   "source": [
    "def printTopSeqPercentageTable(repeatSeqCount, showPartialSeq=True):\n",
    "    repeatTable = PrettyTable(['Seq', 'Count', 'Percentage(%)'])\n",
    "    sumCount = sum(repeatSeqCount.values())\n",
    "    commonSeqs = repeatSeqCount.most_common(commonCount)\n",
    "    for i in range(commonCount):\n",
    "        currentSeq = showPartialSeq and commonSeqs[i][0][:10] or commonSeqs[i][0]\n",
    "        currentCount = commonSeqs[i][1]\n",
    "        currentPro = currentCount*100 / sumCount\n",
    "        repeatTable.add_row([currentSeq, currentCount, currentPro])\n",
    "    print(repeatTable)"
   ]
  }
 ]
}