{
 "metadata": {
  "language_info": {
   "codemirror_mode": {
    "name": "ipython",
    "version": 3
   },
   "file_extension": ".py",
   "mimetype": "text/x-python",
   "name": "python",
   "nbconvert_exporter": "python",
   "pygments_lexer": "ipython3",
   "version": "3.7.4-final"
  },
  "orig_nbformat": 2,
  "kernelspec": {
   "name": "python3",
   "display_name": "Python 3"
  }
 },
 "nbformat": 4,
 "nbformat_minor": 2,
 "cells": [
  {
   "cell_type": "code",
   "execution_count": 1,
   "metadata": {},
   "outputs": [],
   "source": [
    "from collections import namedtuple"
   ]
  },
  {
   "cell_type": "code",
   "execution_count": 2,
   "metadata": {},
   "outputs": [],
   "source": [
    "SeqRepeatInfo = namedtuple('SeqRepeatInfo', ['fragmentLenList', 'count', 'position'])\n",
    "PositionInfo = namedtuple('PositionInfo', ['chrIdx', 'fragmentIdx', 'baseIdx', 'seq'])\n",
    "RepeatEvaInfo = namedtuple('RepeatEvaInfo', ['score', 'length', 'mismatchRatio'])"
   ]
  }
 ]
}